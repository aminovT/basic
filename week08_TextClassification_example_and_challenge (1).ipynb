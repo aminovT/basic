{
 "cells": [
  {
   "cell_type": "code",
   "execution_count": 1,
   "metadata": {},
   "outputs": [],
   "source": [
    "import heapq\n",
    "import numpy as np\n",
    "import pandas as pd\n",
    "from matplotlib import pyplot as plt\n",
    "\n",
    "from sklearn.datasets import fetch_20newsgroups\n",
    "from sklearn.model_selection import StratifiedKFold\n",
    "\n",
    "%matplotlib inline"
   ]
  },
  {
   "cell_type": "markdown",
   "metadata": {},
   "source": [
    "# Задача классификации текстов\n",
    "\n",
    "Задача классификации текстов заключается в том, чтобы определить по документу его класс.\n",
    "В данном случае предлагается рассмотреть в качестве документов - письма, заранее отклассифицированных по 20 темам."
   ]
  },
  {
   "cell_type": "code",
   "execution_count": 2,
   "metadata": {},
   "outputs": [
    {
     "data": {
      "text/plain": [
       "['alt.atheism',\n",
       " 'comp.graphics',\n",
       " 'comp.os.ms-windows.misc',\n",
       " 'comp.sys.ibm.pc.hardware',\n",
       " 'comp.sys.mac.hardware',\n",
       " 'comp.windows.x',\n",
       " 'misc.forsale',\n",
       " 'rec.autos',\n",
       " 'rec.motorcycles',\n",
       " 'rec.sport.baseball',\n",
       " 'rec.sport.hockey',\n",
       " 'sci.crypt',\n",
       " 'sci.electronics',\n",
       " 'sci.med',\n",
       " 'sci.space',\n",
       " 'soc.religion.christian',\n",
       " 'talk.politics.guns',\n",
       " 'talk.politics.mideast',\n",
       " 'talk.politics.misc',\n",
       " 'talk.religion.misc']"
      ]
     },
     "execution_count": 2,
     "metadata": {},
     "output_type": "execute_result"
    }
   ],
   "source": [
    "all_categories = fetch_20newsgroups().target_names\n",
    "all_categories"
   ]
  },
  {
   "cell_type": "markdown",
   "metadata": {},
   "source": [
    "Возьмём всего 3 темы, но из одного раздела (документы из близких тем сложнее отличать друг от друга)"
   ]
  },
  {
   "cell_type": "code",
   "execution_count": 3,
   "metadata": {},
   "outputs": [],
   "source": [
    "categories = [\n",
    "    'sci.electronics',\n",
    "    'sci.space',\n",
    "    'sci.med'\n",
    "]\n",
    "\n",
    "train_data = fetch_20newsgroups(subset='train',\n",
    "                                categories=categories,\n",
    "                                remove=('headers', 'footers', 'quotes'))\n",
    "\n",
    "test_data = fetch_20newsgroups(subset='test',\n",
    "                               categories=categories,\n",
    "                               remove=('headers', 'footers', 'quotes'))"
   ]
  },
  {
   "cell_type": "markdown",
   "metadata": {},
   "source": [
    "## Векторизация текстов\n",
    "**Вопрос: как описать текстовые документы пространством признаков?**\n",
    "\n",
    "\n",
    "**Идея №1**: мешок слов (bag-of-words) - каждый документ или текст выглядит как неупорядоченный набор слов без сведений о связях между ними.\n",
    "<img src='https://st2.depositphotos.com/2454953/9959/i/450/depositphotos_99593622-stock-photo-holidays-travel-bag-word-cloud.jpg'>\n",
    "\n",
    "**Идея №2**: создаём вектор \"слов\", каждая компонента отвечает отдельному слову.\n",
    "\n",
    "Для векторизации текстов воспользуемся [CountVectorizer](https://scikit-learn.org/stable/modules/generated/sklearn.feature_extraction.text.CountVectorizer.html). Можно всячески варировать извлечение признаков (убирать редкие слова, убирать частые слова, убирать слова общей лексики, брать биграмы и т.д.)"
   ]
  },
  {
   "cell_type": "code",
   "execution_count": 159,
   "metadata": {},
   "outputs": [],
   "source": [
    "from sklearn.feature_extraction.text import CountVectorizer, TfidfVectorizer"
   ]
  },
  {
   "cell_type": "code",
   "execution_count": 160,
   "metadata": {},
   "outputs": [
    {
     "data": {
      "text/plain": [
       "CountVectorizer(analyzer='word', binary=False, decode_error='strict',\n",
       "                dtype=<class 'numpy.int64'>, encoding='utf-8', input='content',\n",
       "                lowercase=True, max_df=1.0, max_features=None, min_df=1,\n",
       "                ngram_range=(1, 1), preprocessor=None, stop_words=None,\n",
       "                strip_accents=None, token_pattern='(?u)\\\\b\\\\w\\\\w+\\\\b',\n",
       "                tokenizer=None, vocabulary=None)"
      ]
     },
     "execution_count": 160,
     "metadata": {},
     "output_type": "execute_result"
    }
   ],
   "source": [
    "CountVectorizer()"
   ]
  },
  {
   "cell_type": "code",
   "execution_count": 161,
   "metadata": {},
   "outputs": [],
   "source": [
    "count_vectorizer = CountVectorizer(min_df=5, ngram_range=(1, 2)  ) "
   ]
  },
  {
   "cell_type": "code",
   "execution_count": 162,
   "metadata": {},
   "outputs": [
    {
     "ename": "SyntaxError",
     "evalue": "invalid syntax (<ipython-input-162-560651a5b59a>, line 4)",
     "output_type": "error",
     "traceback": [
      "\u001b[1;36m  File \u001b[1;32m\"<ipython-input-162-560651a5b59a>\"\u001b[1;36m, line \u001b[1;32m4\u001b[0m\n\u001b[1;33m    if()\u001b[0m\n\u001b[1;37m        ^\u001b[0m\n\u001b[1;31mSyntaxError\u001b[0m\u001b[1;31m:\u001b[0m invalid syntax\n"
     ]
    }
   ],
   "source": [
    "word = {}\n",
    "for sent in train_data.data:\n",
    "    words = sent.split(\" \")\n",
    "    if()"
   ]
  },
  {
   "cell_type": "code",
   "execution_count": 139,
   "metadata": {},
   "outputs": [],
   "source": [
    "stre = sorted(count_vectorizer.vocabulary_.items() , key = lambda x : x[1]) "
   ]
  },
  {
   "cell_type": "code",
   "execution_count": 163,
   "metadata": {},
   "outputs": [
    {
     "ename": "AttributeError",
     "evalue": "'CountVectorizer' object has no attribute 'vocabulary_'",
     "output_type": "error",
     "traceback": [
      "\u001b[1;31m---------------------------------------------------------------------------\u001b[0m",
      "\u001b[1;31mAttributeError\u001b[0m                            Traceback (most recent call last)",
      "\u001b[1;32m<ipython-input-163-005c1b64667d>\u001b[0m in \u001b[0;36m<module>\u001b[1;34m\u001b[0m\n\u001b[1;32m----> 1\u001b[1;33m \u001b[0mcount_vectorizer\u001b[0m\u001b[1;33m.\u001b[0m\u001b[0mvocabulary_\u001b[0m\u001b[1;33m.\u001b[0m\u001b[0mitems\u001b[0m\u001b[1;33m(\u001b[0m\u001b[1;33m)\u001b[0m\u001b[1;33m\u001b[0m\u001b[1;33m\u001b[0m\u001b[0m\n\u001b[0m",
      "\u001b[1;31mAttributeError\u001b[0m: 'CountVectorizer' object has no attribute 'vocabulary_'"
     ]
    }
   ],
   "source": [
    "count_vectorizer.vocabulary_.items()"
   ]
  },
  {
   "cell_type": "code",
   "execution_count": 141,
   "metadata": {},
   "outputs": [
    {
     "data": {
      "text/plain": [
       "[('00', 0),\n",
       " ('00 and', 1),\n",
       " ('000', 2),\n",
       " ('000 000', 3),\n",
       " ('000 feet', 4),\n",
       " ('000 to', 5),\n",
       " ('01', 6),\n",
       " ('01 14', 7),\n",
       " ('02', 8),\n",
       " ('03', 9),\n",
       " ('04', 10),\n",
       " ('04 01', 11),\n",
       " ('05', 12),\n",
       " ('06', 13),\n",
       " ('07', 14),\n",
       " ('08', 15),\n",
       " ('09', 16),\n",
       " ('10', 17),\n",
       " ('10 00', 18),\n",
       " ('10 000', 19),\n",
       " ('10 15', 20),\n",
       " ('10 20', 21),\n",
       " ('10 30', 22),\n",
       " ('10 of', 23),\n",
       " ('10 or', 24),\n",
       " ('10 to', 25),\n",
       " ('10 years', 26),\n",
       " ('100', 27),\n",
       " ('100 000', 28),\n",
       " ('100 or', 29),\n",
       " ('1000', 30),\n",
       " ('101', 31),\n",
       " ('102', 32),\n",
       " ('104', 33),\n",
       " ('11', 34),\n",
       " ('110', 35),\n",
       " ('111', 36),\n",
       " ('115', 37),\n",
       " ('1174', 38),\n",
       " ('1174 intergraph', 39),\n",
       " ('12', 40),\n",
       " ('120', 41),\n",
       " ('1200', 42),\n",
       " ('121', 43),\n",
       " ('125', 44),\n",
       " ('128', 45),\n",
       " ('129', 46),\n",
       " ('12v', 47),\n",
       " ('13', 48),\n",
       " ('130', 49),\n",
       " ('135', 50),\n",
       " ('14', 51),\n",
       " ('14 39', 52),\n",
       " ('147', 53),\n",
       " ('149', 54),\n",
       " ('15', 55),\n",
       " ('15 1993', 56),\n",
       " ('15 years', 57),\n",
       " ('150', 58),\n",
       " ('1500', 59),\n",
       " ('16', 60),\n",
       " ('16 1993', 61),\n",
       " ('1600', 62),\n",
       " ('17', 63),\n",
       " ('18', 64),\n",
       " ('1800', 65),\n",
       " ('18084tm', 66),\n",
       " ('18084tm ibm', 67),\n",
       " ('19', 68),\n",
       " ('1950', 69),\n",
       " ('1960', 70),\n",
       " ('1960s', 71),\n",
       " ('1963', 72),\n",
       " ('1965', 73),\n",
       " ('1970', 74),\n",
       " ('1971', 75),\n",
       " ('1972', 76),\n",
       " ('1973', 77),\n",
       " ('1975', 78),\n",
       " ('1976', 79),\n",
       " ('1977', 80),\n",
       " ('1979', 81),\n",
       " ('1980', 82),\n",
       " ('1981', 83),\n",
       " ('1982', 84),\n",
       " ('1983', 85),\n",
       " ('1984', 86),\n",
       " ('1985', 87),\n",
       " ('1986', 88),\n",
       " ('1987', 89),\n",
       " ('1988', 90),\n",
       " ('1989', 91),\n",
       " ('1990', 92),\n",
       " ('1990 the', 93),\n",
       " ('1991', 94),\n",
       " ('1992', 95),\n",
       " ('1992 the', 96),\n",
       " ('1993', 97),\n",
       " ('1993 at', 98),\n",
       " ('1993 the', 99),\n",
       " ('1994', 100),\n",
       " ('1996', 101),\n",
       " ('1999', 102),\n",
       " ('19th', 103),\n",
       " ('1a', 104),\n",
       " ('1g', 105),\n",
       " ('1st', 106),\n",
       " ('20', 107),\n",
       " ('20 000', 108),\n",
       " ('20 20', 109),\n",
       " ('20 years', 110),\n",
       " ('200', 111),\n",
       " ('2000', 112),\n",
       " ('201', 113),\n",
       " ('202', 114),\n",
       " ('203', 115),\n",
       " ('205', 116),\n",
       " ('205 730', 117),\n",
       " ('205 837', 118),\n",
       " ('209', 119),\n",
       " ('21', 120),\n",
       " ('2109', 121),\n",
       " ('2109 email', 122),\n",
       " ('213', 123),\n",
       " ('214', 124),\n",
       " ('215', 125),\n",
       " ('216', 126),\n",
       " ('2178', 127),\n",
       " ('2178 wk', 128),\n",
       " ('22', 129),\n",
       " ('220', 130),\n",
       " ('23', 131),\n",
       " ('23 1993', 132),\n",
       " ('24', 133),\n",
       " ('24 hours', 134),\n",
       " ('25', 135),\n",
       " ('250', 136),\n",
       " ('253', 137),\n",
       " ('256k', 138),\n",
       " ('26', 139),\n",
       " ('27', 140),\n",
       " ('275', 141),\n",
       " ('28', 142),\n",
       " ('286', 143),\n",
       " ('29', 144),\n",
       " ('2nd', 145),\n",
       " ('30', 146),\n",
       " ('30 days', 147),\n",
       " ('30 minutes', 148),\n",
       " ('30 of', 149),\n",
       " ('30 years', 150),\n",
       " ('300', 151),\n",
       " ('3000', 152),\n",
       " ('301', 153),\n",
       " ('31', 154),\n",
       " ('310', 155),\n",
       " ('3169', 156),\n",
       " ('3169 ssd', 157),\n",
       " ('32', 158),\n",
       " ('33', 159),\n",
       " ('336', 160),\n",
       " ('336 9591', 161),\n",
       " ('34', 162),\n",
       " ('35', 163),\n",
       " ('350', 164),\n",
       " ('354', 165),\n",
       " ('355', 166),\n",
       " ('355 2178', 167),\n",
       " ('35894', 168),\n",
       " ('35894 uucp', 169),\n",
       " ('36', 170),\n",
       " ('37', 171),\n",
       " ('38', 172),\n",
       " ('380', 173),\n",
       " ('39', 174),\n",
       " ('3rd', 175),\n",
       " ('40', 176),\n",
       " ('400', 177),\n",
       " ('4000', 178),\n",
       " ('408', 179),\n",
       " ('41', 180),\n",
       " ('42', 181),\n",
       " ('43', 182),\n",
       " ('4368', 183),\n",
       " ('44', 184),\n",
       " ('45', 185),\n",
       " ('46', 186),\n",
       " ('47', 187),\n",
       " ('48', 188),\n",
       " ('4800', 189),\n",
       " ('483', 190),\n",
       " ('483 4368', 191),\n",
       " ('486', 192),\n",
       " ('49', 193),\n",
       " ('4th', 194),\n",
       " ('50', 195),\n",
       " ('50 000', 196),\n",
       " ('50 or', 197),\n",
       " ('50 years', 198),\n",
       " ('500', 199),\n",
       " ('500 000', 200),\n",
       " ('51', 201),\n",
       " ('512', 202),\n",
       " ('517', 203),\n",
       " ('517 355', 204),\n",
       " ('52', 205),\n",
       " ('55', 206),\n",
       " ('56', 207),\n",
       " ('57', 208),\n",
       " ('58', 209),\n",
       " ('59', 210),\n",
       " ('5v', 211),\n",
       " ('60', 212),\n",
       " ('600', 213),\n",
       " ('6000', 214),\n",
       " ('602', 215),\n",
       " ('61', 216),\n",
       " ('61 805', 217),\n",
       " ('617', 218),\n",
       " ('63', 219),\n",
       " ('65', 220),\n",
       " ('66', 221),\n",
       " ('69', 222),\n",
       " ('6th', 223),\n",
       " ('70', 224),\n",
       " ('703', 225),\n",
       " ('71', 226),\n",
       " ('713', 227),\n",
       " ('713 483', 228),\n",
       " ('73', 229),\n",
       " ('730', 230),\n",
       " ('730 3169', 231),\n",
       " ('75', 232),\n",
       " ('750', 233),\n",
       " ('76', 234),\n",
       " ('7th', 235),\n",
       " ('80', 236),\n",
       " ('800', 237),\n",
       " ('805', 238),\n",
       " ('805 8959', 239),\n",
       " ('805 8983', 240),\n",
       " ('8051', 241),\n",
       " ('81', 242),\n",
       " ('818', 243),\n",
       " ('82', 244),\n",
       " ('837', 245),\n",
       " ('837 1174', 246),\n",
       " ('85', 247),\n",
       " ('86', 248),\n",
       " ('860', 249),\n",
       " ('87', 250),\n",
       " ('88', 251),\n",
       " ('89', 252),\n",
       " ('890', 253),\n",
       " ('8959', 254),\n",
       " ('8959 fax', 255),\n",
       " ('8983', 256),\n",
       " ('90', 257),\n",
       " ('90 of', 258),\n",
       " ('900', 259),\n",
       " ('91', 260),\n",
       " ('92', 261),\n",
       " ('93', 262),\n",
       " ('93 04', 263),\n",
       " ('94', 264),\n",
       " ('95', 265),\n",
       " ('955', 266),\n",
       " ('9591', 267),\n",
       " ('9591 hm', 268),\n",
       " ('96', 269),\n",
       " ('9600', 270),\n",
       " ('98', 271),\n",
       " ('99', 272),\n",
       " ('_the', 273),\n",
       " ('abbreviation', 274),\n",
       " ('abdominal', 275),\n",
       " ('ability', 276),\n",
       " ('ability to', 277),\n",
       " ('able', 278),\n",
       " ('able to', 279),\n",
       " ('about', 280),\n",
       " ('about 10', 281),\n",
       " ('about 100', 282),\n",
       " ('about 15', 283),\n",
       " ('about 20', 284),\n",
       " ('about 30', 285),\n",
       " ('about 50', 286),\n",
       " ('about an', 287),\n",
       " ('about every', 288),\n",
       " ('about how', 289),\n",
       " ('about it', 290),\n",
       " ('about months', 291),\n",
       " ('about my', 292),\n",
       " ('about that', 293),\n",
       " ('about the', 294),\n",
       " ('about their', 295),\n",
       " ('about them', 296),\n",
       " ('about these', 297),\n",
       " ('about this', 298),\n",
       " ('about to', 299),\n",
       " ('about week', 300),\n",
       " ('about what', 301),\n",
       " ('about years', 302),\n",
       " ('about your', 303),\n",
       " ('above', 304),\n",
       " ('above and', 305),\n",
       " ('above the', 306),\n",
       " ('absolute', 307),\n",
       " ('absolutely', 308),\n",
       " ('absolutely no', 309),\n",
       " ('absorbed', 310),\n",
       " ('absorption', 311),\n",
       " ('abuse', 312),\n",
       " ('ac', 313),\n",
       " ('ac uk', 314),\n",
       " ('acad3', 315),\n",
       " ('acad3 alaska', 316),\n",
       " ('academic', 317),\n",
       " ('academy', 318),\n",
       " ('acceleration', 319),\n",
       " ('accept', 320),\n",
       " ('acceptable', 321),\n",
       " ('acceptance', 322),\n",
       " ('accepted', 323),\n",
       " ('access', 324),\n",
       " ('access digex', 325),\n",
       " ('access to', 326),\n",
       " ('accessible', 327),\n",
       " ('accident', 328),\n",
       " ('accidental', 329),\n",
       " ('accomplish', 330),\n",
       " ('according', 331),\n",
       " ('according to', 332),\n",
       " ('account', 333),\n",
       " ('accounting', 334),\n",
       " ('accuracy', 335),\n",
       " ('accuracy of', 336),\n",
       " ('accurate', 337),\n",
       " ('accurately', 338),\n",
       " ('achieve', 339),\n",
       " ('achieved', 340),\n",
       " ('achieving', 341),\n",
       " ('acid', 342),\n",
       " ('acidophilus', 343),\n",
       " ('acids', 344),\n",
       " ('acquisition', 345),\n",
       " ('across', 346),\n",
       " ('across the', 347),\n",
       " ('act', 348),\n",
       " ('act as', 349),\n",
       " ('acting', 350),\n",
       " ('action', 351),\n",
       " ('actions', 352),\n",
       " ('activated', 353),\n",
       " ('active', 354),\n",
       " ('active in', 355),\n",
       " ('activities', 356),\n",
       " ('activity', 357),\n",
       " ('activity and', 358),\n",
       " ('acts', 359),\n",
       " ('actual', 360),\n",
       " ('actually', 361),\n",
       " ('actually be', 362),\n",
       " ('actually the', 363),\n",
       " ('acupuncture', 364),\n",
       " ('acute', 365),\n",
       " ('ad', 366),\n",
       " ('adams', 367),\n",
       " ('adapter', 368),\n",
       " ('adcom', 369),\n",
       " ('add', 370),\n",
       " ('add that', 371),\n",
       " ('added', 372),\n",
       " ('added to', 373),\n",
       " ('adding', 374),\n",
       " ('addition', 375),\n",
       " ('addition to', 376),\n",
       " ('additional', 377),\n",
       " ('additive', 378),\n",
       " ('additives', 379),\n",
       " ('address', 380),\n",
       " ('address the', 381),\n",
       " ('addressed', 382),\n",
       " ('addresses', 383),\n",
       " ('adequate', 384),\n",
       " ('adequately', 385),\n",
       " ('adjust', 386),\n",
       " ('adjustable', 387),\n",
       " ('adjustment', 388),\n",
       " ('administered', 389),\n",
       " ('administration', 390),\n",
       " ('administrative', 391),\n",
       " ('admit', 392),\n",
       " ('adult', 393),\n",
       " ('adults', 394),\n",
       " ('advance', 395),\n",
       " ('advance for', 396),\n",
       " ('advanced', 397),\n",
       " ('advances', 398),\n",
       " ('advantage', 399),\n",
       " ('advantage of', 400),\n",
       " ('advantages', 401),\n",
       " ('adverse', 402),\n",
       " ('advertising', 403),\n",
       " ('advice', 404),\n",
       " ('advisory', 405),\n",
       " ('advisory committee', 406),\n",
       " ('advocacy', 407),\n",
       " ('advocate', 408),\n",
       " ('aero', 409),\n",
       " ('aeronautics', 410),\n",
       " ('aeronautics and', 411),\n",
       " ('aerospace', 412),\n",
       " ('af', 413),\n",
       " ('affect', 414),\n",
       " ('affected', 415),\n",
       " ('affected by', 416),\n",
       " ('affecting', 417),\n",
       " ('afford', 418),\n",
       " ('afford to', 419),\n",
       " ('afraid', 420),\n",
       " ('africa', 421),\n",
       " ('after', 422),\n",
       " ('after all', 423),\n",
       " ('after having', 424),\n",
       " ('after it', 425),\n",
       " ('after the', 426),\n",
       " ('after this', 427),\n",
       " ('after you', 428),\n",
       " ('afterwards', 429),\n",
       " ('again', 430),\n",
       " ('again the', 431),\n",
       " ('against', 432),\n",
       " ('against the', 433),\n",
       " ('age', 434),\n",
       " ('age and', 435),\n",
       " ('age of', 436),\n",
       " ('agencies', 437),\n",
       " ('agency', 438),\n",
       " ('agent', 439),\n",
       " ('aggressively', 440),\n",
       " ('ago', 441),\n",
       " ('ago about', 442),\n",
       " ('ago and', 443),\n",
       " ('agree', 444),\n",
       " ('agree on', 445),\n",
       " ('agree that', 446),\n",
       " ('agree with', 447),\n",
       " ('agreed', 448),\n",
       " ('agreement', 449),\n",
       " ('ahead', 450),\n",
       " ('ahead and', 451),\n",
       " ('ahead of', 452),\n",
       " ('ai', 453),\n",
       " ('aiaa', 454),\n",
       " ('aid', 455),\n",
       " ('aids', 456),\n",
       " ('aim', 457),\n",
       " ('aimed', 458),\n",
       " ('aimed at', 459),\n",
       " ('air', 460),\n",
       " ('air force', 461),\n",
       " ('aircraft', 462),\n",
       " ('airplane', 463),\n",
       " ('airport', 464),\n",
       " ('aka', 465),\n",
       " ('al', 466),\n",
       " ('al 35894', 467),\n",
       " ('alabama', 468),\n",
       " ('alan', 469),\n",
       " ('alas', 470),\n",
       " ('alaska', 471),\n",
       " ('alaska edu', 472),\n",
       " ('albeit', 473),\n",
       " ('albert', 474),\n",
       " ('albicans', 475),\n",
       " ('alcohol', 476),\n",
       " ('alexander', 477),\n",
       " ('algorithm', 478),\n",
       " ('algorithms', 479),\n",
       " ('alien', 480),\n",
       " ('alive', 481),\n",
       " ('all', 482),\n",
       " ('all can', 483),\n",
       " ('all in', 484),\n",
       " ('all it', 485),\n",
       " ('all kinds', 486),\n",
       " ('all my', 487),\n",
       " ('all of', 488),\n",
       " ('all over', 489),\n",
       " ('all sorts', 490),\n",
       " ('all that', 491),\n",
       " ('all the', 492),\n",
       " ('all they', 493),\n",
       " ('all this', 494),\n",
       " ('all those', 495),\n",
       " ('all three', 496),\n",
       " ('all you', 497),\n",
       " ('all your', 498),\n",
       " ('alleged', 499),\n",
       " ('allen', 500),\n",
       " ('allergic', 501),\n",
       " ('allergic reaction', 502),\n",
       " ('allergic to', 503),\n",
       " ('allergies', 504),\n",
       " ('allergy', 505),\n",
       " ('alleviate', 506),\n",
       " ('allow', 507),\n",
       " ('allow the', 508),\n",
       " ('allowed', 509),\n",
       " ('allowed to', 510),\n",
       " ('allowing', 511),\n",
       " ('allows', 512),\n",
       " ('almost', 513),\n",
       " ('almost certainly', 514),\n",
       " ('almost everything', 515),\n",
       " ('alone', 516),\n",
       " ('along', 517),\n",
       " ('along the', 518),\n",
       " ('along with', 519),\n",
       " ('alot', 520),\n",
       " ('alot of', 521),\n",
       " ('already', 522),\n",
       " ('already have', 523),\n",
       " ('already in', 524),\n",
       " ('als', 525),\n",
       " ('also', 526),\n",
       " ('also are', 527),\n",
       " ('also available', 528),\n",
       " ('also be', 529),\n",
       " ('also called', 530),\n",
       " ('also don', 531),\n",
       " ('also had', 532),\n",
       " ('also has', 533),\n",
       " ('also have', 534),\n",
       " ('also if', 535),\n",
       " ('also in', 536),\n",
       " ('also is', 537),\n",
       " ('also provides', 538),\n",
       " ('also remember', 539),\n",
       " ('also the', 540),\n",
       " ('also to', 541),\n",
       " ('alt', 542),\n",
       " ('altered', 543),\n",
       " ('alternative', 544),\n",
       " ('alternative medicine', 545),\n",
       " ('alternative to', 546),\n",
       " ('alternatives', 547),\n",
       " ('although', 548),\n",
       " ('although it', 549),\n",
       " ('although the', 550),\n",
       " ('altitude', 551),\n",
       " ('altitude of', 552),\n",
       " ('aluminum', 553),\n",
       " ('always', 554),\n",
       " ('always been', 555),\n",
       " ('am', 556),\n",
       " ('am currently', 557),\n",
       " ('am doing', 558),\n",
       " ('am going', 559),\n",
       " ('am having', 560),\n",
       " ('am in', 561),\n",
       " ('am looking', 562),\n",
       " ('am not', 563),\n",
       " ('am posting', 564),\n",
       " ('am sure', 565),\n",
       " ('am trying', 566),\n",
       " ('amateur', 567),\n",
       " ('amateur radio', 568),\n",
       " ('amazing', 569),\n",
       " ('america', 570),\n",
       " ('american', 571),\n",
       " ('ames', 572),\n",
       " ('ames arc', 573),\n",
       " ('ames dryden', 574),\n",
       " ('ames research', 575),\n",
       " ('ames space', 576),\n",
       " ('amiga', 577),\n",
       " ('amino', 578),\n",
       " ('amino acid', 579),\n",
       " ('among', 580),\n",
       " ('among other', 581),\n",
       " ('among the', 582),\n",
       " ('amount', 583),\n",
       " ('amount of', 584),\n",
       " ('amounts', 585),\n",
       " ('amounts of', 586),\n",
       " ('amp', 587),\n",
       " ('amp and', 588),\n",
       " ('amp is', 589),\n",
       " ('amplification', 590),\n",
       " ('amplifier', 591),\n",
       " ('amplitude', 592),\n",
       " ('amps', 593),\n",
       " ('amsat', 594),\n",
       " ('an', 595),\n",
       " ('an active', 596),\n",
       " ('an ad', 597),\n",
       " ('an additional', 598),\n",
       " ('an allergic', 599),\n",
       " ('an alternative', 600),\n",
       " ('an altitude', 601),\n",
       " ('an article', 602),\n",
       " ('an average', 603),\n",
       " ('an electrical', 604),\n",
       " ('an email', 605),\n",
       " ('an emergency', 606),\n",
       " ('an essential', 607),\n",
       " ('an example', 608),\n",
       " ('an excellent', 609),\n",
       " ('an external', 610),\n",
       " ('an extremely', 611),\n",
       " ('an ftp', 612),\n",
       " ('an hour', 613),\n",
       " ('an idea', 614),\n",
       " ('an image', 615),\n",
       " ('an important', 616),\n",
       " ('an inflatable', 617),\n",
       " ('an interesting', 618),\n",
       " ('an international', 619),\n",
       " ('an object', 620),\n",
       " ('an official', 621),\n",
       " ('an old', 622),\n",
       " ('an on', 623),\n",
       " ('an open', 624),\n",
       " ('an orbit', 625),\n",
       " ('an orbital', 626),\n",
       " ('an output', 627),\n",
       " ('anal', 628),\n",
       " ('analog', 629),\n",
       " ('analogy', 630),\n",
       " ('analyses', 631),\n",
       " ('analysis', 632),\n",
       " ('analysis of', 633),\n",
       " ('analyzed', 634),\n",
       " ('and', 635),\n",
       " ('and about', 636),\n",
       " ('and after', 637),\n",
       " ('and all', 638),\n",
       " ('and almost', 639),\n",
       " ('and also', 640),\n",
       " ('and am', 641),\n",
       " ('and an', 642),\n",
       " ('and are', 643),\n",
       " ('and as', 644),\n",
       " ('and ask', 645),\n",
       " ('and at', 646),\n",
       " ('and be', 647),\n",
       " ('and because', 648),\n",
       " ('and believe', 649),\n",
       " ('and better', 650),\n",
       " ('and building', 651),\n",
       " ('and built', 652),\n",
       " ('and by', 653),\n",
       " ('and came', 654),\n",
       " ('and can', 655),\n",
       " ('and cognitivists', 656),\n",
       " ('and commercial', 657),\n",
       " ('and control', 658),\n",
       " ('and data', 659),\n",
       " ('and design', 660),\n",
       " ('and development', 661),\n",
       " ('and did', 662),\n",
       " ('and disease', 663),\n",
       " ('and do', 664),\n",
       " ('and does', 665),\n",
       " ('and don', 666),\n",
       " ('and down', 667),\n",
       " ('and drug', 668),\n",
       " ('and engineers', 669),\n",
       " ('and even', 670),\n",
       " ('and eventually', 671),\n",
       " ('and everything', 672),\n",
       " ('and few', 673),\n",
       " ('and flight', 674),\n",
       " ('and for', 675),\n",
       " ('and found', 676),\n",
       " ('and from', 677),\n",
       " ('and geb', 678),\n",
       " ('and general', 679),\n",
       " ('and get', 680),\n",
       " ('and getting', 681),\n",
       " ('and give', 682),\n",
       " ('and go', 683),\n",
       " ('and good', 684),\n",
       " ('and ground', 685),\n",
       " ('and had', 686),\n",
       " ('and has', 687),\n",
       " ('and have', 688),\n",
       " ('and he', 689),\n",
       " ('and help', 690),\n",
       " ('and hence', 691),\n",
       " ('and high', 692),\n",
       " ('and his', 693),\n",
       " ('and how', 694),\n",
       " ('and human', 695),\n",
       " ('and if', 696),\n",
       " ('and in', 697),\n",
       " ('and include', 698),\n",
       " ('and includes', 699),\n",
       " ('and information', 700),\n",
       " ('and international', 701),\n",
       " ('and is', 702),\n",
       " ('and it', 703),\n",
       " ('and its', 704),\n",
       " ('and just', 705),\n",
       " ('and keep', 706),\n",
       " ('and know', 707),\n",
       " ('and left', 708),\n",
       " ('and less', 709),\n",
       " ('and like', 710),\n",
       " ('and ll', 711),\n",
       " ('and long', 712),\n",
       " ('and look', 713),\n",
       " ('and lot', 714),\n",
       " ('and low', 715),\n",
       " ('and made', 716),\n",
       " ('and make', 717),\n",
       " ('and many', 718),\n",
       " ('and may', 719),\n",
       " ('and maybe', 720),\n",
       " ('and money', 721),\n",
       " ('and more', 722),\n",
       " ('and most', 723),\n",
       " ('and much', 724),\n",
       " ('and my', 725),\n",
       " ('and nasa', 726),\n",
       " ('and need', 727),\n",
       " ('and never', 728),\n",
       " ('and no', 729),\n",
       " ('and non', 730),\n",
       " ('and not', 731),\n",
       " ('and of', 732),\n",
       " ('and off', 733),\n",
       " ('and on', 734),\n",
       " ('and one', 735),\n",
       " ('and only', 736),\n",
       " ('and or', 737),\n",
       " ('and other', 738),\n",
       " ('and others', 739),\n",
       " ('and out', 740),\n",
       " ('and over', 741),\n",
       " ('and perhaps', 742),\n",
       " ('and planetary', 743),\n",
       " ('and possibly', 744),\n",
       " ('and power', 745),\n",
       " ('and probably', 746),\n",
       " ('and published', 747),\n",
       " ('and put', 748),\n",
       " ('and related', 749),\n",
       " ('and run', 750),\n",
       " ('and safety', 751),\n",
       " ('and sci', 752),\n",
       " ('and scientific', 753),\n",
       " ('and see', 754),\n",
       " ('and set', 755),\n",
       " ('and she', 756),\n",
       " ('and should', 757),\n",
       " ('and so', 758),\n",
       " ('and social', 759),\n",
       " ('and software', 760),\n",
       " ('and some', 761),\n",
       " ('and sometimes', 762),\n",
       " ('and space', 763),\n",
       " ('and still', 764),\n",
       " ('and such', 765),\n",
       " ('and systems', 766),\n",
       " ('and take', 767),\n",
       " ('and technology', 768),\n",
       " ('and test', 769),\n",
       " ('and that', 770),\n",
       " ('and the', 771),\n",
       " ('and their', 772),\n",
       " ('and then', 773),\n",
       " ('and there', 774),\n",
       " ('and therefore', 775),\n",
       " ('and they', 776),\n",
       " ('and think', 777),\n",
       " ('and this', 778),\n",
       " ('and those', 779),\n",
       " ('and three', 780),\n",
       " ('and thus', 781),\n",
       " ('and time', 782),\n",
       " ('and to', 783),\n",
       " ('and treatment', 784),\n",
       " ('and two', 785),\n",
       " ('and up', 786),\n",
       " ('and use', 787),\n",
       " ('and used', 788),\n",
       " ('and usually', 789),\n",
       " ('and ve', 790),\n",
       " ('and very', 791),\n",
       " ('and was', 792),\n",
       " ('and we', 793),\n",
       " ('and well', 794),\n",
       " ('and were', 795),\n",
       " ('and what', 796),\n",
       " ('and when', 797),\n",
       " ('and where', 798),\n",
       " ('and which', 799),\n",
       " ('and white', 800),\n",
       " ('and who', 801),\n",
       " ('and why', 802),\n",
       " ('and will', 803),\n",
       " ('and with', 804),\n",
       " ('and work', 805),\n",
       " ('and would', 806),\n",
       " ('and yes', 807),\n",
       " ('and you', 808),\n",
       " ('and your', 809),\n",
       " ('anderson', 810),\n",
       " ('andrew', 811),\n",
       " ('andy', 812),\n",
       " ('anecdotal', 813),\n",
       " ('anecdotal evidence', 814),\n",
       " ('angeles', 815),\n",
       " ('angeles ca', 816),\n",
       " ('anger', 817),\n",
       " ('angle', 818),\n",
       " ('angle of', 819),\n",
       " ('angles', 820),\n",
       " ('animal', 821),\n",
       " ('animals', 822),\n",
       " ('ann', 823),\n",
       " ('announce', 824),\n",
       " ('announced', 825),\n",
       " ('announcement', 826),\n",
       " ('annual', 827),\n",
       " ('anonymous', 828),\n",
       " ('anonymous ftp', 829),\n",
       " ('another', 830),\n",
       " ('another year', 831),\n",
       " ('ans', 832),\n",
       " ('answer', 833),\n",
       " ('answer to', 834),\n",
       " ('answer your', 835),\n",
       " ('answered', 836),\n",
       " ('answers', 837),\n",
       " ('answers and', 838),\n",
       " ('answers to', 839),\n",
       " ('antenna', 840),\n",
       " ('antennas', 841),\n",
       " ('anthony', 842),\n",
       " ('anti', 843),\n",
       " ('antibiotic', 844),\n",
       " ('antibiotics', 845),\n",
       " ('any', 846),\n",
       " ('any advice', 847),\n",
       " ('any case', 848),\n",
       " ('any experience', 849),\n",
       " ('any good', 850),\n",
       " ('any help', 851),\n",
       " ('any ideas', 852),\n",
       " ('any info', 853),\n",
       " ('any information', 854),\n",
       " ('any kind', 855),\n",
       " ('any more', 856),\n",
       " ('any new', 857),\n",
       " ('any of', 858),\n",
       " ('any one', 859),\n",
       " ('any opinions', 860),\n",
       " ('any other', 861),\n",
       " ('any significant', 862),\n",
       " ('any sort', 863),\n",
       " ('any suggestions', 864),\n",
       " ('any way', 865),\n",
       " ('anybody', 866),\n",
       " ('anybody know', 867),\n",
       " ('anybody out', 868),\n",
       " ('anymore', 869),\n",
       " ('anyone', 870),\n",
       " ('anyone can', 871),\n",
       " ('anyone could', 872),\n",
       " ('anyone else', 873),\n",
       " ('anyone has', 874),\n",
       " ('anyone have', 875),\n",
       " ('anyone interested', 876),\n",
       " ('anyone know', 877),\n",
       " ('anyone knows', 878),\n",
       " ('anyone out', 879),\n",
       " ('anyone tell', 880),\n",
       " ('anyone who', 881),\n",
       " ('anyone would', 882),\n",
       " ('anything', 883),\n",
       " ('anything about', 884),\n",
       " ('anything but', 885),\n",
       " ('anything else', 886),\n",
       " ('anything like', 887),\n",
       " ('anything that', 888),\n",
       " ('anything to', 889),\n",
       " ('anyway', 890),\n",
       " ('anyway the', 891),\n",
       " ('anyways', 892),\n",
       " ('anywhere', 893),\n",
       " ('anywhere in', 894),\n",
       " ('apart', 895),\n",
       " ('apollo', 896),\n",
       " ('apparent', 897),\n",
       " ('apparently', 898),\n",
       " ('appear', 899),\n",
       " ('appear in', 900),\n",
       " ('appear to', 901),\n",
       " ('appearance', 902),\n",
       " ('appeared', 903),\n",
       " ('appears', 904),\n",
       " ('appears to', 905),\n",
       " ('apple', 906),\n",
       " ('application', 907),\n",
       " ('application of', 908),\n",
       " ('applications', 909),\n",
       " ('applications and', 910),\n",
       " ('applications of', 911),\n",
       " ('applied', 912),\n",
       " ('applied to', 913),\n",
       " ('applies', 914),\n",
       " ('applies to', 915),\n",
       " ('apply', 916),\n",
       " ('apply for', 917),\n",
       " ('apply to', 918),\n",
       " ('applying', 919),\n",
       " ('appreciate', 920),\n",
       " ('appreciate any', 921),\n",
       " ('appreciate it', 922),\n",
       " ('appreciated', 923),\n",
       " ('appreciated thanks', 924),\n",
       " ('approach', 925),\n",
       " ('approach to', 926),\n",
       " ('approaches', 927),\n",
       " ('appropriate', 928),\n",
       " ('appropriate to', 929),\n",
       " ('approve', 930),\n",
       " ('approved', 931),\n",
       " ('approximately', 932),\n",
       " ('apr', 933),\n",
       " ('apr 16', 934),\n",
       " ('apr 1993', 935),\n",
       " ('apr 93', 936),\n",
       " ('april', 937),\n",
       " ('april 14', 938),\n",
       " ('april 15', 939),\n",
       " ('april 1993', 940),\n",
       " ('april 23', 941),\n",
       " ('arc', 942),\n",
       " ('arc nasa', 943),\n",
       " ('archive', 944),\n",
       " ('archive in', 945),\n",
       " ('archive name', 946),\n",
       " ('are', 947),\n",
       " ('are about', 948),\n",
       " ('are actually', 949),\n",
       " ('are all', 950),\n",
       " ('are also', 951),\n",
       " ('are an', 952),\n",
       " ('are and', 953),\n",
       " ('are as', 954),\n",
       " ('are at', 955),\n",
       " ('are available', 956),\n",
       " ('are basically', 957),\n",
       " ('are being', 958),\n",
       " ('are bit', 959),\n",
       " ('are called', 960),\n",
       " ('are carried', 961),\n",
       " ('are completely', 962),\n",
       " ('are connected', 963),\n",
       " ('are currently', 964),\n",
       " ('are doing', 965),\n",
       " ('are expected', 966),\n",
       " ('are few', 967),\n",
       " ('are for', 968),\n",
       " ('are generally', 969),\n",
       " ('are getting', 970),\n",
       " ('are going', 971),\n",
       " ('are good', 972),\n",
       " ('are in', 973),\n",
       " ('are interested', 974),\n",
       " ('are just', 975),\n",
       " ('are less', 976),\n",
       " ('are like', 977),\n",
       " ('are looking', 978),\n",
       " ('are lot', 979),\n",
       " ('are made', 980),\n",
       " ('are many', 981),\n",
       " ('are more', 982),\n",
       " ('are much', 983),\n",
       " ('are my', 984),\n",
       " ('are no', 985),\n",
       " ('are not', 986),\n",
       " ('are now', 987),\n",
       " ('are of', 988),\n",
       " ('are often', 989),\n",
       " ('are on', 990),\n",
       " ('are only', 991),\n",
       " ('are possible', 992),\n",
       " ('are pretty', 993),\n",
       " ('are probably', 994),\n",
       " ('are provided', 995),\n",
       " ('are quite', 996),\n",
       " ('are really', 997),\n",
       " ('are required', 998),\n",
       " ('are several', 999),\n",
       " ...]"
      ]
     },
     "execution_count": 141,
     "metadata": {},
     "output_type": "execute_result"
    }
   ],
   "source": [
    "stre "
   ]
  },
  {
   "cell_type": "code",
   "execution_count": 119,
   "metadata": {},
   "outputs": [
    {
     "data": {
      "text/plain": [
       "<1778x10885 sparse matrix of type '<class 'numpy.int64'>'\n",
       "\twith 216486 stored elements in Compressed Sparse Row format>"
      ]
     },
     "execution_count": 119,
     "metadata": {},
     "output_type": "execute_result"
    }
   ],
   "source": [
    "sparse_feature_matrix = count_vectorizer.fit_transform(train_data.data)\n",
    "sparse_feature_matrix"
   ]
  },
  {
   "cell_type": "code",
   "execution_count": 120,
   "metadata": {},
   "outputs": [],
   "source": [
    "num_2_words = {\n",
    "    v: k\n",
    "    for  k , v in count_vectorizer.vocabulary_.items()\n",
    "}"
   ]
  },
  {
   "cell_type": "code",
   "execution_count": 132,
   "metadata": {},
   "outputs": [
    {
     "name": "stdout",
     "output_type": "stream",
     "text": [
      "Another fish to check out is Richard Rast -- he works\n",
      "for Lockheed Missiles, but is on-site at NASA Johnson.\n",
      "\n",
      "Nick Johnson at Kaman Sciences in Colo. Spgs and his\n",
      "friend, Darren McKnight at Kaman in Alexandria, VA.\n",
      "\n",
      "Good luck.\n",
      "\n",
      "R. Landis\n"
     ]
    }
   ],
   "source": [
    "print(train_data.data[0])"
   ]
  },
  {
   "cell_type": "code",
   "execution_count": 133,
   "metadata": {},
   "outputs": [
    {
     "data": {
      "text/plain": [
       "dict_items([('another', 830), ('fish', 3375), ('to', 9599), ('check', 1953), ('out', 6565), ('is', 4641), ('richard', 7558), ('he', 4014), ('works', 10700), ('for', 3437), ('lockheed', 5290), ('missiles', 5673), ('but', 1645), ('on', 6336), ('site', 7978), ('at', 1157), ('nasa', 5871), ('johnson', 4938), ('nick', 5975), ('sciences', 7721), ('in', 4321), ('and', 635), ('his', 4120), ('friend', 3590), ('va', 10160), ('good', 3781), ('luck', 5351), ('to check', 9637), ('check out', 1955), ('but is', 1663), ('is on', 4729), ('at nasa', 1175), ('nasa johnson', 5878), ('and his', 693), ('good luck', 3788), ('as', 1060), ('the', 8724), ('subject', 8358), ('says', 7690), ('can', 1755), ('use', 10101), ('digital', 2657), ('signals', 7941), ('don', 2785), ('see', 7758), ('why', 10544), ('it', 4788), ('couldn', 2345), ('handle', 3899), ('could', 2330), ('be', 1318), ('wrong', 10763), ('anyone', 870), ('have', 3955), ('any', 846), ('advice', 404), ('thanks', 8624), ('switches', 8473), ('non', 5998), ('resistance', 7499), ('up', 10060), ('ohm', 6322), ('when', 10464), ('powered', 6943), ('by', 1704), ('volts', 10272), ('maximum', 5490), ('current', 2415), ('static', 8270), ('voltage', 10268), ('across', 346), ('switch', 8470), ('not', 6013), ('bet', 1481), ('ttl', 9960), ('should', 7899), ('work', 10678), ('cmos', 2042), ('slow', 8001), ('things', 9400), ('down', 2825), ('bit', 1514), ('there', 9311), ('are', 947), ('versions', 10213), ('that', 8631), ('better', 1483), ('specs', 8193), ('lower', 5346), ('max', 5489), ('as the', 1095), ('the subject', 9193), ('can use', 1799), ('don see', 2797), ('see why', 7770), ('why it', 10549), ('but could', 1652), ('could be', 2332), ('be wrong', 1400), ('anyone have', 875), ('have any', 3961), ('any advice', 847), ('up to', 10072), ('powered by', 6944), ('current and', 2416), ('not good', 6033), ('should work', 7907), ('work for', 10684), ('there are', 9316), ('that have', 8660), ('am', 556), ('looking', 5314), ('sources', 8129), ('lists', 5254), ('of', 6155), ('all', 482), ('home', 4148), ('medical', 5565), ('tests', 8599), ('currently', 2420), ('legally', 5166), ('available', 1233), ('believe', 1460), ('this', 9429), ('allowing', 511), ('where', 10476), ('feasible', 3291), ('decreased', 2501), ('costs', 2329), ('factor', 3242), ('10', 17), ('or', 6464), ('more', 5735), ('allows', 512), ('patient', 6667), ('some', 8065), ('time', 9564), ('consider', 2213), ('best', 1477), ('action', 351), ('from', 3594), ('results', 7535), ('such', 8375), ('fact', 3239), ('certain', 1906), ('basic', 1307), ('serious', 7827), ('diseases', 2697), ('cancer', 1805), ('heart', 4051), ('disease', 2692), ('offered', 6304), ('free', 3577), ('american', 571), ('public', 7135), ('actually', 361), ('help', 4063), ('reduce', 7347), ('national', 5884), ('since', 7962), ('many', 5441), ('would', 10717), ('an', 595), ('earlier', 2888), ('opportunity', 6453), ('know', 5034), ('about', 280), ('toward', 9885), ('cure', 2412), ('mike', 5636), ('am looking', 562), ('looking for', 5316), ('for current', 3450), ('sources for', 8130), ('of all', 6163), ('all the', 492), ('believe this', 1465), ('at home', 1170), ('by factor', 1710), ('factor of', 3244), ('of 10', 6156), ('10 or', 24), ('or more', 6490), ('more and', 5738), ('the patient', 9068), ('some time', 8077), ('time and', 9566), ('to consider', 9642), ('consider the', 2214), ('the best', 8774), ('from the', 3607), ('the results', 9132), ('results of', 7539), ('of such', 6267), ('in fact', 4352), ('such as', 8377), ('should be', 7901), ('be offered', 1372), ('free to', 3578), ('to the', 9814), ('the american', 8738), ('this could', 9442), ('help to', 4070), ('to reduce', 9776), ('would have', 10727), ('have an', 3960), ('opportunity to', 6454), ('to know', 9705), ('know about', 5035), ('and work', 805), ('do', 2726), ('you', 10799), ('characterize', 1935), ('flight', 3392), ('fancy', 3269), ('fantasy', 3270), ('while', 10517), ('with', 10610), ('scientific', 7722), ('context', 2254), ('here', 4083), ('appears', 904), ('obvious', 6140), ('speculation', 8197), ('lack', 5075), ('neutral', 5942), ('word', 10675), ('was', 10299), ('least', 5149), ('significant', 7945), ('part', 6638), ('knowledge', 5054), ('acceptance', 322), ('theory', 9304), ('coupled', 2356), ('observations', 6127), ('appear', 899), ('something', 8090), ('quite', 7204), ('rational', 7249), ('going', 3773), ('attempted', 1205), ('fit', 3377), ('observation', 6126), ('into', 4606), ('cover', 2367), ('does', 2760), ('seem', 7775), ('like', 5208), ('example', 3144), ('what', 10435), ('most', 5759), ('normally', 6008), ('call', 1736), ('well', 10412), ('think', 9409), ('someone', 8082), ('else', 2980), ('thread', 9534), ('first', 3368), ('also', 526), ('extra', 3225), ('etc', 3082), ('nor', 6004), ('prepared', 6966), ('give', 3731), ('general', 3685), ('account', 333), ('terms', 8591), ('examples', 3148), ('danger', 2437), ('beginning', 1444), ('over', 6593), ('surprising', 8457), ('experiment', 3193), ('counts', 2352), ('same', 7652), ('may', 5491), ('said', 7642), ('logical', 5293), ('grounds', 3845), ('my', 5828), ('point', 6865), ('frequently', 3585), ('perhaps', 6725), ('even', 3101), ('new', 5952), ('previously', 6991), ('existing', 3174), ('theories', 9303), ('hypotheses', 4218), ('other', 6550), ('domain', 2781), ('offer', 6303), ('rather', 7244), ('known', 5057), ('de', 2476), ('done', 2805), ('sea', 7738), ('air', 460), ('hypothesis', 4219), ('resulting', 7534), ('experimental', 3195), ('test', 8594), ('given', 3736), ('prior', 7006), ('phenomena', 6753), ('involved', 4632), ('certainly', 1907), ('must', 5824), ('counted', 2347), ('so', 8016), ('constructed', 2231), ('designed', 2562), ('perfectly', 6719), ('pretty', 6983), ('successful', 8373), ('fluids', 3404), ('analogy', 630), ('thinking', 9422), ('fluid', 3403), ('interesting', 4585), ('yes', 10790), ('one', 6384), ('argue', 1032), ('merely', 5594), ('extension', 3220), ('questions', 7196), ('we', 10371), ('debate', 2485), ('if', 4245), ('but why', 1695), ('why do', 10545), ('do you', 2745), ('this as', 9435), ('flight of', 3394), ('of fancy', 6193), ('with the', 10642), ('the scientific', 9151), ('here it', 4090), ('it appears', 4796), ('that his', 8662), ('lack of', 5076), ('was at', 10305), ('at least', 1172), ('of his', 6204), ('knowledge of', 5055), ('of and', 6166), ('of current', 6179), ('with his', 10620), ('it would', 4900), ('was going', 10312), ('going on', 3774), ('as he', 1072), ('or to', 6500), ('the theory', 9212), ('to cover', 9648), ('cover the', 2368), ('this does', 9447), ('does not', 2765), ('not seem', 6055), ('like an', 5209), ('an example', 608), ('example of', 3147), ('of what', 6292), ('someone else', 8084), ('in this', 4416), ('this thread', 9497), ('was the', 10330), ('the first', 8890), ('first to', 3374), ('to use', 9830), ('use the', 10114), ('the word', 9257), ('to give', 9678), ('there is', 9322), ('is some', 4746), ('is what', 4768), ('etc the', 3093), ('the same', 9145), ('may be', 5493), ('my point', 5847), ('point is', 6867), ('is that', 4754), ('of new', 6238), ('can be', 1760), ('or even', 6476), ('of some', 6262), ('some other', 8072), ('well known', 10417), ('for the', 3507), ('of air', 6162), ('was this', 10332), ('theory and', 9305), ('and the', 771), ('the resulting', 9131), ('given the', 3738), ('of the', 6271), ('it certainly', 4807), ('must be', 5825), ('be counted', 1339), ('so was', 8039), ('out of', 6573), ('well there', 10419), ('there was', 9333), ('and well', 794), ('theory of', 9307), ('was in', 10313), ('thinking of', 9424), ('but this', 1687), ('this was', 9502), ('was quite', 10326), ('at the', 1182), ('the time', 9217), ('was it', 10314), ('one could', 6388), ('that it', 8668), ('it was', 4887), ('of an', 6165), ('to new', 9736), ('but think', 1686), ('think this', 9419), ('we can', 10375), ('that if', 8664), ('if you', 4269), ('you like', 10827), ('than', 8604), ('theoretical', 9302), ('concept', 2174), ('seriously', 7828), ('et', 3080), ('al', 466), ('years', 10776), ('ago', 441), ('how', 4179), ('high', 4100), ('orion', 6546), ('flew', 3390), ('atmosphere', 1194), ('san', 7661), ('diego', 2628), ('back', 1261), ('working', 10697), ('atomic', 1196), ('didn', 2624), ('learn', 5146), ('until', 10055), ('almost', 513), ('thirty', 9428), ('later', 5106), ('visited', 10261), ('us', 10090), ('revealed', 7548), ('had', 3877), ('been', 1419), ('feel', 3301), ('sure', 8434), ('film', 3340), ('really', 7301), ('has', 3927), ('seen', 7783), ('was more', 10318), ('more than', 5752), ('et al', 3081), ('many years', 5447), ('years ago', 10777), ('don know', 2792), ('know how', 5040), ('this is', 9463), ('in the', 4411), ('the atmosphere', 8761), ('in san', 4398), ('san diego', 7662), ('back in', 1263), ('was working', 10339), ('time but', 9568), ('about the', 294), ('us and', 10091), ('it had', 4822), ('had been', 3880), ('been done', 1422), ('sure that', 8440), ('that someone', 8696), ('must have', 5826), ('of that', 6270), ('like to', 5217), ('to see', 9787), ('see it', 7763), ('it has', 4823), ('has anyone', 3931), ('anyone out', 879), ('out there', 6577), ('seen it', 7785), ('name', 5861), ('command', 2102), ('spacecraft', 8170), ('tells', 8572), ('hear', 4045), ('earth', 2892), ('after', 422), ('hours', 4174), ('assume', 1132), ('your', 10865), ('attitude', 1211), ('go', 3755), ('search', 7741), ('mode', 5692), ('attempt', 1203), ('signal', 7939), ('the name', 9019), ('name is', 5863), ('is rather', 4737), ('the spacecraft', 9178), ('spacecraft that', 8173), ('it if', 4826), ('you don', 10813), ('from earth', 3599), ('something is', 8095), ('wrong with', 10764), ('with your', 10652), ('spacecraft attitude', 8172), ('and go', 683), ('go into', 3758), ('in an', 4327), ('attempt to', 1204), ('the signal', 9162), ('just', 4967), ('diagnosed', 2609), ('breast', 1588), ('big', 1497), ('relief', 7417), ('her', 4081), ('doctor', 2748), ('she', 7871), ('off', 6296), ('caffeine', 1729), ('chocolate', 1977), ('months', 5725), ('taking', 8513), ('related', 7391), ('reasons', 7316), ('especially', 3067), ('because', 1407), ('gave', 3671), ('soon', 8107), ('won', 10664), ('left', 5159), ('now', 6091), ('thought', 9524), ('heard', 4046), ('were', 10424), ('common', 2114), ('health', 4039), ('risk', 7577), ('accurate', 337), ('being', 1453), ('told', 9843), ('make', 5405), ('various', 10180), ('treat', 9924), ('deal', 2478), ('information', 4501), ('chris', 1984), ('black', 1519), ('com', 2080), ('just been', 4973), ('been diagnosed', 1421), ('diagnosed with', 2610), ('as it', 1077), ('that could', 8647), ('could have', 2336), ('have been', 3965), ('her doctor', 4082), ('for months', 3478), ('as well', 1102), ('well as', 10413), ('with this', 10646), ('because she', 1411), ('heard that', 4048), ('and not', 731), ('not really', 6052), ('is this', 4757), ('if so', 4259), ('why is', 10548), ('to make', 9719), ('to treat', 9825), ('something that', 8098), ('that not', 8686), ('not that', 6060), ('thanks for', 8626), ('for any', 3445), ('any information', 854), ('chest', 1964), ('ray', 7252), ('provides', 7124), ('minute', 5664), ('amount', 583), ('radiation', 7214), ('drop', 2851), ('far', 3272), ('increased', 4455), ('concerned', 2178), ('who', 10525), ('tell', 8566), ('whether', 10488), ('get', 3704), ('no', 5980), ('controls', 2282), ('matter', 5484), ('law', 5128), ('which', 10493), ('case', 1847), ('write', 10754), ('hold', 4141), ('breath', 1589), ('gordon', 3793), ('banks', 1293), ('n3jxp', 5858), ('skepticism', 7989), ('chastity', 1945), ('intellect', 4569), ('geb', 3678), ('cadre', 1727), ('dsl', 2861), ('pitt', 6800), ('edu', 2924), ('shameful', 7862), ('surrender', 8458), ('too', 9856), ('amount of', 584), ('it is', 4829), ('as far', 1066), ('far as', 3273), ('who can', 10527), ('can tell', 1796), ('tell you', 8570), ('whether you', 10492), ('you can', 10806), ('can get', 1769), ('of it', 6212), ('it or', 4853), ('or not', 6491), ('no one', 5989), ('it may', 4839), ('matter of', 5486), ('the law', 8964), ('in which', 4430), ('but don', 1654), ('gordon banks', 3794), ('banks n3jxp', 1294), ('n3jxp skepticism', 5859), ('skepticism is', 7990), ('is the', 4755), ('the chastity', 8796), ('chastity of', 1946), ('the intellect', 8942), ('intellect and', 4570), ('and geb', 678), ('geb cadre', 3679), ('cadre dsl', 1728), ('dsl pitt', 2862), ('pitt edu', 6801), ('edu it', 2928), ('is shameful', 4744), ('shameful to', 7863), ('to surrender', 9806), ('surrender it', 8459), ('it too', 4879), ('too soon', 9865), ('ve', 10185), ('recently', 7331), ('tape', 8528), ('dr', 2832), ('claims', 2014), ('discovered', 2682), ('series', 7824), ('naturally', 5892), ('occuring', 6145), ('anti', 843), ('properties', 7097), ('names', 5869), ('met', 5599), ('united', 10031), ('states', 8267), ('despite', 2573), ('responses', 7518), ('subjects', 8361), ('during', 2872), ('clinical', 2026), ('trials', 9934), ('generally', 3688), ('accepted', 323), ('opinion', 6449), ('research', 7482), ('himself', 4118), ('lone', 5294), ('researcher', 7492), ('establishment', 3076), ('basis', 1309), ('judge', 4959), ('two', 9981), ('weeks', 10404), ('however', 4192), ('read', 7276), ('nih', 5977), ('department', 2532), ('alternative', 544), ('medicine', 5571), ('decided', 2496), ('focus', 3414), ('their', 9265), ('attention', 1209), ('budget', 1614), ('small', 8004), ('imagine', 4289), ('they', 9350), ('wouldn', 10748), ('investigate', 4621), ('treatment', 9927), ('opinions', 6450), ('status', 8279), ('appreciated', 923), ('by dr', 1708), ('which he', 10500), ('to have', 9681), ('that he', 8661), ('says that', 7692), ('the united', 9229), ('united states', 10032), ('despite the', 2574), ('clinical trials', 2027), ('what is', 10450), ('but have', 1657), ('have no', 3982), ('from which', 3615), ('two weeks', 9986), ('weeks ago', 10405), ('read that', 7280), ('that the', 8700), ('department of', 2533), ('alternative medicine', 545), ('medicine has', 5573), ('decided to', 2497), ('is so', 4745), ('treatment that', 9931), ('that didn', 8649), ('any opinions', 860), ('opinions on', 6452), ('or information', 6482), ('information about', 4502), ('the current', 8825), ('status of', 8280), ('would be', 10721), ('be appreciated', 1323), ('large', 5091), ('machine', 5368), ('our', 6563), ('lab', 5069), ('device', 2602), ('complete', 2142), ('286', 143), ('based', 1303), ('controller', 2280), ('running', 7631), ('intel', 4568), ('operating', 6442), ('system', 8483), ('unfortunately', 10025), ('documentation', 2755), ('anybody', 866), ('please', 6840), ('reply', 7451), ('via', 10233), ('email', 2984), ('regularly', 7387), ('catch', 1866), ('news', 5961), ('david', 2460), ('we ve', 10389), ('ve just', 10193), ('for use', 3516), ('use in', 10107), ('in our', 4388), ('this device', 9444), ('device is', 2603), ('is complete', 4667), ('operating system', 6443), ('we don', 10378), ('don have', 2791), ('can anybody', 1758), ('anybody out', 868), ('there in', 9321), ('please reply', 6848), ('via email', 10235), ('up with', 10073), ('the news', 9030), ('cash', 1858), ('award', 1250), ('ok', 6328), ('limit', 5224), ('nice', 5974), ('away', 1254), ('mining', 5661), ('rights', 7569), ('assuming', 1137), ('anything', 883), ('mine', 5652), ('own', 6601), ('them', 9271), ('sig', 7935), ('files', 3336), ('strings', 8328), ('every', 3119), ('got', 3796), ('is ok', 4728), ('be nice', 1368), ('can give', 1770), ('anything to', 889), ('because you', 1415), ('files are', 3337), ('are like', 977), ('got one', 3798), ('ll', 5270), ('probably', 7014), ('middle', 5622), ('island', 4777), ('lake', 5080), ('always', 554), ('came', 1749), ('nasty', 5882), ('red', 7345), ('skin', 7994), ('mother', 5768), ('paint', 6626), ('clear', 2022), ('finger', 3359), ('nail', 5860), ('repeated', 7443), ('daily', 2433), ('week', 10398), ('application', 907), ('supposed', 8430), ('say', 7681), ('worked', 10694), ('caution', 1881), ('though', 9519), ('putting', 7175), ('hell', 4060), ('put', 7167), ('me', 5516), ('probably get', 7016), ('for this', 3511), ('this but', 9437), ('but when', 1693), ('when was', 10472), ('we would', 10393), ('would go', 10726), ('go to', 3761), ('to my', 9733), ('case of', 1851), ('where the', 10481), ('into the', 4611), ('the skin', 9167), ('for about', 3440), ('about week', 300), ('or so', 6494), ('so the', 8035), ('the application', 8749), ('application of', 908), ('is supposed', 4752), ('supposed to', 8431), ('them as', 9274), ('all can', 483), ('can say', 1791), ('is it', 4702), ('it worked', 4897), ('worked for', 10695), ('for us', 3515), ('do get', 2729), ('this just', 9466), ('in my', 4379), ('call me', 1738), ('space', 8138), ('station', 8272), ('redesign', 7346), ('leader', 5140), ('cost', 2323), ('goal', 3763), ('impossible', 4311), ('today', 9841), ('washington', 10340), ('post', 6911), ('ran', 7227), ('article', 1053), ('shown', 7915), ('above', 304), ('starts', 8258), ('team', 8542), ('charge', 1939), ('planned', 6824), ('yesterday', 10794), ('job', 4928), ('tough', 9883), ('quoted', 7208), ('saying', 7688), ('possible', 6907), ('cut', 2425), ('much', 5803), ('still', 8300), ('provide', 7120), ('real', 7292), ('question', 7189), ('everything', 3127), ('fair', 3256), ('game', 3660), ('including', 4445), ('contracts', 2266), ('aerospace', 412), ('industry', 4480), ('management', 5427), ('program', 7063), ('facilities', 3237), ('around', 1042), ('country', 2350), ('closely', 2034), ('russian', 7635), ('mir', 5666), ('using', 10141), ('unmanned', 10054), ('titan', 9595), ('rockets', 7592), ('supplement', 8415), ('manned', 5435), ('shuttle', 7920), ('reviewed', 7551), ('30', 146), ('design', 2557), ('options', 6462), ('candidates', 1809), ('three', 9537), ('categories', 1867), ('described', 2549), ('derived', 2546), ('ssf', 8231), ('option', 6461), ('writer', 10756), ('confused', 2200), ('briefing', 1593), ('press', 6977), ('monday', 5715), ('talked', 8520), ('white', 10522), ('house', 4176), ('wants', 10293), ('low', 5337), ('medium', 5576), ('discussed', 2687), ('teams', 8543), ('formed', 3542), ('look', 5305), ('larc', 5089), ('modular', 5706), ('bus', 1639), ('msfc', 5795), ('single', 7972), ('launch', 5110), ('core', 2310), ('wingless', 10595), ('orbiter', 6520), ('jsc', 4956), ('response', 7516), ('moderate', 5698), ('between', 1490), ('wrote', 10765), ('goes', 3771), ('describe', 2548), ('features', 3293), ('modules', 5709), ('together', 9842), ('orbit', 6510), ('similar', 7951), ('facility', 3238), ('hardware', 3920), ('its', 4905), ('structure', 8333), ('space station', 8165), ('station redesign', 8274), ('the washington', 9245), ('washington post', 10342), ('an article', 602), ('above the', 306), ('the article', 8758), ('the nasa', 9020), ('in charge', 4341), ('charge of', 1940), ('the job', 8949), ('and may', 719), ('is possible', 4732), ('possible to', 6909), ('to cut', 9651), ('that much', 8683), ('much and', 5805), ('and still', 764), ('research is', 7487), ('is real', 4738), ('for me', 3477), ('management of', 5429), ('the space', 9177), ('program at', 7065), ('at some', 1180), ('around the', 1046), ('the country', 8822), ('the russian', 9142), ('space shuttle', 8163), ('so far', 8022), ('and they', 776), ('they are', 9353), ('based on', 1305), ('the post', 9086), ('the design', 8835), ('derived from', 2547), ('as high', 1073), ('part of', 6640), ('and in', 697), ('in one', 4384), ('about how', 289), ('how the', 4188), ('the white', 9250), ('white house', 10523), ('and high', 692), ('high in', 4105), ('in another', 4329), ('the three', 9216), ('he has', 4023), ('to look', 9715), ('look at', 5306), ('in response', 4397), ('response to', 7517), ('say the', 7686), ('in between', 4334), ('not the', 6061), ('the high', 8922), ('on to', 6372), ('to describe', 9655), ('the other', 9052), ('as one', 1086), ('in orbit', 4385), ('similar to', 7952), ('for example', 3456), ('in its', 4368), ('australia', 1221), ('dial', 2616), ('number', 6106), ('live', 5261), ('include', 4440), ('area', 1025), ('code', 2051), ('nearest', 5902), ('city', 2004), ('eg', 2957), ('wa', 10278), ('09', 16), ('yours', 10879), ('mark', 5456), ('here in', 4088), ('in australia', 4333), ('to get', 9677), ('get the', 3718), ('the number', 9035), ('back to', 1268), ('to you', 9839), ('you if', 10823), ('live in', 5262), ('include the', 4441), ('the area', 8753), ('sts', 8335), ('56', 207), ('kit', 5026), ('ever', 3116), ('released', 7409), ('tony', 9855), ('astronomy', 1153), ('international', 4593), ('magazine', 5386), ('box', 1570), ('issues', 4787), ('year', 10770), ('sub', 8357), ('uk', 10000), ('00', 0), ('pounds', 6933), ('20', 107), ('surface', 8447), ('add', 370), ('access', 324), ('expiration', 3201), ('date', 2454), ('address', 380), ('does anyone', 2762), ('anyone know', 877), ('new international', 5955), ('available from', 1237), ('one year', 6412), ('10 00', 18), ('re', 7257), ('making', 5419), ('safe', 7637), ('less', 5174), ('power', 6934), ('ohms', 6325), ('per', 6710), ('measure', 5550), ('mil', 5637), ('std', 8285), ('protection', 7111), ('02', 8), ('you re', 10841), ('they re', 9374), ('it as', 4797), ('as being', 1064), ('less than', 5176), ('than 10', 8605), ('10 to', 25), ('careful', 1836), ('solid', 8060), ('state', 8259), ('reliable', 7415), ('analog', 629), ('will', 10560), ('follow', 3418), ('tommy', 9851), ('mac', 5366), ('pat', 6664), ('wait', 10279), ('pleased', 6850), ('suffering', 8383), ('mind', 5648), ('insisting', 4543), ('perfect', 6717), ('safety', 7639), ('people', 6693), ('balls', 1286), ('world', 10703), ('mary', 5470), ('shafer', 7859), ('ames', 572), ('dryden', 2859), ('solid state', 8062), ('is generally', 4686), ('will get', 10569), ('get you', 3722), ('follow up', 3420), ('tommy mac', 9852), ('you are', 10802), ('see that', 7765), ('that you', 8722), ('re not', 7260), ('suffering from', 8384), ('of small', 6260), ('insisting on', 4544), ('on perfect', 6361), ('perfect safety', 6718), ('safety is', 7641), ('is for', 4683), ('for people', 3492), ('people who', 6706), ('who don', 10530), ('have the', 3996), ('the balls', 8768), ('balls to', 1287), ('to live', 9713), ('the real', 9116), ('real world', 7295), ('world mary', 10704), ('mary shafer', 5471), ('shafer nasa', 7860), ('nasa ames', 5872), ('ames dryden', 574), ('causes', 1877), ('long', 5295), ('term', 8588), ('effects', 2948), ('bone', 1543), ('reading', 7286), ('newsgroup', 5962), ('list', 5245), ('recognized', 7336), ('centers', 1899), ('massive', 5476), ('blood', 1525), ('effective', 2944), ('plan', 6816), ('library', 5191), ('style', 8356), ('kind', 5018), ('enough', 3030), ('suggested', 8393), ('topics', 9875), ('readings', 7289), ('field', 3325), ('for information', 3467), ('information on', 4511), ('and long', 712), ('long term', 5301), ('effects of', 2950), ('would also', 10718), ('also be', 529), ('if anyone', 4248), ('reading this', 7288), ('this newsgroup', 9475), ('if anything', 4249), ('anything else', 886), ('be effective', 1345), ('the library', 8974), ('enough to', 3032), ('to add', 9605), ('list of', 5248), ('is not', 4723), ('not my', 6044), ('stereo', 8292), ('audio', 1217), ('logic', 5292), ('model', 5693), ('mt', 5802), ('66', 221), ('gates', 3667), ('seems', 7779), ('gone', 3779), ('channel', 1926), ('very', 10216), ('weak', 10394), ('need', 5909), ('trace', 9895), ('intended', 4573), ('experience', 3188), ('type', 9989), ('equipment', 3053), ('direction', 2665), ('circuit', 1988), ('likely', 5222), ('fail', 3248), ('appreciate', 920), ('robert', 7586), ('rob', 7585), ('psych', 7128), ('work but', 10682), ('but the', 1682), ('seems to', 7782), ('to be', 9623), ('on one', 6358), ('and very', 791), ('on the', 6366), ('it down', 4816), ('but if', 1661), ('if any', 4246), ('any one', 859), ('experience with', 3190), ('this type', 9501), ('type of', 9990), ('point me', 6868), ('me in', 5523), ('in certain', 4340), ('as to', 1098), ('to where', 9834), ('the circuit', 8799), ('circuit is', 1990), ('is most', 4714), ('most likely', 5763), ('likely to', 5223), ('appreciate it', 922), ('hope', 4156), ('did', 2619), ('mean', 5541), ('imply', 4307), ('notions', 6088), ('hard', 3915), ('candida', 1806), ('infections', 4488), ('causing', 1879), ('problems', 7031), ('researchers', 7493), ('made', 5374), ('figuring', 3333), ('virtually', 10255), ('indeed', 4462), ('surprised', 8455), ('produce', 7047), ('signature', 7942), ('whose', 10543), ('then', 9293), ('set', 7838), ('bound', 1569), ('extent', 3222), ('recent', 7330), ('infection', 4486), ('realize', 7298), ('might', 5624), ('tricky', 9935), ('difficult', 2645), ('expensive', 3185), ('did not', 2621), ('hard to', 3917), ('should not', 7905), ('not be', 6021), ('figuring out', 3334), ('out how', 6571), ('how to', 4190), ('to investigate', 9696), ('things that', 9406), ('that were', 8714), ('impossible to', 4312), ('to test', 9812), ('test for', 8595), ('be surprised', 1387), ('surprised if', 8456), ('would think', 10744), ('think that', 9415), ('that candida', 8643), ('would then', 10742), ('might get', 5628), ('expensive and', 3186), ('but that', 1681), ('that is', 8666), ('same as', 7653), ('mailing', 5395), ('helpful', 4074), ('friendly', 3592), ('bunch', 1631), ('send', 7799), ('listserv', 5255), ('bitnet', 1517), ('line', 5229), ('body', 1537), ('subscribe', 8363), ('misc', 5669), ('diabetes', 2607), ('discussion', 2689), ('close', 2031), ('29', 144), ('april', 937), ('2nd', 145), ('posted', 6918), ('announce', 824), ('groups', 3849), ('sci', 7709), ('med', 5563), ('message', 5596), ('net', 5928), ('out the', 6576), ('mailing list', 5396), ('email to', 2988), ('the body', 8781), ('also the', 540), ('for general', 3461), ('discussion of', 2690), ('is currently', 4670), ('and will', 803), ('posted to', 6920), ('groups and', 3850), ('and sci', 752), ('sci med', 7712), ('britain', 1601), ('different', 2640), ('_the', 273), ('homeopathy', 4151), ('isbn', 4776), ('published', 7143), ('1990', 92), ('were you', 10431), ('you in', 10824), ('information is', 4510), ('different from', 2641), ('published in', 7145), ('great', 3824), ('martin', 5469), ('informative', 4514), ('balanced', 1281), ('without', 10656), ('cross', 2393), ('alt', 542), ('psychology', 7130), ('personality', 6741), ('typing', 9996), ('note', 6072), ('comments', 2107), ('oriented', 6540), ('replies', 7450), ('natural', 5891), ('way', 10358), ('syndrome', 8482), ('oops', 6433), ('illness', 4283), ('psychological', 7129), ('community', 2120), ('therefore', 9338), ('never', 5946), ('exist', 3171), ('fascinating', 3276), ('physicians', 6772), ('those', 9513), ('familiar', 3263), ('myers', 5854), ('mail', 5391), ('summary', 8406), ('file', 3335), ('population', 6892), ('only', 6418), ('12', 40), ('among', 580), ('higher', 4111), ('exact', 3135), ('percentage', 6716), ('er', 3059), ('driving', 2850), ('behavior', 1448), ('driver', 2847), ('extreme', 3228), ('control', 2273), ('lead', 5138), ('valuable', 10166), ('essential', 3071), ('society', 8044), ('want', 10287), ('overcome', 6598), ('elements', 2977), ('seek', 7772), ('raise', 7223), ('level', 5184), ('science', 7714), ('technology', 8554), ('due', 2868), ('vision', 10258), ('scientifically', 7725), ('approach', 925), ('course', 2357), ('types', 9991), ('positive', 6905), ('contributions', 2272), ('person', 6738), ('self', 7793), ('image', 4286), ('challenges', 1916), ('dark', 2442), ('side', 7928), ('usually', 10146), ('comes', 2094), ('physician', 6771), ('strong', 8330), ('learned', 5147), ('extremely', 3229), ('business', 1641), ('feeling', 3303), ('total', 9878), ('diagnosis', 2612), ('prescription', 6968), ('followup', 3427), ('visit', 10260), ('drive', 2845), ('maybe', 5500), ('let', 5177), ('move', 5779), ('helped', 4073), ('already', 522), ('anal', 628), ('little', 5259), ('harsh', 3924), ('few', 3312), ('myself', 5855), ('past', 6662), ('posts', 6926), ('try', 9953), ('situation', 7982), ('definitely', 2512), ('immune', 4295), ('showed', 7912), ('vitamin', 10264), ('levels', 5186), ('sinuses', 7974), ('mess', 5595), ('doubt', 2820), ('lining', 5238), ('heavily', 4055), ('antibiotics', 845), ('15', 55), ('times', 9586), ('end', 3001), ('confirmed', 2199), ('diagnoses', 2611), ('chronic', 1986), ('bacterial', 1277), ('cat', 1860), ('color', 2072), ('details', 2578), ('symptoms', 8479), ('traditional', 9900), ('cultures', 2409), ('difficulty', 2648), ('doing', 2775), ('right', 7562), ('clearly', 2023), ('background', 1272), ('provided', 7122), ('understand', 10018), ('fungal', 3645), ('therapy', 9310), ('below', 1468), ('fungus', 3646), ('poor', 6888), ('membrane', 5586), ('tissue', 9594), ('thus', 9556), ('considered', 2219), ('systemic', 8496), ('classic', 2018), ('sense', 7807), ('sort', 8114), ('75', 232), ('000', 2), ('dropped', 2852), ('25', 135), ('next', 5969), ('couple', 2354), ('received', 7325), ('zinc', 10883), ('these', 9340), ('fairly', 3258), ('complex', 2147), ('ways', 10368), ('explained', 3204), ('specialists', 8186), ('normal', 6007), ('stopped', 8309), ('except', 3154), ('multi', 5817), ('maintain', 5400), ('50', 195), ('day', 2461), ('beta', 1482), ('face', 3234), ('hopefully', 4162), ('take', 8504), ('supplements', 8416), ('steve', 8295), ('dyer', 2878), ('nutrition', 6115), ('second', 7747), ('order', 6525), ('improvement', 4319), ('allergies', 504), ('worth', 10712), ('dose', 2814), ('liver', 5264), ('damage', 2434), ('excessive', 3162), ('growth', 3855), ('unknown', 10043), ('species', 8189), ('ask', 1110), ('studies', 8340), ('demonstrate', 2527), ('associated', 1128), ('reduced', 7349), ('significantly', 7946), ('treatments', 9932), ('implemented', 4304), ('gi', 3727), ('track', 9896), ('before', 1434), ('starting', 8256), ('days', 2466), ('went', 10422), ('btw', 1610), ('reference', 7358), ('books', 1548), ('sorry', 8111), ('remember', 7425), ('found', 3556), ('comment', 2104), ('1950', 69), ('stated', 8264), ('develop', 2592), ('contained', 2246), ('leading', 5141), ('inflammation', 4493), ('dig', 2649), ('again', 430), ('relevant', 7412), ('tested', 8597), ('allergic', 501), ('albicans', 475), ('everybody', 3124), ('show', 7909), ('essentially', 3072), ('useless', 10134), ('true', 9946), ('grow', 3851), ('concentration', 2173), ('exceeds', 3151), ('threshold', 9541), ('having', 4008), ('allergy', 505), ('rocket', 7589), ('scientist', 7726), ('degree', 2514), ('ph', 6750), ('biochemistry', 1510), ('book', 1544), ('survival', 8462), ('routinely', 7615), ('pre', 6952), ('patients', 6668), ('four', 3565), ('last', 5100), ('2000', 112), ('90', 257), ('notice', 6083), ('doesn', 2769), ('means', 5544), ('called', 1739), ('yeast', 10788), ('primary', 6997), ('cause', 1870), ('taken', 8510), ('spray', 8221), ('grown', 3853), ('kill', 5015), ('direct', 2663), ('contact', 2240), ('absorbed', 310), ('stream', 8321), ('admit', 392), ('lots', 5330), ('double', 2818), ('blind', 1523), ('study', 8346), ('issue', 4783), ('start', 8251), ('explanation', 3206), ('brings', 1600), ('used', 10120), ('aspects', 1120), ('appropriate', 928), ('observe', 6130), ('culture', 2408), ('gut', 3872), ('diagnose', 2608), ('recognize', 7335), ('cannot', 1811), ('easily', 2902), ('observed', 6131), ('everywhere', 3128), ('22', 129), ('totally', 9879), ('standard', 8243), ('perspective', 6745), ('agree', 444), ('convince', 2289), ('funding', 3641), ('agencies', 437), ('open', 6435), ('literally', 5256), ('evidence', 3130), ('acceptable', 321), ('compete', 2136), ('proposals', 7103), ('needed', 5914), ('aware', 1251), ('smaller', 8006), ('funded', 3640), ('projects', 7086), ('afraid', 420), ('100', 27), ('doctors', 2751), ('practice', 6948), ('histories', 4126), ('picture', 6781), ('nowhere', 6101), ('able', 278), ('publish', 7142), ('statistical', 8276), ('anecdotal', 813), ('contrary', 2267), ('change', 1920), ('minds', 5651), ('period', 6728), ('reminds', 7432), ('aren', 1031), ('necessary', 5906), ('proper', 7095), ('indicate', 4467), ('deep', 2505), ('growing', 3852), ('bread', 1582), ('continue', 2256), ('older', 6332), ('ones', 6414), ('toxic', 9893), ('pointed', 6872), ('sent', 7816), ('tract', 9898), ('trying', 9958), ('cutting', 2428), ('ground', 3836), ('leaving', 5156), ('ready', 7290), ('come', 2087), ('once', 6378), ('walk', 10282), ('through', 9543), ('becoming', 1418), ('strictly', 8325), ('full', 3630), ('blown', 1531), ('potentially', 6931), ('sites', 7979), ('private', 7009), ('therapies', 9309), ('approved', 931), ('proven', 7118), ('acute', 365), ('failed', 3250), ('mention', 5590), ('surgery', 8451), ('weren', 10432), ('plugged', 6856), ('root', 7605), ('condition', 2188), ('monitoring', 5720), ('improved', 4318), ('greatly', 3828), ('skeptics', 7991), ('nothing', 6078), ('anyway', 890), ('view', 10242), ('saw', 7680), ('reach', 7263), ('step', 8289), ('suggest', 8389), ('revised', 7553), ('edition', 2921), ('started', 8254), ('severe', 7854), ('visits', 10262), ('several', 7848), ('him', 4116), ('spent', 8207), ('cured', 2413), ('road', 7584), ('recovery', 7343), ('following', 3423), ('parts', 6653), ('history', 4127), ('beliefs', 1459), ('posters', 6922), ('definite', 2511), ('thousand', 9531), ('cases', 1855), ('moral', 5734), ('pro', 7013), ('identified', 4242), ('yet', 10795), ('produces', 7050), ('shouldn', 7908), ('sit', 7977), ('ought', 6562), ('trust', 9951), ('begin', 1441), ('instead', 4552), ('lot', 5327), ('become', 1416), ('ignoring', 4274), ('both', 1558), ('group', 3846), ('empirical', 2993), ('thing', 9390), ('somewhat', 8102), ('outside', 6590), ('result', 7530), ('mechanism', 5560), ('fear', 3290), ('license', 5192), ('pulled', 7151), ('beyond', 1493), ('finally', 3345), ('tried', 9936), ('authority', 1225), ('techniques', 8549), ('others', 6559), ('promise', 7087), ('risks', 7580), ('sign', 7938), ('possibly', 6910), ('nature', 5893), ('register', 7383), ('board', 1533), ('either', 2962), ('meaning', 5543), ('keep', 4990), ('data', 2444), ('showing', 7914), ('within', 10653), ('reason', 7308), ('numbers', 6111), ('quackery', 7178), ('reaches', 7266), ('size', 7985), ('promote', 7089), ('healing', 4038), ('role', 7596), ('usenet', 10135), ('unless', 10044), ('backed', 1270), ('attack', 1201), ('computer', 2165), ('ring', 7572), ('impressed', 4313), ('truly', 9950), ('worthy', 10715), ('blue', 1532), ('brown', 1608), ('internet', 4595), ('hmmm', 4138), ('thoughts', 9530), ('views', 10246), ('jon', 4945), ('noring', 6005), ('charter', 1943), ('member', 5581), ('infj', 4491), ('club', 2039), ('the need', 9025), ('need for', 5910), ('cross posted', 2394), ('will be', 10563), ('be discussed', 1342), ('the beginning', 8772), ('to sci', 9785), ('most of', 5764), ('of my', 6235), ('are more', 982), ('are just', 975), ('in their', 4412), ('say that', 7685), ('since it', 7963), ('must not', 5827), ('not and', 6017), ('and never', 728), ('number of', 6109), ('out as', 6568), ('for those', 3512), ('not familiar', 6029), ('familiar with', 3264), ('mail me', 5392), ('me and', 5517), ('and ll', 711), ('the general', 8907), ('only about', 6419), ('is much', 4715), ('much higher', 5810), ('know the', 5048), ('the exact', 8872), ('any help', 851), ('the extreme', 8878), ('need to', 5913), ('to control', 9644), ('control to', 2277), ('to lead', 9708), ('and or', 737), ('be the', 1390), ('or the', 6498), ('the most', 9016), ('if they', 4265), ('are also', 951), ('is very', 4766), ('we need', 10386), ('want to', 10289), ('lead to', 5139), ('to raise', 9770), ('the level', 8973), ('level of', 5185), ('the great', 8913), ('in science', 4400), ('science and', 7715), ('and technology', 768), ('are in', 973), ('in large', 4370), ('due to', 2869), ('of course', 6178), ('course the', 2362), ('types and', 9992), ('their own', 9267), ('when the', 10468), ('the dark', 8826), ('side of', 7932), ('of this', 6277), ('out which', 6580), ('which should', 10509), ('to all', 9608), ('who is', 10534), ('and who', 801), ('who has', 10532), ('has not', 3939), ('and is', 702), ('to their', 9815), ('many of', 5443), ('to say', 9784), ('no matter', 5985), ('matter how', 5485), ('think they', 9418), ('are and', 953), ('are very', 1018), ('since that', 7965), ('is an', 4648), ('know it', 5043), ('it all', 4789), ('maybe we', 5505), ('need more', 5912), ('on this', 6370), ('this subject', 9492), ('you ve', 10856), ('by your', 1722), ('your post', 10876), ('believe that', 1463), ('the net', 9026), ('being the', 1456), ('was just', 10315), ('try to', 9957), ('were very', 10430), ('very low', 10226), ('no doubt', 5981), ('was on', 10322), ('times in', 9587), ('years in', 10781), ('the end', 8863), ('not work', 6068), ('work and', 10679), ('and had', 686), ('get into', 3711), ('the details', 8836), ('and other', 738), ('not have', 6034), ('because of', 1410), ('of doing', 6185), ('doing this', 2778), ('right and', 7563), ('and because', 648), ('to help', 9683), ('help you', 4072), ('about my', 292), ('below the', 1469), ('have is', 3974), ('this can', 9439), ('being considered', 1455), ('sort of', 8115), ('my doctor', 5832), ('me on', 5527), ('for one', 3486), ('one week', 6411), ('down to', 2830), ('the next', 9031), ('couple of', 2355), ('of weeks', 6291), ('all of', 488), ('of these', 6274), ('in fairly', 4353), ('one of', 6397), ('of those', 6278), ('blood test', 1529), ('except for', 3155), ('for some', 3501), ('and made', 716), ('50 000', 196), ('day of', 2464), ('will take', 10583), ('and to', 783), ('fairly large', 3259), ('steve dyer', 8296), ('had good', 3881), ('on sci', 6362), ('improvement in', 4320), ('then it', 9296), ('it probably', 4858), ('not worth', 6069), ('on my', 6354), ('had some', 3884), ('to ask', 9619), ('ask the', 1113), ('the question', 9108), ('there been', 9318), ('week of', 10401), ('and no', 729), ('no other', 5990), ('during this', 2874), ('this time', 9498), ('but some', 1679), ('for few', 3457), ('few days', 3313), ('days after', 2467), ('can remember', 1790), ('which one', 10508), ('one and', 6385), ('and found', 676), ('back into', 1264), ('stated that', 8265), ('that people', 8691), ('people can', 6696), ('leading to', 5142), ('ll have', 5274), ('have to', 4000), ('out that', 6575), ('relevant to', 7413), ('to this', 9819), ('candida albicans', 1807), ('show the', 7911), ('so this', 8038), ('is true', 4760), ('true that', 9949), ('could not', 2339), ('person who', 6739), ('as having', 1071), ('having an', 4009), ('as said', 1092), ('said in', 7643), ('earlier post', 2889), ('or have', 6478), ('see the', 7766), ('in his', 4364), ('not as', 6018), ('as good', 1069), ('to his', 9686), ('they have', 9365), ('been on', 1426), ('the last', 8959), ('two years', 9987), ('claims that', 2015), ('but it', 1664), ('it doesn', 4815), ('it by', 4805), ('so called', 8018), ('the primary', 9094), ('he also', 4015), ('found that', 3561), ('not help', 6035), ('assuming that', 1138), ('the yeast', 9264), ('will not', 10576), ('other than', 6555), ('the blood', 8779), ('lots of', 5331), ('has to', 3949), ('double blind', 2819), ('or it', 6484), ('but one', 1675), ('one has', 6392), ('to start', 9798), ('start with', 8253), ('with some', 10638), ('you will', 10859), ('an interesting', 618), ('used by', 10123), ('those who', 9517), ('who will', 10538), ('and all', 638), ('aspects of', 1121), ('until the', 10057), ('the appropriate', 8750), ('studies are', 8342), ('done and', 2806), ('and that', 770), ('is if', 4695), ('the gut', 8916), ('then there', 9298), ('there no', 9326), ('no way', 5994), ('way to', 10365), ('to diagnose', 9660), ('the disease', 8847), ('disease and', 2693), ('and know', 707), ('realize that', 7299), ('in any', 4330), ('cannot be', 1812), ('be easily', 1344), ('that no', 8685), ('if it', 4252), ('it not', 4848), ('is from', 4685), ('from their', 3608), ('not even', 6028), ('even be', 3103), ('be considered', 1338), ('agree that', 446), ('be done', 1343), ('that will', 8719), ('to do', 9662), ('do it', 2734), ('it right', 4860), ('however in', 4193), ('in order', 4386), ('order to', 6527), ('to convince', 9646), ('convince the', 2290), ('the funding', 8904), ('in these', 4415), ('to open', 9744), ('give them', 3734), ('the only', 9044), ('with other', 10635), ('you have', 10822), ('90 of', 258), ('the study', 9191), ('before you', 1439), ('aware of', 1252), ('this for', 9451), ('the smaller', 9170), ('that even', 8654), ('even if', 3105), ('they would', 9387), ('would get', 10725), ('they were', 9383), ('able to', 279), ('by some', 1717), ('some of', 8071), ('the doctors', 8852), ('here is', 4089), ('that they', 8704), ('of case', 6173), ('anecdotal evidence', 814), ('will never', 10575), ('not only', 6049), ('kind of', 5019), ('with those', 10647), ('reminds me', 7433), ('me of', 5526), ('there also', 9312), ('necessary to', 5908), ('the proper', 9103), ('again the', 431), ('the evidence', 8871), ('indicate that', 4468), ('that many', 8676), ('continue to', 2257), ('to kill', 9704), ('the surface', 9199), ('but you', 1699), ('that which', 8717), ('which is', 10502), ('or some', 6495), ('the older', 9041), ('which are', 10494), ('is why', 4771), ('has been', 3932), ('pointed out', 6873), ('out by', 6569), ('sent to', 7817), ('to me', 9722), ('ve been', 10187), ('been in', 1423), ('contact with', 2243), ('effective in', 2945), ('the long', 8986), ('treatment of', 9930), ('it like', 4833), ('trying to', 9959), ('the ground', 8914), ('ready to', 7291), ('to come', 9638), ('come out', 2090), ('once you', 6383), ('question is', 7191), ('is whether', 4770), ('through the', 9544), ('types of', 9993), ('of symptoms', 6268), ('sense of', 7808), ('something in', 8094), ('problems and', 7032), ('the full', 8903), ('also if', 535), ('if one', 4256), ('one is', 6394), ('post that', 6914), ('that can', 8642), ('can also', 1757), ('system that', 8491), ('that make', 8674), ('make it', 5406), ('after the', 426), ('don work', 2801), ('went to', 10423), ('to three', 9821), ('said that', 7645), ('will just', 10572), ('just have', 4977), ('live with', 5263), ('with my', 10631), ('they did', 9359), ('up the', 10070), ('but my', 1669), ('and it', 703), ('would not', 10734), ('not get', 6031), ('get to', 3721), ('cause of', 1872), ('would say', 10738), ('that just', 8670), ('with it', 10621), ('the anti', 8747), ('was one', 10323), ('step in', 8290), ('in that', 4410), ('four years', 3567), ('suggest the', 8391), ('the book', 8782), ('be sure', 1386), ('sure to', 8444), ('when they', 10470), ('they said', 9376), ('you ll', 10828), ('several years', 7853), ('standard and', 8244), ('and non', 730), ('he was', 4027), ('and can', 655), ('that am', 8633), ('the road', 9137), ('some parts', 8073), ('parts of', 6654), ('to take', 9808), ('beginning of', 1445), ('of treatment', 6282), ('history of', 4129), ('to him', 9685), ('and time', 782), ('sure if', 8437), ('he would', 4028), ('things to', 9408), ('to put', 9769), ('put it', 7169), ('if he', 4251), ('are the', 1007), ('the ones', 9043), ('help the', 4069), ('doctors who', 2753), ('who are', 10526), ('who have', 10533), ('and are', 643), ('people have', 6699), ('are two', 1014), ('two different', 9982), ('different things', 2643), ('have one', 3985), ('without the', 10658), ('his patients', 4123), ('up and', 10061), ('and take', 767), ('maybe you', 5506), ('what he', 10448), ('he says', 4026), ('it works', 4898), ('instead of', 4553), ('lot of', 5329), ('have become', 3964), ('ignoring the', 4275), ('the patients', 9069), ('which we', 10513), ('this group', 9453), ('when you', 10474), ('you just', 10825), ('and maybe', 720), ('after having', 424), ('was not', 10321), ('not able', 6014), ('did the', 2622), ('the natural', 9022), ('and as', 644), ('as result', 1091), ('have found', 3969), ('would it', 10729), ('be better', 1329), ('if the', 4262), ('set up', 7840), ('up some', 10069), ('some kind', 8069), ('of being', 6170), ('for his', 3466), ('his her', 4121), ('the point', 9082), ('point where', 6871), ('to hear', 9682), ('tell me', 8567), ('ve tried', 10198), ('that are', 8638), ('country and', 2351), ('since they', 7968), ('for you', 3523), ('seem to', 7776), ('and there', 774), ('are some', 1001), ('will have', 10570), ('to sign', 9792), ('understand the', 10021), ('and possibly', 744), ('nature of', 5894), ('the state', 9186), ('if my', 4253), ('this to', 9499), ('going to', 3775), ('to one', 9743), ('with much', 10630), ('the more', 9014), ('medicine and', 5572), ('and also', 640), ('data that', 2450), ('that would', 8721), ('it also', 4791), ('better than', 1488), ('than the', 8615), ('system by', 8487), ('the medical', 9002), ('medical community', 5567), ('it can', 4806), ('reason to', 7311), ('the lack', 8955), ('numbers of', 6113), ('of people', 6249), ('people to', 6705), ('to try', 9826), ('of which', 6293), ('to work', 9836), ('like my', 5211), ('my case', 5831), ('case and', 1848), ('and others', 739), ('which will', 10514), ('work at', 10681), ('at all', 1164), ('appears to', 905), ('be necessary', 1367), ('to promote', 9763), ('the role', 9139), ('role of', 7597), ('to it', 9698), ('away from', 1255), ('from an', 3596), ('immune system', 4296), ('system and', 8484), ('and my', 725), ('of like', 6217), ('was very', 10337), ('how it', 4184), ('it just', 4832), ('worthy of', 10716), ('or maybe', 6489), ('might even', 5627), ('post it', 6913), ('it to', 4878), ('best of', 1478), ('thanks again', 8625), ('this area', 9433), ('area and', 1026), ('the background', 8766), ('will post', 10577), ('jon noring', 4946), ('noring charter', 6006), ('charter member', 1944), ('member infj', 5582), ('infj club', 4492), ('carried', 1841), ('folks', 3417), ('run', 7627), ('amateur', 567), ('very good', 10219), ('ones are', 6415), ('are usually', 1017), ('by the', 1719), ('run the', 7630), ('ny', 6117), ('areas', 1029), ('number to', 6110), ('it seems', 4863), ('be different', 1341), ('mineral', 5655), ('un', 10006), ('government', 3808), ('major', 5402), ('decide', 2494), ('moon', 5727), ('mars', 5463), ('stop', 8308), ('legal', 5164), ('tom', 9849), ('nation', 5883), ('company', 2124), ('corp', 2312), ('organization', 6537), ('explore', 3210), ('ahead', 450), ('liek', 5194), ('old', 6330), ('stating', 8271), ('along', 517), ('happen', 3906), ('find', 3346), ('services', 7835), ('miner', 5654), ('asteroids', 1144), ('sponsor', 8217), ('trouble', 9945), ('basically', 1308), ('whatever', 10463), ('nations', 5889), ('sound', 8118), ('crazy', 2382), ('busy', 1644), ('care', 1834), ('worried', 10706), ('limited', 5226), ('short', 7892), ('worry', 10707), ('id', 4228), ('born', 1555), ('central', 1901), ('europe', 3095), ('north', 6009), ('tower', 9889), ('gods', 3770), ('is no', 4720), ('rights to', 7570), ('be given', 1350), ('says the', 7693), ('the us', 9234), ('us government', 10093), ('you decide', 10808), ('decide to', 2495), ('the moon', 9013), ('you the', 10852), ('you go', 10819), ('moon as', 5729), ('are now', 987), ('you from', 10817), ('doing it', 2776), ('maybe not', 5503), ('of space', 6264), ('is legal', 4705), ('and what', 796), ('few years', 3319), ('this it', 9465), ('the old', 9040), ('which was', 10512), ('what was', 10458), ('made it', 5379), ('what can', 10439), ('can happen', 1772), ('is to', 4758), ('to find', 9670), ('and then', 773), ('or what', 6502), ('what ever', 10444), ('as long', 1080), ('long as', 5298), ('get in', 3710), ('wants to', 10294), ('to go', 9679), ('into space', 4610), ('space but', 8146), ('but can', 1651), ('or another', 6467), ('but who', 1694), ('give you', 3735), ('or whatever', 6503), ('the world', 9259), ('are not', 986), ('got to', 3800), ('to them', 9816), ('them and', 9272), ('and such', 765), ('know that', 5047), ('means to', 5547), ('it the', 4874), ('be made', 1363), ('made to', 5382), ('be so', 1383), ('with something', 10639), ('something else', 8093), ('they will', 9384), ('if your', 4270), ('do the', 2739), ('same thing', 7654), ('the short', 9159), ('people of', 6702), ('of earth', 6188), ('after all', 423), ('all they', 493), ('many other', 5444), ('other things', 6557), ('to worry', 9837), ('worry about', 10708), ('about that', 293), ('if someone', 4260), ('someone is', 8085), ('what am', 10437), ('is where', 4769), ('little bit', 5260), ('out to', 6578), ('bit more', 1515), ('to tell', 9811), ('tell the', 8568), ('off if', 6299), ('thought the', 9529), ('the way', 9247), ('good book', 3784), ('upper', 10083), ('sits', 7980), ('concluded', 2183), ('genetic', 3696), ('disorder', 2702), ('correct', 2317), ('bad', 1278), ('changed', 1922), ('this way', 9503), ('concluded that', 2184), ('he is', 4024), ('or is', 6483), ('bit of', 1516), ('release', 7407), ('19', 68), ('93', 262), ('1993', 97), ('users', 10137), ('esa', 3064), ('satellite', 7667), ('report', 7453), ('outcome', 6582), ('experiments', 3197), ('sector', 7755), ('technologies', 8553), ('conclusions', 2186), ('135', 50), ('speakers', 8181), ('300', 151), ('participants', 6642), ('conference', 2194), ('held', 4059), ('european', 3096), ('agency', 438), ('centre', 1902), ('development', 2597), ('industrial', 4478), ('particularly', 6650), ('useful', 10131), ('bringing', 1599), ('thousands', 9532), ('terminals', 8590), ('antennas', 841), ('transmission', 9916), ('television', 8565), ('distance', 2705), ('teaching', 8541), ('opening', 6437), ('door', 2812), ('frequency', 3583), ('bands', 1290), ('capacity', 1824), ('band', 1289), ('relay', 7405), ('links', 5242), ('volume', 10273), ('orbiting', 6522), ('distributed', 2713), ('launched', 5118), ('july', 4961), ('1989', 91), ('largest', 5096), ('payloads', 6684), ('wide', 10555), ('variety', 10178), ('range', 7230), ('individual', 4474), ('experimenters', 3196), ('businesses', 1643), ('200', 111), ('companies', 2123), ('members', 5584), ('learning', 5148), ('enter', 3034), ('commercial', 2108), ('market', 5460), ('operational', 6445), ('satellites', 7670), ('press release', 6978), ('april 1993', 940), ('users of', 10138), ('report on', 7454), ('of their', 6272), ('it now', 4849), ('the technologies', 9205), ('the conference', 8814), ('conference on', 2195), ('1993 the', 99), ('the european', 8869), ('european space', 3097), ('space agency', 8142), ('the development', 8838), ('development of', 2599), ('useful in', 10133), ('thousands of', 9533), ('thanks to', 8629), ('with very', 10649), ('very small', 10228), ('but few', 1656), ('the door', 8853), ('which could', 10496), ('to offer', 9742), ('the 20', 8726), ('first time', 3373), ('time in', 9570), ('in europe', 4350), ('data from', 2447), ('low earth', 5340), ('spacecraft and', 8171), ('was launched', 10316), ('launched on', 5123), ('variety of', 10179), ('range from', 7231), ('to some', 9793), ('access to', 326), ('the satellite', 9147), ('over the', 6596), ('the past', 9067), ('use of', 10110), ('members of', 5585), ('the new', 9029), ('the commercial', 8805), ('as those', 1097), ('those of', 9514), ('performance', 6721), ('products', 7055), ('sheet', 7876), ('carbon', 1830), ('fiber', 3322), ('strength', 8323), ('density', 2531), ('lb', 5135), ('height', 4058), ('constant', 2226), ('section', 7751), ('column', 2079), ('support', 8421), ('itself', 4908), ('million', 5645), ('inches', 4435), ('400', 177), ('ft', 3621), ('miles', 5641), ('horizontal', 4166), ('guy', 3874), ('wires', 10601), ('operate', 6438), ('40', 176), ('gives', 3739), ('build', 1619), ('allow', 507), ('pound', 6932), ('load', 5278), ('top', 9871), ('simplicity', 7958), ('calculation', 1732), ('requires', 7480), ('square', 8227), ('weight', 10407), ('mile', 5639), ('payload', 6683), ('weigh', 10406), ('increase', 4452), ('plus', 6858), ('each', 2882), ('ratio', 7247), ('bottom', 1565), ('although', 548), ('practical', 6947), ('limits', 5228), ('afford', 418), ('foundation', 3564), ('choose', 1981), ('billion', 1505), ('finished', 3361), ('figure', 3331), ('materials', 5480), ('mass', 5473), ('35', 163), ('becomes', 1417), ('111', 36), ('orbital', 6518), ('velocity', 10203), ('atmospheric', 1195), ('drag', 2836), ('component', 2149), ('vertical', 10215), ('counter', 2348), ('gravity', 3821), ('contribute', 2270), ('represent', 7462), ('wasted', 10346), ('analysis', 632), ('wind', 10592), ('loads', 5280), ('require', 7471), ('structural', 8332), ('pressure', 6979), ('drops', 2854), ('value', 10167), ('dani', 2439), ('eder', 2916), ('the theoretical', 9211), ('can just', 1777), ('itself is', 4910), ('be used', 1394), ('assume that', 1133), ('that we', 8713), ('we will', 10392), ('of 30', 6159), ('on how', 6348), ('can build', 1761), ('as you', 1105), ('go up', 3762), ('up for', 10066), ('to support', 9805), ('the top', 9218), ('top of', 9872), ('support the', 8424), ('the weight', 9248), ('the payload', 9071), ('so at', 8017), ('the total', 9220), ('is now', 4725), ('increase the', 4454), ('increase in', 4453), ('the bottom', 8783), ('can see', 1792), ('from this', 3610), ('that there', 8702), ('there will', 9336), ('how much', 4187), ('can afford', 1756), ('afford to', 419), ('and how', 694), ('you need', 10835), ('ground for', 3838), ('for which', 3519), ('which you', 10516), ('10 000', 19), ('000 000', 3), ('the 40', 8728), ('is just', 4703), ('just for', 4976), ('then we', 9300), ('we have', 10381), ('ratio of', 7248), ('launched from', 5120), ('still have', 8302), ('to provide', 9766), ('component of', 2150), ('the vertical', 9241), ('do not', 2735), ('it does', 4814), ('these will', 9349), ('the air', 8737), ('drops to', 2855), ('low enough', 5342), ('for it', 3470), ('not to', 6062), ('be big', 1330), ('dani eder', 2440), ('latest', 5107), ('greatest', 3827), ('march', 5453), ('cellar', 1890), ('phase', 6752), ('method', 5605), ('controlling', 2281), ('brightness', 1596), ('linear', 5235), ('adjustment', 388), ('ac', 313), ('cycle', 2429), ('lamp', 5081), ('cycles', 2430), ('wonder', 10666), ('knows', 5061), ('stuff', 8352), ('ken', 5001), ('what the', 10453), ('the latest', 8961), ('circuit cellar', 1989), ('article about', 1054), ('the ac', 8731), ('get better', 3709), ('cut the', 2426), ('power to', 6942), ('you would', 10862), ('nothing for', 6079), ('for another', 3444), ('wonder if', 10667), ('anyone has', 874), ('this or', 9478), ('stuff is', 8354), ('interested', 4583), ('often', 6315), ('packet', 6613), ('advance', 395), ('mr', 5790), ('smith', 8009), ('ole', 6333), ('guitar', 3869), ('uni', 10027), ('liverpool', 5266), ('university', 10038), ('quest', 7187), ('sun', 8408), ('ball', 1282), ('flaming', 3385), ('gas', 3665), ('lawrence', 5129), ('be interested', 1358), ('interested in', 4584), ('subject of', 8359), ('better to', 1489), ('know what', 5050), ('what your', 10462), ('thanks in', 8627), ('in advance', 4325), ('on that', 6365), ('quest to', 7188), ('to build', 9629), ('and more', 722), ('computer science', 2166), ('science what', 7720), ('the sun', 9197), ('be it', 1360), ('is certainly', 4666), ('certainly not', 1908), ('ball of', 1283), ('impression', 4314), ('played', 6835), ('obsolete', 6135), ('detect', 2581), ('tone', 9853), ('switched', 8472), ('capacitor', 1822), ('filter', 3342), ('chip', 1973), ('feed', 3299), ('input', 4534), ('clean', 2020), ('filters', 3343), ('easy', 2905), ('not an', 6016), ('you want', 10857), ('to detect', 9657), ('to that', 9813), ('it and', 4793), ('and see', 754), ('see if', 7762), ('end the', 3004), ('what you', 10461), ('results are', 7536), ('somebody', 8080), ('elaborate', 2965), ('gather', 3668), ('planes', 6819), ('bottle', 1564), ('something to', 8099), ('do with', 2744), ('more details', 5740), ('henry', 4079), ('fred', 3576), ('oh', 6318), ('yeah', 10769), ('isn', 4778), ('headed', 4033), ('baby', 1260), ('are actually', 949), ('two of', 9983), ('of us', 6285), ('oh yeah', 6319), ('this isn', 9464), ('timing', 9589), ('pin', 6793), ('compatible', 2134), ('bug', 1617), ('cts', 2406), ('suitable', 8400), ('replacement', 7448), ('serial', 7823), ('card', 1831), ('version', 10210), ('know if', 5041), ('compatible with', 2135), ('and need', 727), ('put in', 7168), ('noisy', 5997), ('transformer', 9909), ('flyback', 3409), ('suspect', 8464), ('transformers', 9910), ('material', 5479), ('critical', 2390), ('frequencies', 3582), ('words', 10677), ('absorption', 311), ('prevention', 6989), ('khz', 5009), ('dave', 2458), ('medin', 5574), ('phone', 6759), ('205', 116), ('730', 230), ('3169', 156), ('ssd', 8229), ('networking', 5936), ('837', 245), ('1174', 38), ('intergraph', 4589), ('gd3004', 3674), ('dtmedin', 2864), ('catbyte', 1863), ('b30', 1257), ('ingr', 4518), ('huntsville', 4213), ('35894', 168), ('uucp', 10153), ('uunet', 10155), ('office', 6307), ('ve found', 10189), ('pretty well', 6986), ('if anybody', 4247), ('this on', 9476), ('about it', 290), ('be as', 1324), ('the material', 8999), ('involved in', 4633), ('in other', 4387), ('other words', 6558), ('rather than', 7245), ('which would', 10515), ('dave medin', 2459), ('medin phone', 5575), ('phone 205', 6760), ('205 730', 117), ('730 3169', 231), ('3169 ssd', 157), ('ssd networking', 8230), ('networking 205', 5937), ('205 837', 118), ('837 1174', 246), ('1174 intergraph', 39), ('intergraph corp', 4590), ('corp gd3004', 2313), ('gd3004 internet', 3675), ('internet dtmedin', 4596), ('dtmedin catbyte', 2865), ('catbyte b30', 1864), ('b30 ingr', 1259), ('ingr com', 4520), ('com huntsville', 2081), ('huntsville al', 4214), ('al 35894', 467), ('35894 uucp', 169), ('uucp uunet', 10154), ('uunet ingr', 10156), ('ingr b30', 4519), ('b30 catbyte', 1258), ('catbyte dtmedin', 1865), ('dtmedin everywhere', 2866), ('everywhere you', 3129), ('you look', 10829), ('least around', 5150), ('around my', 1045), ('my office', 5841), ('otc', 6549), ('ridiculous', 7561), ('headache', 4031), ('simultaneously', 7961), ('worthless', 10713), ('idea', 4230), ('treating', 9926), ('pain', 6620), ('convert', 2286), ('haven', 4005), ('aka', 465), ('harvard', 3925), ('not see', 6054), ('as such', 1094), ('the idea', 8932), ('they don', 9362), ('is known', 4704), ('now that', 6098), ('taken it', 8511), ('it for', 4817), ('responded', 7514), ('request', 7468), ('info', 4498), ('whom', 10542), ('thank', 8622), ('directly', 2667), ('sharon', 7870), ('everyone', 3125), ('glad', 3742), ('hit', 4130), ('september', 7821), ('there were', 9334), ('info on', 4500), ('treatment for', 9929), ('was trying', 10335), ('what this', 10455), ('quack', 7177), ('quacks', 7179), ('lyme', 5363), ('exclusively', 3167), ('surgeons', 8450), ('pattern', 6676), ('gps', 3810), ('you think', 10853), ('think he', 9411), ('be called', 1332), ('don do', 2788), ('ve seen', 10197), ('many times', 5446), ('times the', 9588), ('the lab', 8954), ('we ll', 10383), ('now also', 6092), ('also is', 537), ('know any', 5036), ('archive', 944), ('modified', 5702), ('04', 10), ('01', 6), ('14', 51), ('39', 174), ('17', 63), ('upcoming', 10074), ('planetary', 6821), ('probes', 7022), ('missions', 5677), ('schedules', 7701), ('active', 354), ('mentioned', 5591), ('welcome', 10411), ('sheets', 7877), ('cassini', 1859), ('mission', 5675), ('isas', 4775), ('nasda', 5880), ('kits', 5028), ('astro', 1147), ('japan', 4916), ('equipped', 3054), ('wavelength', 10356), ('telescope', 8564), ('ccd', 1884), ('cameras', 1753), ('imaging', 4291), ('proportional', 7101), ('saturn', 7675), ('probe', 7021), ('joint', 4942), ('project', 7081), ('accomplish', 330), ('exploration', 3209), ('scheduled', 7700), ('iv', 4911), ('centaur', 1893), ('october', 6151), ('venus', 10206), ('jupiter', 4966), ('trajectory', 9906), ('june', 4964), ('upon', 10081), ('maneuvers', 5433), ('achieve', 339), ('near', 5899), ('initial', 4524), ('relays', 7406), ('enters', 3036), ('completion', 2145), ('continues', 2259), ('half', 3889), ('trajectories', 9905), ('targeted', 8531), ('objectives', 6124), ('detailed', 2577), ('rings', 7573), ('possibility', 6906), ('covered', 2371), ('liquid', 5244), ('processes', 7044), ('form', 3535), ('global', 3744), ('layer', 5132), ('eventually', 3115), ('onto', 6431), ('onboard', 6377), ('radar', 7210), ('peer', 6691), ('clouds', 2038), ('determine', 2589), ('entry', 3040), ('chemical', 1961), ('unique', 10029), ('named', 5866), ('director', 2669), ('observatory', 6129), ('division', 2721), ('physicist', 6773), ('key', 5006), ('dates', 2456), ('06', 13), ('21', 120), ('98', 271), ('assist', 1125), ('99', 272), ('08', 15), ('16', 60), ('05', 12), ('schedule', 7699), ('updated', 10076), ('92', 261), ('galileo', 3659), ('returned', 7545), ('images', 4287), ('asteroid', 1143), ('efforts', 2955), ('stuck', 8336), ('gain', 3654), ('antenna', 840), ('hga', 4094), ('jpl', 4953), ('developed', 2593), ('backup', 1274), ('compression', 2160), ('instruments', 4561), ('approximately', 932), ('70', 224), ('original', 6543), ('18', 64), ('89', 252), ('flyby', 3410), ('1st', 106), ('91', 260), ('07', 14), ('belt', 1470), ('passage', 6658), ('11', 34), ('28', 142), ('ida', 4229), ('95', 265), ('tour', 9884), ('moons', 5733), ('io', 4637), ('encounter', 2997), ('96', 269), ('23', 131), ('31', 154), ('hiten', 4132), ('japanese', 4917), ('lunar', 5353), ('24', 133), ('multiple', 5818), ('third', 9427), ('magellan', 5387), ('mapping', 5450), ('mapped', 5449), ('entire', 3037), ('resolution', 7505), ('collecting', 2066), ('map', 5448), ('observer', 6132), ('camera', 1752), ('iii', 4277), ('booster', 1553), ('mo', 5690), ('operations', 6446), ('martian', 5468), ('french', 3581), ('observing', 6134), ('ariane', 1036), ('objective', 6123), ('precise', 6954), ('substantially', 8368), ('increasing', 4459), ('understanding', 10022), ('ocean', 6149), ('dynamics', 2881), ('heat', 4052), ('ulysses', 10004), ('poles', 6880), ('late', 5105), ('carries', 1843), ('particles', 6648), ('fields', 3328), ('electron', 2970), ('energy', 3013), ('ranges', 7233), ('plasma', 6830), ('wave', 10354), ('radio', 7216), ('receivers', 7327), ('human', 4206), ('built', 1624), ('plane', 6818), ('planet', 6820), ('pole', 6879), ('february', 3295), ('1992', 95), ('path', 6665), ('solar', 8054), ('85', 247), ('degrees', 2515), ('pass', 6657), ('south', 8132), ('summer', 8407), ('au', 1214), ('further', 3648), ('studied', 8339), ('magnetic', 5389), ('environment', 3041), ('technical', 8545), ('detail', 2576), ('articles', 1057), ('posting', 6923), ('ron', 7600), ('contributed', 2271), ('jp', 4952), ('changes', 1923), ('corrections', 2319), ('updates', 10077), ('spring', 8223), ('array', 1048), ('sensors', 7815), ('perform', 6720), ('sky', 7995), ('survey', 8461), ('soft', 8049), ('spectrum', 8195), ('scan', 7697), ('six', 7984), ('variations', 10176), ('variable', 10174), ('stars', 8250), ('nearby', 5901), ('objects', 6125), ('isolated', 4780), ('neutron', 5945), ('gamma', 3662), ('bursters', 1638), ('los', 5321), ('laboratory', 5073), ('primarily', 6996), ('uses', 10139), ('astrophysical', 1155), ('investigator', 4625), ('jeffrey', 4921), ('gov', 3805), ('aug', 1218), ('delta', 2523), ('ii', 4276), ('60', 212), ('ozone', 6605), ('spectrometer', 8194), ('dec', 2487), ('unit', 10030), ('conducting', 2191), ('recovered', 7342), ('engineering', 3020), ('1994', 100), ('polar', 6878), ('physics', 6774), ('microgravity', 5619), ('advanced', 397), ('astronomical', 1152), ('electromagnetic', 2969), ('waves', 10357), ('thermal', 9339), ('construction', 2232), ('proposed', 7105), ('universe', 10036), ('systems', 8497), ('evolution', 3133), ('mercury', 5593), ('characteristics', 1933), ('apollo', 896), ('infrared', 4516), ('1999', 102), ('4th', 194), ('element', 2975), ('flying', 3411), ('lifetime', 5199), ('comets', 2098), ('primitive', 6999), ('bodies', 1536), ('outer', 6583), ('cosmic', 2322), ('birth', 1513), ('formation', 3539), ('planets', 6823), ('distant', 2708), ('rover', 7616), ('sample', 7657), ('return', 7542), ('samples', 7658), ('1996', 101), ('fire', 3362), ('ice', 4226), ('final', 3344), ('split', 8216), ('components', 2151), ('measurements', 5555), ('star', 8249), ('intense', 4576), ('head', 4029), ('towards', 9887), ('pluto', 6859), ('reaching', 7267), ('tiny', 9591), ('archive name', 946), ('name space', 5865), ('last modified', 5101), ('modified date', 5703), ('date 93', 2455), ('93 04', 263), ('04 01', 11), ('01 14', 7), ('14 39', 52), ('missions and', 5678), ('launched into', 5122), ('earth orbit', 2898), ('equipped with', 3055), ('with large', 10623), ('designed to', 2565), ('to accomplish', 9603), ('system with', 8495), ('with its', 10622), ('is scheduled', 4743), ('for launch', 3473), ('titan iv', 9596), ('earth and', 2893), ('in june', 4369), ('an orbit', 625), ('near the', 5900), ('end of', 3003), ('orbit the', 6516), ('the orbiter', 9049), ('the probe', 9096), ('data to', 2451), ('to earth', 9663), ('while the', 10519), ('completion of', 2146), ('system for', 8488), ('for three', 3513), ('will allow', 10561), ('the mission', 9009), ('studies of', 8344), ('rings and', 7574), ('satellites and', 7671), ('the possibility', 9084), ('that its', 8669), ('its surface', 4907), ('be covered', 1340), ('covered in', 2372), ('in part', 4389), ('upper atmosphere', 10084), ('to form', 9674), ('and eventually', 671), ('onto the', 6432), ('will use', 10585), ('if there', 4263), ('both the', 1560), ('director of', 2670), ('the major', 8993), ('the true', 9222), ('gravity assist', 3822), ('images of', 4288), ('while in', 10518), ('to jupiter', 9701), ('efforts to', 2956), ('gain antenna', 3655), ('allow the', 508), ('mission to', 5676), ('of its', 6213), ('launch from', 5112), ('from space', 3606), ('into lunar', 4609), ('lunar orbit', 5357), ('this mission', 9472), ('the third', 9215), ('to orbit', 9746), ('the entire', 8866), ('at high', 1168), ('mars observer', 5465), ('to mars', 9721), ('will start', 10582), ('on an', 6337), ('project is', 7082), ('observations of', 6128), ('sea level', 7739), ('for several', 3498), ('understanding of', 10023), ('of how', 6205), ('to study', 9801), ('study the', 8349), ('launched in', 5121), ('etc but', 3085), ('but no', 1671), ('to send', 9789), ('energy from', 3014), ('in february', 4354), ('it will', 4894), ('the summer', 9196), ('is about', 4642), ('the earth', 8856), ('for short', 3499), ('the many', 8997), ('articles in', 1058), ('other space', 6554), ('space science', 8162), ('is based', 4656), ('to track', 9824), ('are welcome', 1020), ('to perform', 9753), ('to search', 9786), ('search for', 7742), ('will also', 10562), ('for such', 3504), ('gamma ray', 3663), ('ray bursters', 7253), ('national laboratory', 5887), ('the technology', 9206), ('for more', 3479), ('more information', 5747), ('satellite to', 7669), ('to measure', 9723), ('study of', 8347), ('and this', 778), ('after it', 425), ('the various', 9239), ('scientific and', 7723), ('launched by', 5119), ('research on', 7488), ('mechanism of', 5561), ('in space', 4407), ('with high', 10619), ('orbit for', 6512), ('15 years', 57), ('years and', 10778), ('the universe', 9231), ('years of', 10783), ('be sent', 1381), ('results from', 7537), ('the apollo', 8748), ('to 10', 9600), ('10 years', 26), ('years it', 10782), ('the outer', 9054), ('solar system', 8058), ('formation of', 3540), ('earth in', 2895), ('and use', 787), ('of our', 6245), ('until it', 10056), ('heat the', 4053), ('meant', 5548), ('practices', 6949), ('service', 7832), ('testing', 8598), ('fool', 3435), ('proof', 7091), ('aids', 456), ('1983', 85), ('wasn', 10343), ('fault', 3284), ('how long', 4185), ('long ago', 5296), ('you get', 10818), ('you did', 10810), ('did it', 2620), ('had to', 3886), ('provide the', 7121), ('good for', 3786), ('for her', 3463), ('what we', 10459), ('don need', 2794), ('need is', 5911), ('the fact', 8880), ('fact that', 3240), ('he got', 4021), ('the red', 9120), ('prior to', 7007), ('so there', 8036), ('and lot', 714), ('hi', 4095), ('stock', 8305), ('displays', 2704), ('tv', 9978), ('machines', 5369), ('hi there', 4097), ('hold of', 4142), ('of data', 6180), ('used in', 10125), ('be most', 1365), ('please mail', 6846), ('is up', 4762), ('up in', 10067), ('and down', 667), ('texas', 8602), ('pick', 6776), ('890', 253), ('pick up', 6777), ('the phone', 9076), ('phone company', 6761), ('back the', 1267), ('try it', 9955), ('it it', 4831), ('it might', 4841), ('might work', 5633), ('shows', 7917), ('this chip', 9441), ('argument', 1033), ('postings', 6925), ('uv', 10157), ('light', 5202), ('actual', 360), ('visible', 10257), ('relatively', 7402), ('nearly', 5903), ('regular', 7386), ('flashlight', 3387), ('bulbs', 1629), ('amounts', 585), ('remove', 7436), ('create', 2383), ('source', 8126), ('vapor', 10173), ('discharge', 2677), ('tubes', 9962), ('fluorescent', 3406), ('phosphor', 6763), ('eyes', 3232), ('shorter', 7896), ('dangerous', 2438), ('beam', 1403), ('portable', 6894), ('cheap', 1947), ('bright', 1595), ('don want', 2800), ('contrary to', 2268), ('means that', 5546), ('close to', 2032), ('sure you', 8445), ('can figure', 1767), ('figure out', 3332), ('just what', 4987), ('amounts of', 586), ('the spectrum', 9180), ('such that', 8378), ('used to', 10129), ('to remove', 9779), ('remove the', 7437), ('light and', 5203), ('and thus', 781), ('are going', 971), ('be careful', 1333), ('can cause', 1763), ('to create', 9649), ('be useful', 1395), ('but not', 1673), ('unc', 10009), ('wife', 10558), ('ms', 5792), ('plenty', 6851), ('mds', 5515), ('living', 5268), ('decades', 2491), ('drug', 2856), ('swear', 8466), ('msg', 5796), ('simple', 7956), ('discover', 2681), ('dozen', 2831), ('ds', 2860), ('hospitals', 4168), ('five', 3379), ('settled', 7845), ('student', 8337), ('and good', 684), ('has no', 3938), ('ever heard', 3118), ('heard of', 4047), ('the university', 9232), ('university of', 10039), ('program in', 7067), ('my wife', 5852), ('has an', 3929), ('plenty of', 6852), ('people do', 6697), ('do this', 2741), ('for living', 3474), ('this sort', 9489), ('been using', 1432), ('for years', 3522), ('are often', 989), ('of clinical', 6176), ('whether or', 10489), ('study on', 8348), ('on which', 6375), ('doctors and', 2752), ('at one', 1177), ('and at', 646), ('think the', 9416), ('the msg', 9017), ('justified', 4988), ('saturday', 7674), ('evening', 3112), ('son', 8106), ('badly', 1279), ('took', 9866), ('local', 5281), ('clinic', 2025), ('pm', 6860), ('story', 8316), ('deleted', 2519), ('bothered', 1563), ('emergency', 2990), ('room', 7603), ('letter', 5182), ('foot', 3436), ('providing', 7125), ('rat', 7239), ('ass', 1122), ('repeat', 7442), ('writing', 10758), ('newspapers', 5967), ('broadcast', 1604), ('hand', 3894), ('exactly', 3136), ('upset', 10086), ('complain', 2140), ('official', 6312), ('exists', 3175), ('purpose', 7160), ('generating', 3691), ('income', 4448), ('advertising', 403), ('avoid', 1246), ('sounds', 8124), ('off at', 6298), ('at this', 1183), ('this doctor', 9446), ('my year', 5853), ('year old', 10774), ('old son', 6331), ('him to', 4117), ('to local', 9714), ('and general', 679), ('at 50', 1161), ('the story', 9189), ('my son', 5850), ('emergency room', 2991), ('find out', 3349), ('is in', 4697), ('so can', 8019), ('the people', 9073), ('people in', 6700), ('what kind', 10452), ('about your', 303), ('are much', 983), ('much more', 5814), ('more likely', 5749), ('do some', 2737), ('writing to', 10759), ('you do', 10812), ('keep the', 4992), ('so they', 8037), ('it out', 4854), ('hand and', 3895), ('exactly what', 3139), ('it possible', 4857), ('possible that', 6908), ('the local', 8984), ('can help', 1774), ('purpose of', 7161), ('can do', 1764), ('all you', 497), ('for is', 3469), ('it sounds', 4868), ('sounds like', 8125), ('like your', 5220), ('early', 2890), ('jet', 4925), ('wwii', 10766), ('military', 5642), ('microwave', 5620), ('landing', 5084), ('the early', 8855), ('work on', 10689), ('on these', 6369), ('was also', 10303), ('done by', 2807), ('the military', 9008), ('chief', 1966), ('engineer', 3018), ('univ', 10034), ('colorado', 2073), ('springs', 8224), ('love', 5334), ('inflatable', 4495), ('neat', 5904), ('explode', 3208), ('bolt', 1541), ('needle', 5916), ('clicks', 2024), ('sec', 7746), ('boom', 1551), ('okay', 6329), ('insert', 4537), ('favorite', 3286), ('rumor', 7626), ('supposedly', 8432), ('atlanta', 1191), ('and one', 735), ('the project', 9102), ('colorado springs', 2074), ('love the', 5335), ('idea of', 4233), ('an inflatable', 617), ('mile long', 5640), ('thing to', 9397), ('even better', 3104), ('into it', 4608), ('it at', 4798), ('at 10', 1158), ('would make', 10732), ('nuclear', 6102), ('unlike', 10050), ('themselves', 9292), ('tie', 9559), ('foreign', 3528), ('sharing', 7869), ('agreement', 449), ('ge', 3676), ('chance', 1917), ('steel', 8287), ('slowly', 8003), ('gets', 3724), ('desired', 2571), ('property', 7099), ('difficulties', 2647), ('loops', 5320), ('problem', 7023), ('isolation', 4781), ('water', 10350), ('comparison', 2133), ('dream', 2840), ('none', 6000), ('joseph', 4947), ('the japanese', 8948), ('are still', 1003), ('nuclear power', 6104), ('this means', 9470), ('who do', 10529), ('like it', 5210), ('it gets', 4819), ('not what', 6067), ('as for', 1068), ('what does', 10443), ('is only', 4731), ('that means', 8679), ('that doesn', 8652), ('problems in', 7034), ('don get', 2790), ('none of', 6001), ('that in', 8665), ('shaped', 7865), ('spherical', 8209), ('globe', 3746), ('shape', 7864), ('configuration', 2197), ('lines', 5236), ('bill', 1502), ('been known', 1424), ('is actually', 4643), ('panel', 6628), ('car', 1829), ('replaced', 7447), ('whole', 10540), ('1991', 94), ('god', 3767), ('under', 10012), ('odometer', 6154), ('battery', 1314), ('guess', 3861), ('memory', 5588), ('installed', 4549), ('had the', 3885), ('out in', 6572), ('my car', 5830), ('the whole', 9251), ('whole thing', 10541), ('under the', 10015), ('anyway the', 891), ('was reading', 10327), ('reading the', 7287), ('it must', 4845), ('some sort', 8075), ('in it', 4367), ('it that', 4873), ('me that', 5532), ('the battery', 8771), ('it but', 4804), ('it in', 4827), ('let me', 5179), ('individuals', 4475), ('somehow', 8081), ('explorer', 3211), ('man', 5423), ('prize', 7011), ('applied', 912), ('applies', 914), ('journal', 4949), ('poster', 6921), ('answer', 833), ('alleviate', 506), ('discomfort', 2679), ('helping', 4075), ('future', 3652), ('to think', 9818), ('the system', 9201), ('and like', 710), ('before and', 1435), ('often the', 6317), ('the prize', 9095), ('is limited', 4708), ('applied to', 913), ('applies to', 915), ('because it', 1409), ('be of', 1371), ('make the', 5411), ('what about', 10436), ('are they', 1010), ('because they', 1414), ('they didn', 9360), ('all over', 489), ('there some', 9329), ('done on', 2809), ('the original', 9051), ('original poster', 6544), ('probably not', 7018), ('and you', 808), ('for future', 3460), ('electronics', 2972), ('obviously', 6141), ('tuned', 9966), ('answers', 837), ('diagram', 2614), ('network', 5934), ('addressed', 382), ('stamped', 8241), ('of electronics', 6190), ('by people', 1715), ('in to', 4420), ('of them', 6273), ('them have', 9279), ('answers and', 838), ('and many', 718), ('the network', 9027), ('why don', 10547), ('don you', 2802), ('write to', 10755), ('answer your', 835), ('your questions', 10878), ('if can', 4250), ('saved', 7679), ('apr', 933), ('gmt', 3752), ('getting', 3725), ('chinese', 1970), ('greek', 3831), ('somewhere', 8103), ('apr 93', 936), ('working on', 10698), ('on it', 6349), ('and up', 786), ('just don', 4974), ('offers', 6306), ('found it', 3558), ('it thanks', 4872), ('those people', 9515), ('via mail', 10236), ('electronic', 2971), ('oscillator', 6547), ('expect', 3179), ('engineers', 3022), ('fraud', 3575), ('software', 8050), ('speedometer', 8200), ('pulse', 7152), ('rate', 7240), ('speed', 8198), ('electrical', 2967), ('noise', 5996), ('bounce', 1568), ('pins', 6796), ('meter', 5603), ('fast', 3278), ('protected', 7110), ('place', 6803), ('jerry', 4924), ('just few', 4975), ('bunch of', 1632), ('on your', 6376), ('with an', 10612), ('expect to', 3180), ('be able', 1319), ('because the', 1413), ('electronics and', 2973), ('and would', 806), ('would expect', 10724), ('the software', 9172), ('software to', 8053), ('if were', 4268), ('were to', 10429), ('to design', 9656), ('the following', 8895), ('off the', 6301), ('or just', 6485), ('the rate', 9114), ('rate of', 7241), ('be too', 1392), ('too high', 9860), ('in and', 4328), ('if this', 4266), ('to remember', 9778), ('the middle', 9007), ('middle of', 5623), ('the counter', 8821), ('remember it', 7426), ('so it', 8028), ('is probably', 4735), ('an extremely', 611), ('be an', 1322), ('the national', 9021), ('into this', 4613), ('this in', 9459), ('in good', 4361), ('1976', 79), ('suppose', 8428), ('died', 2627), ('authorities', 1224), ('was there', 10331), ('suppose it', 8429), ('never heard', 5949), ('of any', 6167), ('perhaps the', 6727), ('but ve', 1689), ('ve never', 10195), ('never seen', 5951), ('there and', 9314), ('and don', 666), ('know of', 5046), ('that has', 8659), ('are lot', 979), ('tell us', 8569), ('worse', 10709), ('tries', 9938), ('alcohol', 476), ('be involved', 1359), ('is usually', 4765), ('is too', 4759), ('use as', 10104), ('fda', 3289), ('rules', 7625), ('donations', 2804), ('trip', 9941), ('bank', 1292), ('necessarily', 5905), ('apply', 916), ('the fda', 8884), ('from anyone', 3597), ('anyone who', 881), ('area for', 1027), ('me for', 5521), ('not necessarily', 6045), ('may not', 5497), ('apply to', 918), ('sure they', 8443), ('shock', 7887), ('proteins', 7114), ('induced', 4476), ('elevated', 2978), ('temperature', 8574), ('organisms', 6536), ('stress', 8324), ('conditions', 2189), ('salt', 7651), ('connection', 2206), ('happens', 3912), ('burn', 1634), ('are those', 1011), ('to other', 9747), ('connection to', 2207), ('to what', 9833), ('what happens', 10447), ('laser', 5098), ('missing', 5674), ('not too', 6063), ('this would', 9508), ('the right', 9134), ('place to', 6807), ('to post', 9758), ('post this', 6916), ('here goes', 4087), ('that some', 8695), ('however the', 4195), ('the laser', 8958), ('something about', 8091), ('supply', 8419), ('deliver', 2520), ('250', 136), ('cap', 1814), ('flash', 3386), ('cant', 1813), ('apart', 895), ('breaking', 1586), ('receiving', 7329), ('description', 2554), ('looked', 5311), ('circuits', 1993), ('thanx', 8630), ('but do', 1653), ('like the', 5215), ('of using', 6286), ('seems that', 7781), ('would appreciate', 10720), ('source of', 8128), ('of one', 6241), ('have already', 3958), ('in several', 4403), ('hello', 4061), ('cable', 1724), ('networks', 5938), ('tons', 9854), ('money', 5716), ('solution', 8063), ('reception', 7333), ('dollars', 2780), ('plug', 6854), ('wall', 10283), ('outlet', 6584), ('excellent', 3153), ('transmitting', 9919), ('stations', 8275), ('alabama', 468), ('pop', 6890), ('recommendations', 7338), ('brand', 1579), ('prices', 6994), ('catalog', 1861), ('ordering', 6530), ('addresses', 383), ('the cable', 8788), ('would like', 10731), ('of money', 6230), ('so what', 8041), ('have seen', 3990), ('plug into', 6855), ('into your', 4614), ('make your', 5415), ('to admit', 9607), ('even with', 3111), ('this seems', 9486), ('ll try', 5276), ('though if', 9520), ('am in', 561), ('in non', 4382), ('are pretty', 993), ('100 000', 28), ('thank you', 8623), ('shore', 7891), ('quality', 7181), ('properly', 7096), ('assembled', 1123), ('amp', 587), ('runs', 7632), ('hot', 4170), ('gonna', 3780), ('class', 2016), ('amps', 593), ('inside', 4538), ('rated', 7242), ('life', 5195), ('regardless', 7377), ('touch', 9880), ('manufacturer', 5438), ('wanted', 10290), ('cooling', 2296), ('save', 7677), ('good point', 3791), ('wouldn be', 10749), ('the components', 8810), ('they use', 9380), ('off shore', 6300), ('are of', 988), ('designed and', 2563), ('are used', 1015), ('used it', 10126), ('where it', 10480), ('that runs', 8692), ('the amp', 8741), ('actually be', 362), ('even though', 3109), ('though the', 9523), ('to run', 9782), ('that way', 8712), ('the life', 8975), ('life of', 5197), ('regardless of', 7378), ('that does', 8651), ('hot to', 4171), ('is because', 4657), ('either the', 2963), ('wanted to', 10291), ('to save', 9783), ('attributed', 1213), ('sleep', 7996), ('this one', 9477), ('one time', 6409), ('of good', 6197), ('reward', 7555), ('corporation', 2315), ('successfully', 8374), ('keeps', 4996), ('alive', 481), ('keeping', 4994), ('highly', 4113), ('involve', 4631), ('dear', 2483), ('landed', 5083), ('roof', 7602), ('base', 1300), ('gosh', 3795), ('leaves', 5155), ('residents', 7497), ('quick', 7200), ('tank', 8526), ('guns', 3871), ('sorts', 8116), ('kidding', 5011), ('takes', 8512), ('prizes', 7012), ('programs', 7077), ('encourage', 2998), ('of billion', 6171), ('billion would', 1507), ('moon for', 5731), ('for year', 3521), ('year and', 10771), ('and with', 804), ('the problem', 9097), ('problem of', 7027), ('than just', 8612), ('just the', 4983), ('the lunar', 8990), ('the roof', 9140), ('back and', 1262), ('time they', 9579), ('they ve', 9381), ('ve got', 10190), ('all sorts', 490), ('sorts of', 8117), ('developed in', 2595), ('although the', 550), ('programs and', 7078), ('too small', 9864), ('to encourage', 9665), ('what would', 10460), ('be very', 1396), ('models', 5695), ('music', 5823), ('concepts', 2176), ('models and', 5696), ('selected', 7791), ('lacking', 5077), ('molecular', 5711), ('store', 8312), ('shelf', 7878), ('priced', 6993), ('bar', 1296), ('coded', 2053), ('errors', 3062), ('favor', 3285), ('spell', 8202), ('caller', 1741), ('selling', 7796), ('share', 7866), ('threat', 9535), ('genes', 3695), ('units', 10033), ('opposed', 6455), ('genetics', 3697), ('stand', 8242), ('meme', 5587), ('amplification', 590), ('harmful', 3922), ('formerly', 3544), ('restricted', 7528), ('destructive', 2575), ('laying', 5133), ('waste', 10344), ('benefits', 1473), ('against', 432), ('engineered', 3019), ('virtual', 10254), ('the context', 8817), ('of other', 6244), ('which it', 10503), ('was made', 10317), ('50 years', 198), ('be possible', 1376), ('it be', 4800), ('in your', 4432), ('head and', 4030), ('they make', 9369), ('responses to', 7519), ('the questions', 9109), ('we are', 10374), ('the basic', 8770), ('as opposed', 1087), ('opposed to', 6456), ('the units', 9230), ('against the', 433), ('this guy', 9454), ('function', 3634), ('sophisticated', 8110), ('lift', 5200), ('keyboard', 5007), ('mixer', 5686), ('decent', 2493), ('former', 3543), ('wired', 10600), ('cold', 2060), ('gnd', 3753), ('depends', 2538), ('turns', 9975), ('christopher', 1985), ('but more', 1667), ('control and', 2274), ('and ground', 685), ('the keyboard', 8952), ('just that', 4982), ('depends on', 2539), ('be good', 1351), ('good place', 3790), ('ex', 3134), ('smoker', 8011), ('lung', 5361), ('returns', 7546), ('in either', 4347), ('maybe it', 5502), ('is evidence', 4679), ('evidence that', 3132), ('risk of', 7579), ('that of', 8687), ('has never', 3937), ('think it', 9412), ('may get', 5495), ('ll find', 5272), ('find the', 3353), ('it since', 4865), ('since my', 7964), ('are interested', 974), ('occurred', 6146), ('periodically', 6730), ('episode', 3048), ('begins', 1446), ('followed', 3421), ('pains', 6625), ('affecting', 417), ('mostly', 5767), ('muscle', 5819), ('ears', 2891), ('night', 5976), ('calls', 1743), ('peripheral', 6733), ('looks', 5317), ('checked', 1958), ('distorted', 2712), ('telephone', 8562), ('straight', 8317), ('loss', 5324), ('mri', 5791), ('brain', 1576), ('mg', 5612), ('whenever', 10475), ('has the', 3947), ('which have', 10499), ('every few', 3121), ('few months', 3315), ('followed by', 3422), ('in her', 4362), ('at night', 1176), ('during the', 2873), ('the day', 8828), ('in both', 4336), ('says it', 7691), ('it looks', 4836), ('in general', 4359), ('appear to', 901), ('loss of', 5325), ('tests have', 8600), ('for something', 3502), ('something called', 8092), ('found on', 3559), ('of her', 6201), ('only thing', 6427), ('thing that', 9395), ('she had', 7872), ('per day', 6711), ('10 15', 20), ('the symptoms', 9200), ('leg', 5163), ('sometimes', 8101), ('arm', 1039), ('negative', 5920), ('healthy', 4043), ('neurologist', 5939), ('block', 1524), ('muscles', 5820), ('fever', 3311), ('entirely', 3038), ('sick', 7927), ('neither', 5923), ('hint', 4119), ('my left', 5839), ('the left', 8969), ('and sometimes', 762), ('am not', 563), ('have shown', 3992), ('shown that', 7916), ('have little', 3976), ('too much', 9863), ('much of', 5815), ('not know', 6041), ('the result', 9130), ('result of', 7532), ('and am', 641), ('for every', 3455), ('hey', 4093), ('play', 6834), ('reasonable', 7312), ('shot', 7898), ('throw', 9547), ('exclusive', 3166), ('clue', 2040), ('an old', 622), ('has some', 3944), ('put on', 7170), ('on lunar', 6352), ('but let', 1665), ('would the', 10741), ('come from', 2088), ('there be', 9317), ('be enough', 1346), ('to play', 9755), ('the answers', 8745), ('asking', 1119), ('makes', 5416), ('seeing', 7771), ('exchange', 3163), ('august', 1219), ('absolutely', 308), ('determined', 2591), ('sometime', 8100), ('america', 570), ('summarize', 8404), ('pay', 6680), ('sorry for', 8112), ('question that', 7193), ('the technical', 9204), ('the answer', 8744), ('the uk', 9227), ('which makes', 10504), ('shuttle launch', 7922), ('the year', 9262), ('at which', 1186), ('be in', 1356), ('so if', 8026), ('someone can', 8083), ('and where', 798), ('where to', 10484), ('get them', 3719), ('them from', 9278), ('me thanks', 5531), ('very much', 10227), ('much for', 5809), ('for your', 3524), ('and if', 696), ('anyone else', 873), ('just to', 4985), ('all those', 495), ('to pay', 9751), ('pay for', 6681), ('for their', 3508), ('speak', 8179), ('sands', 7664), ('town', 9892), ('ssrt', 8232), ('sdio', 7736), ('funds', 3643), ('fund', 3638), ('vehicle', 10200), ('tanks', 8527), ('effort', 2953), ('usaf', 10099), ('managers', 5431), ('ssto', 8233), ('bring', 1597), ('dc', 2475), ('spending', 8206), ('meet', 5577), ('media', 5564), ('ans', 832), ('allen', 500), ('well it', 10416), ('as we', 1101), ('is at', 4653), ('white sands', 10524), ('but they', 1685), ('are all', 950), ('the future', 8905), ('and do', 664), ('have some', 3993), ('not going', 6032), ('to fund', 9675), ('an orbital', 626), ('from them', 3609), ('them is', 9281), ('to keep', 9703), ('keep it', 4991), ('another year', 831), ('which might', 10507), ('is also', 4646), ('set of', 7839), ('to answer', 9613), ('few more', 3316), ('comes from', 2095), ('this program', 9482), ('open to', 6436), ('have about', 3956), ('next year', 5973), ('year for', 10772), ('to bring', 9628), ('not all', 6015), ('to dc', 9653), ('made for', 5376), ('is still', 4750), ('and get', 680), ('your local', 10872), ('them to', 9290), ('the flight', 8892), ('86', 248), ('chips', 1975), ('pc', 6686), ('does anybody', 2761), ('for pc', 3491), ('kuiper', 5067), ('object', 6122), ('smiley', 8008), ('last year', 5103), ('year is', 10773), ('known as', 5059), ('the maximum', 9000), ('school', 7706), ('nerve', 5925), ('injuries', 4530), ('medical school', 5568), ('should have', 7904), ('books on', 1550), ('inquire', 4536), ('listed', 5249), ('frontier', 3619), ('sponsored', 8218), ('teachers', 8540), ('illinois', 4282), ('graduate', 3813), ('credit', 2387), ('college', 2069), ('teach', 8539), ('tool', 9868), ('students', 8338), ('excited', 3164), ('benefit', 1471), ('principles', 7002), ('aeronautics', 410), ('zero', 10882), ('training', 9903), ('simulation', 7960), ('launches', 5126), ('sessions', 7837), ('trips', 9943), ('museum', 5821), ('lewis', 5188), ('center', 1895), ('ohio', 6320), ('additional', 377), ('social', 8043), ('dinner', 2660), ('specialist', 8185), ('president', 6975), ('inc', 4433), ('crew', 2388), ('november', 6090), ('thursday', 9555), ('registration', 7385), ('fee', 3298), ('includes', 4444), ('transportation', 9922), ('continental', 2255), ('special', 8184), ('guest', 3864), ('receive', 7323), ('rd', 7256), ('il', 4278), ('am posting', 564), ('posting this', 6924), ('phone number', 6762), ('the planetary', 9081), ('be held', 1355), ('the program', 9101), ('please note', 6847), ('note that', 6073), ('is intended', 4699), ('intended for', 4574), ('is being', 4658), ('space exploration', 8150), ('living in', 5269), ('space the', 8168), ('the solar', 9173), ('training in', 9904), ('of science', 6256), ('research center', 7484), ('center in', 1897), ('provided by', 7123), ('president of', 6976), ('of payload', 6248), ('member of', 5583), ('the crew', 8824), ('also available', 528), ('an additional', 598), ('to receive', 9775), ('receive the', 7324), ('the two', 9225), ('contact the', 2242), ('the science', 9150), ('ability', 276), ('easier', 2899), ('obtain', 6136), ('permission', 6736), ('king', 5023), ('george', 3700), ('usa', 10098), ('ca', 1723), ('1800', 65), ('staying', 8283), ('jump', 4962), ('define', 2509), ('activities', 356), ('carry', 1844), ('minerals', 5656), ('killed', 5016), ('soviet', 8134), ('africa', 421), ('about this', 298), ('it only', 4852), ('the ability', 8729), ('ability to', 277), ('to stop', 9800), ('taking it', 8514), ('you never', 10836), ('never mind', 5950), ('mind the', 5649), ('the legal', 8970), ('easier to', 2900), ('to obtain', 9741), ('many people', 5445), ('remember that', 7428), ('to cross', 9650), ('cross the', 2395), ('he couldn', 4018), ('that how', 8663), ('it didn', 4813), ('didn have', 2625), ('sure there', 8442), ('examples of', 3149), ('far away', 3274), ('but none', 1672), ('to mind', 9725), ('right now', 7564), ('or do', 6474), ('to carry', 9632), ('scientific research', 7724), ('at it', 1171), ('the late', 8960), ('commercial space', 2109), ('space launch', 8156), ('the very', 9242), ('essence', 3070), ('larger', 5094), ('economy', 2914), ('colonies', 2071), ('continuing', 2260), ('conceivable', 2170), ('hundred', 4208), ('bases', 1306), ('grad', 3811), ('gary', 3664), ('in essence', 4349), ('that with', 8720), ('have more', 3979), ('funds to', 3644), ('that was', 8711), ('the case', 8790), ('case with', 1853), ('will probably', 10578), ('reason for', 7309), ('for being', 3447), ('the money', 9012), ('why not', 10550), ('it most', 4843), ('only have', 6423), ('several hundred', 7849), ('hundred years', 4209), ('from those', 3611), ('can you', 1801), ('you put', 10840), ('for 30', 3439), ('you use', 10855), ('according', 331), ('ti', 9558), ('pinouts', 6795), ('display', 2703), ('follows', 3426), ('led', 5157), ('latch', 5104), ('omitted', 6335), ('13', 48), ('vcc', 10183), ('5v', 211), ('drivers', 2848), ('intensity', 4577), ('affected', 415), ('according to', 332), ('are as', 954), ('as follows', 1067), ('supply voltage', 8420), ('ground pin', 3840), ('the led', 8968), ('the chip', 8797), ('affected by', 416), ('the supply', 9198), ('apparently', 898), ('burning', 1636), ('protein', 7113), ('dna', 2725), ('survive', 8463), ('occurs', 6147), ('eat', 2908), ('food', 3428), ('woods', 10674), ('contain', 2245), ('toxins', 9894), ('compounds', 2157), ('stomach', 8306), ('intestine', 4604), ('intestinal', 4603), ('wood', 10673), ('charcoal', 1938), ('friend of', 3591), ('of mine', 6229), ('working with', 10699), ('changes in', 1924), ('know but', 5038), ('but never', 1670), ('this also', 9430), ('as they', 1096), ('if these', 4264), ('would they', 10743), ('they be', 9355), ('someone with', 8089), ('with more', 10628), ('anyone can', 871), ('that may', 8678), ('vague', 10164), ('proposal', 7102), ('seemed', 7777), ('land', 5082), ('decade', 2489), ('placing', 6814), ('explain', 3202), ('besides', 1476), ('be that', 1389), ('they just', 9366), ('or that', 6497), ('they actually', 9351), ('thought about', 9525), ('got the', 3799), ('seemed to', 7778), ('people on', 6703), ('the decade', 8831), ('what they', 10454), ('would do', 10723), ('there the', 9331), ('out with', 6581), ('with you', 10651), ('missed', 5671), ('matters', 5488), ('substantial', 8367), ('john', 4932), ('olney', 6334), ('literature', 5257), ('additive', 378), ('glutamate', 3749), ('humans', 4207), ('included', 4442), ('diet', 2629), ('thrown', 9549), ('freely', 3580), ('foods', 3434), ('added', 372), ('eating', 2910), ('junk', 4965), ('packaged', 6610), ('jack', 4912), ('sensitivity', 7813), ('suffer', 8382), ('numerous', 6114), ('review', 7550), ('paper', 6630), ('1988', 90), ('your own', 10875), ('the use', 9235), ('posts to', 6927), ('look up', 5310), ('the effects', 8861), ('of msg', 6233), ('the brain', 8785), ('and on', 734), ('the literature', 8981), ('that msg', 8682), ('msg is', 5799), ('much in', 5811), ('the diet', 8840), ('diet and', 2630), ('in small', 4405), ('available in', 1238), ('in many', 4374), ('blood levels', 1527), ('so high', 8024), ('that anyone', 8637), ('to these', 9817), ('difference', 2634), ('printer', 7005), ('print', 7003), ('faster', 3279), ('486', 192), ('33', 159), ('copy', 2306), ('copies', 2303), ('consumables', 2235), ('lowest', 5349), ('purchase', 7157), ('hp', 4198), ('package', 6609), ('wild', 10559), ('page', 6616), ('rotate', 7607), ('in practice', 4393), ('is little', 4709), ('difference in', 2636), ('is needed', 4718), ('etc can', 3086), ('on top', 6373), ('does the', 2767), ('take to', 8509), ('faster than', 3280), ('than you', 8621), ('you say', 10844), ('the computer', 8811), ('keep up', 4993), ('said to', 7647), ('cost is', 2325), ('will need', 10574), ('the lowest', 8989), ('so in', 8027), ('many cases', 5442), ('will work', 10586), ('is one', 4730), ('difference between', 2635), ('between the', 1492), ('use this', 10117), ('and so', 758), ('so on', 8032), ('cheaper', 1949), ('pad', 6614), ('why would', 10553), ('would you', 10747), ('do that', 2738), ('the goal', 8909), ('goal is', 3764), ('launch pad', 5113), ('artificial', 1059), ('excerpts', 3160), ('specifically', 8191), ('reproduced', 7466), ('began', 1440), ('england', 3025), ('presumably', 6981), ('simply', 7959), ('consumed', 2237), ('sugar', 8387), ('asked', 1115), ('drink', 2843), ('plain', 6815), ('overall', 6597), ('felt', 3309), ('drinking', 2844), ('concern', 2177), ('examining', 3143), ('effect', 2940), ('conducted', 2190), ('johns', 4936), ('hopkins', 4164), ('eaten', 2909), ('typically', 9995), ('host', 4169), ('introduction', 4616), ('1981', 83), ('complaints', 2141), ('headaches', 4032), ('entering', 3035), ('confirm', 2198), ('adverse', 402), ('charged', 1941), ('association', 1130), ('administration', 390), ('additives', 379), ('granted', 3817), ('forth', 3548), ('exceed', 3150), ('120', 41), ('55', 206), ('kg', 5008), ('woman', 10662), ('750', 233), ('soda', 8048), ('yogurt', 10797), ('containing', 2247), ('80', 236), ('consume', 2236), ('32', 158), ('content', 2250), ('stay', 8282), ('rare', 7237), ('metabolic', 5600), ('estimated', 3078), ('unable', 10007), ('amino', 578), ('acid', 342), ('phenylalanine', 6755), ('child', 1967), ('substance', 8365), ('labels', 5071), ('warning', 10298), ('contains', 2248), ('issue of', 4785), ('in england', 4348), ('group of', 3847), ('of more', 6231), ('water and', 10351), ('deal of', 2479), ('among the', 582), ('since the', 7966), ('the researchers', 9127), ('go on', 3759), ('whether the', 10490), ('into an', 4607), ('the years', 9263), ('the effect', 8860), ('effect of', 2942), ('and after', 637), ('them the', 9288), ('of human', 6206), ('johns hopkins', 4937), ('associated with', 1129), ('with any', 10613), ('the amount', 8740), ('of food', 6195), ('most certainly', 5760), ('the government', 8911), ('the market', 8998), ('failed to', 3251), ('that why', 8718), ('why the', 10551), ('the centers', 8793), ('centers for', 1900), ('for disease', 3452), ('control the', 2276), ('public health', 7137), ('the food', 8896), ('food and', 3430), ('and drug', 668), ('food additives', 3429), ('of health', 6199), ('of 50', 6160), ('only one', 6425), ('to stay', 9799), ('born with', 1556), ('one person', 6400), ('in every', 4351), ('000 to', 5), ('has it', 3934), ('unable to', 10008), ('an essential', 607), ('amino acid', 579), ('body and', 1538), ('people with', 6708), ('the substance', 9194), ('happened', 3909), ('coated', 2049), ('cereals', 1905), ('kellog', 4999), ('reaction', 7270), ('coating', 2050), ('immediate', 4293), ('family', 3266), ('signs', 7947), ('nose', 6012), ('itchy', 4902), ('weird', 10410), ('nuts', 6116), ('mushrooms', 5822), ('corn', 2311), ('located', 5284), ('implicated', 4306), ('seizures', 7789), ('seizure', 7788), ('that this', 8705), ('this happened', 9455), ('sugar coated', 8388), ('made by', 5375), ('makes me', 5417), ('think she', 9414), ('might be', 5626), ('be having', 1354), ('an allergic', 599), ('allergic reaction', 502), ('reaction to', 7271), ('to something', 9794), ('the four', 8900), ('four of', 3566), ('us in', 10094), ('shows the', 7918), ('the least', 8967), ('signs of', 7948), ('but we', 1691), ('have lot', 3978), ('including some', 4446), ('literature and', 5258), ('idea is', 4232), ('not cause', 6024), ('cause it', 1871), ('it check', 4808), ('throat', 9542), ('carrier', 1842), ('course of', 2361), ('repair', 7441), ('monitors', 5721), ('generator', 3693), ('suggestions', 8395), ('here and', 4084), ('know where', 5051), ('where can', 10477), ('one that', 6406), ('will provide', 10579), ('space on', 8158), ('is somewhat', 4749), ('down and', 2826), ('and design', 660), ('dsp', 2863), ('price', 6992), ('regards', 7379), ('anybody know', 867), ('know anything', 5037), ('anything about', 884), ('the chips', 8798), ('greatly appreciate', 3829), ('needs', 5918), ('surgical', 8452), ('is hard', 4691), ('off and', 6297), ('and usually', 789), ('newsletter', 5965), ('1985', 87), ('42', 181), ('reported', 7455), ('continued', 2258), ('summarizes', 8405), ('compared', 2130), ('females', 3310), ('respectively', 7511), ('table', 8501), ('increases', 4457), ('race', 7209), ('specified', 8192), ('88', 251), ('age', 434), ('persons', 6744), ('44', 184), ('greater', 3825), ('equal', 3050), ('45', 185), ('87', 250), ('highest', 4112), ('specific', 8190), ('county', 2353), ('elsewhere', 2982), ('34', 162), ('transmitted', 9917), ('staff', 8236), ('activity', 357), ('men', 5589), ('women', 10663), ('94', 264), ('remained', 7421), ('71', 226), ('laboratories', 5072), ('hospital', 4167), ('planning', 6825), ('rates', 7243), ('fourth', 3568), ('57', 208), ('md', 5514), ('ne', 5898), ('spencer', 8204), ('dept', 2543), ('douglas', 2824), ('surveillance', 8460), ('br', 1574), ('div', 2718), ('hiv', 4134), ('cdc', 1887), ('reporting', 7458), ('stable', 8235), ('serves', 7831), ('indicates', 4470), ('affect', 414), ('resistant', 7502), ('examine', 3141), ('regarding', 7375), ('drugs', 2857), ('1a', 104), ('moreover', 5754), ('differences', 2638), ('factors', 3245), ('implementing', 4305), ('buses', 1640), ('schools', 7708), ('developing', 2596), ('educational', 2935), ('assistance', 1126), ('target', 8530), ('forum', 3550), ('references', 7362), ('december', 2492), ('26', 139), ('41', 180), ('producing', 7051), ('relationship', 7398), ('philadelphia', 6757), ('pennsylvania', 6692), ('37', 171), ('ann', 823), ('intern', 4591), ('43', 182), ('81', 242), ('commentary', 2106), ('publication', 7140), ('effectiveness', 2947), ('injury', 4531), ('impact', 4297), ('adult', 393), ('children', 1969), ('motor', 5771), ('death', 2484), ('young', 10863), ('adults', 394), ('potential', 6929), ('lost', 5326), ('65', 220), ('1977', 80), ('passed', 6659), ('legislation', 5167), ('requiring', 7481), ('laws', 5130), ('59', 210), ('crash', 2380), ('remain', 7420), ('decreases', 2502), ('usage', 10100), ('addition', 375), ('parents', 6635), ('consistent', 2222), ('household', 4177), ('analyzed', 634), ('obtained', 6137), ('findings', 3356), ('random', 7229), ('digit', 2656), ('administered', 389), ('module', 5708), ('rarely', 7238), ('estimates', 3079), ('representative', 7464), ('calculate', 1730), ('intervals', 4602), ('statistically', 8277), ('defined', 2510), ('values', 10169), ('arizona', 1037), ('west', 10433), ('virginia', 10252), ('maryland', 5472), ('secondary', 7748), ('enforcement', 3015), ('traffic', 9901), ('violation', 10250), ('issued', 4786), ('york', 10798), ('vehicles', 10202), ('alone', 516), ('nine', 5978), ('criteria', 2389), ('travel', 9923), ('versus', 10214), ('58', 209), ('indicating', 4472), ('comparing', 2132), ('serve', 7829), ('communities', 2119), ('federal', 3297), ('directed', 2664), ('protect', 7109), ('wear', 10396), ('encouraged', 2999), ('characterized', 1936), ('childhood', 1968), ('46', 186), ('sc', 7694), ('papers', 6632), ('highway', 4114), ('dot', 2817), ('hs', 4200), ('california', 1735), ('requirement', 7477), ('hall', 3891), ('progress', 7079), ('education', 2933), ('distribution', 2714), ('hill', 4115), ('carolina', 1840), ('cities', 2001), ('lh', 5189), ('park', 6637), ('institute', 4554), ('1986', 88), ('devices', 2605), ('hunter', 4212), ('jc', 4919), ('jr', 4955), ('73', 229), ('summaries', 8403), ('separate', 7818), ('broad', 1603), ('reports', 7459), ('monitor', 5719), ('covers', 2374), ('georgia', 3701), ('collection', 2067), ('methods', 5608), ('diagnostic', 2613), ('regional', 7381), ('kidney', 5012), ('reduction', 7354), ('interpretation', 4599), ('pregnancy', 6962), ('environmental', 3043), ('exposure', 3216), ('gene', 3684), ('pool', 6887), ('actions', 352), ('particular', 6649), ('authors', 1227), ('larry', 5097), ('spread', 8222), ('virus', 10256), ('weekly', 10403), ('statistics', 8278), ('offices', 6311), ('121', 43), ('index', 4465), ('unusual', 10059), ('illnesses', 4284), ('throughout', 9545), ('patterns', 6677), ('regions', 7382), ('importance', 4308), ('viral', 10251), ('strain', 8318), ('analyses', 631), ('produced', 7048), ('officials', 6313), ('informed', 4515), ('choices', 1980), ('annual', 827), ('subsequent', 8364), ('infectious', 4489), ('investigations', 4624), ('branch', 1578), ('substances', 8366), ('pasteur', 6663), ('alan', 469), ('vol', 10266), ('tucson', 9963), ('monthly', 5724), ('copyright', 2309), ('tech', 8544), ('transfer', 9907), ('tube', 9961), ('referred', 7364), ('art', 1051), ('procedures', 7037), ('pathology', 6666), ('proceed', 7038), ('comprehensive', 2158), ('reproduction', 7467), ('describes', 2551), ('applications', 909), ('considers', 2221), ('realistic', 7296), ('success', 8371), ('ongoing', 6416), ('involves', 4635), ('cells', 1891), ('linked', 5240), ('considerable', 2215), ('associate', 1127), ('professor', 7059), ('advances', 398), ('procedure', 7036), ('dish', 2699), ('maintained', 5401), ('controlled', 2278), ('processed', 7043), ('ensure', 3033), ('adequate', 384), ('occasionally', 6143), ('ultrasound', 10002), ('endometriosis', 3009), ('mild', 5638), ('forms', 3546), ('male', 5422), ('percent', 6714), ('involving', 4636), ('comparable', 2127), ('incidence', 4436), ('attempts', 1206), ('failure', 3252), ('underlying', 10017), ('recognition', 7334), ('decrease', 2500), ('present', 6971), ('investigating', 4622), ('proportion', 7100), ('performed', 6723), ('contrast', 2269), ('average', 1244), ('circumstances', 1998), ('excess', 3161), ('technique', 8548), ('36', 170), ('treated', 9925), ('concerns', 2182), ('reducing', 7352), ('performing', 6724), ('albeit', 473), ('minimal', 5658), ('january', 4915), ('residual', 7498), ('relating', 7395), ('guidelines', 3868), ('capability', 1817), ('ml', 5688), ('combination', 2082), ('fewer', 3320), ('barrier', 1298), ('relates', 7393), ('limitations', 5225), ('inherent', 4523), ('selection', 7792), ('chosen', 1983), ('manipulation', 5434), ('worthwhile', 10714), ('establish', 3074), ('27', 140), ('number 10', 6107), ('apr 16', 934), ('16 1993', 61), ('cases of', 1856), ('analysis of', 633), ('this disease', 9445), ('reported to', 7457), ('reported in', 7456), ('in 1991', 4322), ('the largest', 8957), ('greater than', 3826), ('equal to', 3051), ('for only', 3487), ('the 15', 8725), ('the highest', 8924), ('increased by', 4456), ('and commercial', 657), ('to determine', 9658), ('in three', 4418), ('three of', 9539), ('1992 the', 96), ('and for', 675), ('that for', 8656), ('health and', 4040), ('and information', 700), ('center for', 1896), ('note the', 6074), ('network of', 5935), ('indicates that', 4471), ('explanation for', 3207), ('the increased', 8936), ('in recent', 4396), ('areas of', 1030), ('the possible', 9085), ('program is', 7068), ('information from', 4508), ('from all', 3595), ('exceeds the', 3152), ('is likely', 4707), ('useful for', 10132), ('risk for', 7578), ('differences in', 2639), ('in high', 4363), ('are being', 958), ('the target', 9202), ('health care', 4041), ('use and', 10103), ('can it', 1776), ('health service', 4042), ('healthy people', 4044), ('and disease', 663), ('washington dc', 10341), ('and human', 695), ('impact of', 4298), ('use on', 10111), ('states and', 8268), ('and safety', 751), ('by an', 1705), ('in addition', 4324), ('not use', 6064), ('are less', 976), ('their children', 9266), ('to characterize', 9635), ('available for', 1236), ('states that', 8269), ('developed by', 2594), ('asked to', 1118), ('age and', 435), ('use for', 10106), ('for that', 3506), ('categories of', 1868), ('and less', 709), ('of each', 6187), ('software for', 8052), ('was used', 10336), ('each of', 2884), ('had no', 3883), ('new york', 5959), ('for safety', 3495), ('years but', 10780), ('size of', 7987), ('and those', 779), ('were not', 10427), ('than in', 8610), ('for 10', 3438), ('age of', 436), ('has also', 3928), ('and control', 658), ('consistent with', 2223), ('are at', 955), ('with them', 10644), ('be at', 1325), ('is often', 4727), ('to protect', 9764), ('those with', 9518), ('that do', 8650), ('encouraged to', 3000), ('by using', 1721), ('characterized by', 1937), ('education and', 2934), ('north carolina', 6010), ('characteristics of', 1934), ('has published', 3941), ('published the', 7146), ('as part', 1088), ('range of', 7232), ('for each', 3454), ('the reports', 9125), ('most recent', 5766), ('are provided', 995), ('for and', 3443), ('in two', 4423), ('and some', 761), ('to monitor', 9727), ('of major', 6220), ('description of', 2555), ('system the', 8492), ('program and', 7064), ('data for', 2446), ('are probably', 994), ('easy to', 2907), ('the reason', 9118), ('related to', 7392), ('in particular', 4390), ('the differences', 8842), ('division of', 2722), ('impact on', 4299), ('and from', 677), ('reports of', 7460), ('throughout the', 9546), ('the course', 8823), ('the importance', 8935), ('attention to', 1210), ('only for', 6422), ('for treatment', 3514), ('treatment and', 9928), ('components in', 2152), ('office of', 6309), ('infectious diseases', 4490), ('the office', 9039), ('of public', 6253), ('of arizona', 6169), ('following the', 3425), ('referred to', 7365), ('to as', 9618), ('it almost', 4790), ('appropriate to', 929), ('with one', 10633), ('the art', 8757), ('addition to', 376), ('patients in', 6671), ('state of', 8261), ('article on', 1056), ('describes the', 2552), ('this article', 9434), ('research in', 7485), ('program that', 7070), ('of research', 6254), ('research that', 7491), ('toward the', 9886), ('the management', 8995), ('hope to', 4160), ('to apply', 9617), ('patients who', 6673), ('to avoid', 9622), ('college of', 2070), ('of medicine', 6227), ('following are', 3424), ('available at', 1234), ('days before', 2470), ('before they', 1438), ('obtained in', 6139), ('the operating', 9045), ('the less', 8972), ('forms of', 3547), ('the overall', 9057), ('success rate', 8372), ('at about', 1163), ('to address', 9606), ('of higher', 6203), ('quality of', 7182), ('the single', 9163), ('that such', 8698), ('patients are', 6670), ('to an', 9610), ('not been', 6022), ('is present', 4733), ('than 50', 8606), ('percent of', 6715), ('fail to', 3249), ('form of', 3536), ('in contrast', 4344), ('an average', 603), ('occurs in', 6148), ('options for', 6463), ('least one', 5151), ('has such', 3945), ('the data', 8827), ('than that', 8614), ('view of', 10243), ('one might', 6395), ('patients to', 6672), ('be treated', 1393), ('have taken', 3995), ('reducing the', 7353), ('the risks', 9136), ('the quality', 9107), ('of 20', 6158), ('or from', 6477), ('patients with', 6674), ('but also', 1646), ('relating to', 7396), ('and an', 642), ('the capability', 8789), ('capability of', 1818), ('or less', 6486), ('are currently', 964), ('world wide', 10705), ('that only', 8689), ('only to', 6428), ('result in', 7531), ('relates to', 7394), ('techniques for', 8551), ('ma', 5365), ('1984', 86), ('me know', 5525), ('that my', 8684), ('post to', 6917), ('should probably', 7906), ('probably have', 7017), ('been to', 1429), ('pioneer', 6797), ('1000', 30), ('bought', 1566), ('surplus', 8453), ('viewing', 10245), ('connector', 2210), ('front', 3617), ('ideas', 4238), ('to figure', 9669), ('to operate', 9745), ('the back', 8765), ('power it', 6937), ('it up', 4882), ('the front', 8902), ('activity and', 358), ('any experience', 849), ('or any', 6468), ('any ideas', 852), ('fake', 3260), ('claim', 2010), ('war', 10295), ('time there', 9578), ('has any', 3930), ('michigan', 5617), ('nope', 6003), ('illegal', 4280), ('motors', 5773), ('required', 7473), ('organizations', 6538), ('tripoli', 9942), ('rocketry', 7591), ('allowed', 509), ('faa', 3233), ('regulations', 7388), ('aircraft', 462), ('usual', 10145), ('operation', 6444), ('depending', 2536), ('location', 5287), ('feet', 3306), ('operator', 6447), ('responsible', 7520), ('avoiding', 1247), ('radius', 7221), ('visual', 10263), ('western', 10434), ('rock', 7588), ('popular', 6891), ('150', 58), ('approve', 930), ('insure', 4565), ('launcher', 5124), ('500', 199), ('101', 31), ('altitude', 551), ('typical', 9994), ('diameter', 2617), ('transmitter', 9918), ('eastern', 2904), ('telemetry', 8561), ('video', 10241), ('fun', 3633), ('rec', 7318), ('bigger', 1500), ('consumer', 2238), ('ranging', 7234), ('intact', 4566), ('biggest', 1501), ('hobby', 4139), ('crossing', 2396), ('the company', 8809), ('company was', 2126), ('was probably', 10325), ('to purchase', 9768), ('the big', 8776), ('is necessary', 4717), ('be one', 1374), ('or other', 6493), ('national association', 5886), ('association of', 1131), ('of rocketry', 6255), ('and flight', 674), ('allowed to', 510), ('on their', 6367), ('own the', 6602), ('to any', 9614), ('which can', 10495), ('them it', 9282), ('has taken', 3946), ('the usual', 9237), ('are only', 991), ('depending on', 2537), ('the location', 8985), ('the operator', 9046), ('the rocket', 9138), ('is responsible', 4742), ('responsible for', 7521), ('within the', 10655), ('the launch', 8963), ('launch site', 5115), ('are taking', 1005), ('every year', 3123), ('is relatively', 4740), ('nothing to', 6081), ('to hit', 9687), ('ground the', 3841), ('use to', 10118), ('the higher', 8923), ('can reach', 1787), ('000 feet', 4), ('the typical', 9226), ('in diameter', 4345), ('or an', 6466), ('where there', 10482), ('the model', 9010), ('high power', 4106), ('as with', 1104), ('with all', 10611), ('the key', 8951), ('have all', 3957), ('all my', 487), ('any kind', 855), ('that one', 8688), ('the biggest', 8777), ('process', 7040), ('tools', 9869), ('challenger', 1915), ('cited', 2000), ('engine', 3017), ('noted', 6075), ('failures', 3254), ('before the', 1437), ('compared to', 2131), ('noted that', 6076), ('starting to', 8257), ('it much', 4844), ('among other', 581), ('things the', 9407), ('very hard', 10220), ('as an', 1063), ('in flight', 4356), ('put together', 7173), ('cool', 2295), ('ic', 4224), ('uxa', 10158), ('cso', 2403), ('uiuc', 9998), ('tall', 8525), ('rs232', 7621), ('inexpensive', 4482), ('suggestion', 8394), ('12v', 47), ('uxa cso', 10159), ('cso uiuc', 2404), ('uiuc edu', 9999), ('for an', 3442), ('rude', 7623), ('firing', 3365), ('sending', 7804), ('firm', 3366), ('you but', 10805), ('why you', 10554), ('can think', 1798), ('think about', 9410), ('copy of', 2307), ('of your', 6295), ('where he', 10479), ('maybe even', 5501), ('and just', 705), ('it take', 4870), ('it ll', 4834), ('make you', 5414), ('phil', 6756), ('presence', 6969), ('rise', 7576), ('isn the', 4779), ('right the', 7566), ('the evening', 8870), ('to power', 9759), ('asthma', 1146), ('fall', 3261), ('steroid', 8293), ('product', 7052), ('looking at', 5315), ('the product', 9100), ('not clear', 6025), ('timer', 9585), ('link', 5239), ('commands', 2103), ('sequence', 7822), ('pointing', 6875), ('fuel', 3629), ('communications', 2118), ('ops', 6458), ('periods', 6732), ('forgotten', 3534), ('believe the', 1464), ('when there', 10469), ('are no', 985), ('hope that', 4158), ('medication', 5569), ('frequent', 3584), ('instructions', 4559), ('7th', 235), ('talk', 8517), ('raised', 7224), ('voice', 10265), ('quickly', 7201), ('choice', 1978), ('colleagues', 2064), ('medications', 5570), ('express', 3218), ('considering', 2220), ('manner', 5436), ('hurt', 4215), ('calling', 1742), ('orders', 6531), ('knowledgeable', 5056), ('reacting', 7269), ('overly', 6599), ('sensitive', 7811), ('refers', 7368), ('colleague', 2063), ('problem with', 7030), ('told me', 9844), ('to call', 9631), ('so that', 8034), ('made the', 5381), ('to her', 9684), ('up at', 10063), ('the doctor', 8851), ('the pain', 9062), ('have time', 3999), ('time to', 9580), ('day to', 2465), ('time for', 9569), ('us to', 10097), ('to talk', 9809), ('when he', 10465), ('he had', 4022), ('had more', 3882), ('time is', 9571), ('is good', 4689), ('started to', 8255), ('tried to', 9937), ('to explain', 9667), ('and he', 689), ('he said', 4025), ('talk to', 8519), ('me some', 5530), ('about what', 301), ('this point', 9480), ('doesn have', 2771), ('patients and', 6669), ('thought that', 9528), ('that to', 8707), ('on his', 6347), ('not interested', 6039), ('say about', 7682), ('about their', 295), ('gave me', 3672), ('me this', 5534), ('but am', 1647), ('pain and', 6621), ('of time', 6280), ('to deal', 9654), ('deal with', 2480), ('with that', 10641), ('me to', 5535), ('next day', 5970), ('day for', 2463), ('for further', 3459), ('how do', 4182), ('and have', 688), ('have not', 3983), ('not yet', 6070), ('my questions', 5849), ('have this', 3998), ('this may', 9469), ('may cause', 5494), ('be more', 1364), ('who knows', 10535), ('knows more', 5062), ('more about', 5736), ('of pain', 6246), ('but now', 1674), ('headquarters', 4035), ('guidance', 3865), ('policy', 6883), ('advisory', 405), ('committee', 2113), ('mid', 5621), ('utilization', 10151), ('integration', 4567), ('transition', 9914), ('implementation', 4303), ('reserved', 7495), ('investment', 4627), ('rest', 7522), ('presented', 6973), ('session', 7836), ('administrative', 391), ('announced', 825), ('partners', 6652), ('consultation', 2233), ('consideration', 2217), ('russians', 7636), ('participate', 6643), ('consulting', 2234), ('expertise', 3199), ('capabilities', 1815), ('achieving', 341), ('clinton', 2028), ('committed', 2112), ('preserve', 6974), ('jobs', 4929), ('represents', 7465), ('managed', 5425), ('resources', 7508), ('invest', 4619), ('sci space', 7713), ('dr john', 2833), ('the advisory', 8736), ('advisory committee', 406), ('the redesign', 9121), ('on april', 6340), ('the committee', 8806), ('for space', 3503), ('for development', 3451), ('new technology', 5958), ('the rest', 9129), ('rest of', 7523), ('would require', 10737), ('the information', 8938), ('information at', 4505), ('at an', 1165), ('and used', 788), ('used the', 10128), ('they also', 9352), ('the process', 9099), ('process the', 7042), ('the station', 9187), ('to develop', 9659), ('and its', 704), ('the russians', 9143), ('to participate', 9749), ('participate in', 6644), ('as needed', 1084), ('can make', 1779), ('capabilities and', 1816), ('and systems', 766), ('systems the', 8500), ('the and', 8743), ('and international', 701), ('benefit from', 1472), ('systems and', 8498), ('goal of', 3765), ('research and', 7483), ('factor in', 3243), ('station and', 8273), ('effort to', 2954), ('to preserve', 9760), ('technology and', 8555), ('to space', 9795), ('is well', 4767), ('to invest', 9695), ('invest in', 4620), ('future of', 3653), ('industry and', 4481), ('placebo', 6808), ('feels', 3304), ('belief', 1458), ('spite', 8214), ('believes', 1466), ('strongly', 8331), ('sees', 7787), ('reverse', 7549), ('the placebo', 9079), ('placebo effect', 6809), ('effect is', 2941), ('is there', 4756), ('and therefore', 775), ('better in', 1486), ('in spite', 4408), ('spite of', 8215), ('there an', 9313), ('than there', 8616), ('this effect', 9448), ('the above', 8730), ('believe in', 1461), ('would this', 10745), ('ever been', 3117), ('are these', 1009), ('advance for', 396), ('for all', 3441), ('publishing', 7149), ('co', 2045), ('miracle', 5667), ('modification', 5701), ('taste', 8534), ('plant', 6828), ('native', 5890), ('acids', 344), ('recommend', 7337), ('hour', 4173), ('aid', 455), ('pill', 6789), ('slightly', 7999), ('lemon', 5170), ('juice', 4960), ('vinegar', 10248), ('forgot', 3533), ('fruit', 3620), ('the taste', 9203), ('in such', 4409), ('way that', 10362), ('they can', 9356), ('you ever', 10814), ('chance to', 1918), ('an hour', 613), ('will continue', 10565), ('was for', 10310), ('idea was', 4235), ('was that', 10329), ('are we', 1019), ('full of', 3631), ('these things', 9346), ('einstein', 2961), ('relativity', 7403), ('motion', 5769), ('of mercury', 6228), ('flow', 3400), ('vomiting', 10274), ('tend', 8579), ('rid', 7559), ('compound', 2156), ('organism', 6535), ('digest', 2650), ('enzyme', 3044), ('break', 1583), ('expected', 3181), ('reactions', 7272), ('important', 4309), ('exposed', 3214), ('connected', 2204), ('respond', 7512), ('plants', 6829), ('breathing', 1590), ('sets', 7841), ('steroids', 8294), ('poisoning', 6877), ('contracted', 2264), ('glass', 3743), ('vary', 10181), ('widely', 10556), ('combinations', 2084), ('these symptoms', 9345), ('is due', 4676), ('but like', 1666), ('one can', 6387), ('to increased', 9694), ('of many', 6222), ('tend to', 8580), ('get rid', 3715), ('rid of', 7560), ('the stuff', 9192), ('the list', 8980), ('of stuff', 6266), ('people are', 6695), ('allergic to', 503), ('to is', 9697), ('is quite', 4736), ('long and', 5297), ('to break', 9627), ('be expected', 1347), ('these are', 9341), ('way for', 10359), ('course it', 2360), ('important to', 4310), ('etc etc', 3087), ('etc it', 3091), ('the person', 9075), ('exposed to', 3215), ('are connected', 963), ('things in', 9404), ('place the', 6806), ('ways to', 10370), ('it depends', 4811), ('what it', 10451), ('the immune', 8934), ('causing the', 1880), ('system as', 8485), ('as much', 1083), ('much as', 5806), ('above and', 305), ('don think', 2798), ('problems are', 7033), ('area of', 1028), ('release of', 7408), ('it could', 4810), ('could also', 2331), ('be some', 1384), ('to which', 9835), ('from one', 3604), ('of things', 6276), ('thing the', 9396), ('the guy', 8917), ('the human', 8930), ('combinations of', 2085), ('technician', 8547), ('british', 1602), ('columbia', 2077), ('fax', 3287), ('snail', 8013), ('rr', 7619), ('canada', 1802), ('snail mail', 8014), ('mail to', 5394), ('astronaut', 1148), ('connect', 2202), ('will make', 10573), ('might help', 5630), ('the present', 9090), ('and give', 682), ('an idea', 614), ('idea that', 4234), ('we must', 10385), ('month', 5723), ('turned', 9971), ('points', 6876), ('complicated', 2148), ('sampling', 7659), ('lets', 5181), ('whereas', 10487), ('cd', 1885), ('player', 6836), ('this stuff', 9491), ('out about', 6566), ('data is', 2448), ('them for', 9277), ('then the', 9297), ('the purpose', 9106), ('to move', 9730), ('sampling rate', 7660), ('to produce', 9762), ('the jpl', 8950), ('april 23', 941), ('23 1993', 132), ('international space', 4594), ('wire', 10598), ('breaker', 1584), ('building', 1623), ('boxes', 1572), ('grounding', 3844), ('conductor', 2192), ('green', 3832), ('protective', 7112), ('there should', 9328), ('ground wire', 3842), ('to ground', 9680), ('the breaker', 8786), ('the neutral', 9028), ('neutral wire', 5944), ('be no', 1369), ('place in', 6804), ('not in', 6038), ('any of', 858), ('the outlet', 9055), ('wire is', 10599), ('safe to', 7638), ('ground and', 3837), ('of electrical', 6189), ('touch the', 9881), ('att', 1197), ('bu', 1611), ('newsgroups', 5963), ('boston', 1557), ('east', 2903), ('st', 8234), ('617', 218), ('daughter', 2457), ('ingredient', 4521), ('morning', 5755), ('checking', 1959), ('larc nasa', 5090), ('nasa gov', 5875), ('ohio state', 6321), ('state edu', 8260), ('edu david', 2927), ('newsgroups sci', 5964), ('university school', 10040), ('school of', 7707), ('never had', 5948), ('she has', 7873), ('in them', 4413), ('them but', 9276), ('but will', 1696), ('check the', 1956), ('that she', 8693), ('the morning', 9015), ('coffee', 2055), ('flavor', 3389), ('ingredients', 4522), ('buy', 1701), ('watch', 10347), ('blood pressure', 1528), ('of me', 6225), ('read the', 7281), ('buy the', 1702), ('my opinions', 5843), ('opinions are', 6451), ('are my', 984), ('my own', 5845), ('pneumonia', 6861), ('fm', 3412), ('fact the', 3241), ('the drug', 8854), ('choice for', 1979), ('position', 6901), ('accuracy', 335), ('ir', 4638), ('meters', 5604), ('duty', 2876), ('detector', 2586), ('pan', 6627), ('tilt', 9562), ('sensor', 7814), ('angles', 820), ('heck', 4057), ('motorola', 5772), ('pulses', 7153), ('turn', 9967), ('accuracy of', 336), ('of about', 6161), ('about 100', 282), ('is better', 4660), ('duty cycle', 2877), ('information to', 4513), ('to point', 9757), ('determine the', 2590), ('the source', 9175), ('current the', 2418), ('would need', 10733), ('them in', 9280), ('in turn', 4422), ('something like', 8096), ('like this', 5216), ('interface', 4587), ('storage', 8311), ('server', 7830), ('speeds', 8201), ('mb', 5507), ('dried', 2842), ('readily', 7285), ('adapter', 368), ('slower', 8002), ('cheers', 1960), ('are several', 999), ('and think', 777), ('the pc', 9072), ('one but', 6386), ('pretty much', 6985), ('was designed', 10307), ('designed for', 2564), ('is pretty', 4734), ('expanded', 3177), ('implement', 4302), ('huge', 4204), ('row', 7617), ('adding', 374), ('256k', 138), ('simms', 7954), ('equivalent', 3056), ('packages', 6611), ('you could', 10807), ('could do', 2333), ('much easier', 5808), ('or you', 6505), ('could use', 2343), ('the thing', 9213), ('they require', 9375), ('which has', 10498), ('built in', 1627), ('in there', 4414), ('one more', 6396), ('are basically', 957), ('russell', 7633), ('responds', 7515), ('roth', 7609), ('conventional', 2284), ('measurement', 5554), ('journals', 4951), ('practitioner', 6950), ('ron roth', 7601), ('doubt that', 2822), ('well with', 10420), ('you know', 10826), ('this by', 9438), ('of medical', 6226), ('that very', 8710), ('question to', 7195), ('and few', 673), ('other people', 6552), ('love to', 5336), ('come up', 2092), ('is more', 4713), ('an alternative', 600), ('the face', 8879), ('the success', 9195), ('the treatment', 9221), ('meet the', 5578), ('weekend', 10402), ('noticed', 6085), ('briefly', 1594), ('picked', 6778), ('sounded', 8120), ('ham', 3892), ('lights', 5207), ('presume', 6982), ('amplifier', 591), ('unlikely', 10051), ('dirty', 2673), ('1500', 59), ('watts', 10353), ('push', 7164), ('button', 1700), ('cars', 1846), ('watt', 10352), ('interference', 4588), ('rf', 7556), ('shielding', 7883), ('caused', 1874), ('purposes', 7162), ('police', 6881), ('shack', 7857), ('speaker', 8180), ('solve', 8064), ('cooperation', 2299), ('amazing', 569), ('grew', 3834), ('pictures', 6783), ('occur', 6144), ('dead', 2477), ('vs', 10276), ('operators', 6448), ('minutes', 5665), ('noticed that', 6086), ('picked up', 6779), ('sounded like', 8121), ('ham radio', 3893), ('over my', 6595), ('of power', 6250), ('to cause', 9633), ('cause the', 1873), ('unlikely to', 10053), ('amp and', 588), ('that kind', 8671), ('power from', 6935), ('not possible', 6050), ('for just', 3472), ('it you', 4901), ('down on', 2828), ('so you', 8042), ('hit the', 4131), ('put out', 7171), ('would cause', 10722), ('be caused', 1334), ('caused by', 1875), ('may have', 5496), ('used for', 10124), ('for other', 3488), ('etc if', 3089), ('think you', 9421), ('you may', 10831), ('may want', 5499), ('try the', 9956), ('the rf', 9133), ('at radio', 1179), ('radio shack', 7218), ('up by', 10065), ('be installed', 1357), ('the wires', 9256), ('very easily', 10217), ('if that', 4261), ('look for', 5307), ('your problem', 10877), ('do to', 2742), ('this person', 9479), ('may or', 5498), ('or may', 6488), ('the cause', 8791), ('ll get', 5273), ('and help', 690), ('is going', 4688), ('we were', 10391), ('the tv', 9224), ('try and', 9954), ('she is', 7874), ('is how', 4693), ('too bad', 9857), ('require the', 7472), ('are required', 998), ('required to', 7476), ('so many', 8030), ('no more', 5986), ('probably won', 7020), ('to and', 9611), ('have other', 3986), ('remote', 7434), ('schematics', 7703), ('receiver', 7326), ('see this', 7768), ('this info', 9461), ('about 10', 281), ('either way', 2964), ('way the', 10363), ('most common', 5761), ('have also', 3959), ('not sure', 6058), ('one way', 6410), ('of difference', 6181), ('brand of', 1580), ('can often', 1782), ('some very', 8078), ('list for', 5246), ('for not', 3485), ('only the', 6426), ('the receiver', 9119), ('dimensions', 2659), ('also remember', 539), ('that most', 8681), ('most people', 5765), ('digi', 2654), ('sells', 7797), ('sold', 8059), ('pump', 7154), ('circuitry', 1992), ('rs', 7620), ('digi key', 2655), ('to supply', 9804), ('be worth', 1399), ('the extra', 8877), ('are available', 956), ('at your', 1188), ('mono', 5722), ('originally', 6545), ('variant', 10175), ('fatigue', 3283), ('internal', 4592), ('jan', 4914), ('swollen', 8475), ('recurrent', 7344), ('bacteria', 1276), ('moment', 5713), ('facts', 3247), ('levels of', 5187), ('an official', 621), ('now it', 6097), ('also called', 530), ('is causing', 4665), ('etc that', 3092), ('there nothing', 9327), ('nothing wrong', 6082), ('thing as', 9392), ('saying that', 7689), ('are worth', 1023), ('and yes', 807), ('the moment', 9011), ('of info', 6208), ('the condition', 8813), ('these days', 9342), ('rent', 7440), ('billboard', 1503), ('telling', 8571), ('before it', 1436), ('we re', 10387), ('re going', 7258), ('are you', 1024), ('you got', 10820), ('did you', 2623), ('dat', 2443), ('master', 5477), ('output', 6586), ('alternatives', 547), ('10 20', 21), ('this purpose', 9484), ('does this', 2768), ('of thing', 6275), ('information as', 4504), ('as possible', 1089), ('to follow', 9673), ('bother', 1561), ('yourself', 10880), ('shop', 7888), ('dod', 2759), ('pa', 6606), ('heavy', 4056), ('metal', 5601), ('floor', 3397), ('topic', 9873), ('make one', 5408), ('made of', 5380), ('of heavy', 6200), ('the floor', 8893), ('questions on', 7199), ('this topic', 9500), ('you might', 10833), ('might want', 5632), ('functioning', 3636), ('otherwise', 6561), ('rule', 7624), ('closed', 2033), ('are on', 990), ('but are', 1648), ('might also', 5625), ('to remain', 9777), ('all your', 498), ('mailing lists', 5397), ('this will', 9505), ('save the', 7678), ('younger', 10864), ('pediatric', 6690), ('suddenly', 8381), ('104', 33), ('constantly', 2227), ('forget', 3530), ('am sure', 565), ('get sick', 3716), ('get it', 3712), ('is always', 4647), ('the situation', 9165), ('and when', 797), ('took the', 9867), ('the final', 8888), ('things and', 9401), ('and we', 793), ('reactions to', 7273), ('them so', 9286), ('so we', 8040), ('it well', 4889), ('system is', 8490), ('any way', 865), ('also don', 531), ('don forget', 2789), ('forget that', 3531), ('home and', 4149), ('delivered', 2521), ('but he', 1659), ('it what', 4891), ('like that', 5214), ('netters', 5933), ('specialized', 8187), ('channels', 1927), ('30 of', 149), ('them on', 9283), ('on each', 6343), ('use is', 10108), ('and about', 636), ('be best', 1328), ('this application', 9432), ('to buy', 9630), ('other hand', 6551), ('can buy', 1762), ('in some', 4406), ('as many', 1082), ('the particular', 9065), ('continuously', 2262), ('the film', 8887), ('they had', 9364), ('and low', 715), ('sooner', 8109), ('became', 1406), ('handy', 3904), ('cell', 1889), ('animals', 822), ('winter', 10597), ('meteor', 5602), ('strategy', 8320), ('altered', 543), ('lives', 5267), ('notion', 6087), ('tasks', 8533), ('wisdom', 10606), ('hands', 3903), ('ends', 3010), ('hasn', 3951), ('abuse', 312), ('personally', 6742), ('pull', 7150), ('challenge', 1914), ('accept', 320), ('spirit', 8213), ('knowing', 5053), ('listen', 5251), ('escape', 3065), ('mistakes', 5681), ('will then', 10584), ('start to', 8252), ('we want', 10390), ('problems with', 7035), ('reduce the', 7348), ('unless the', 10047), ('then they', 9299), ('they may', 9370), ('to maintain', 9718), ('come in', 2089), ('disease in', 2694), ('don really', 2795), ('for our', 3489), ('environment the', 3042), ('comes to', 2096), ('etc are', 3084), ('different than', 2642), ('if we', 4267), ('we could', 10376), ('could make', 2338), ('they want', 9382), ('it with', 4895), ('with their', 10643), ('the problems', 9098), ('that caused', 8644), ('for while', 3520), ('happen to', 3908), ('but there', 1684), ('is nothing', 4724), ('same way', 7656), ('time that', 9576), ('as whole', 1103), ('power the', 6941), ('that don', 8653), ('face of', 3235), ('earth or', 2897), ('that too', 8708), ('issue is', 4784), ('to pull', 9767), ('it an', 4792), ('we may', 10384), ('problem is', 7026), ('is and', 4649), ('needs to', 5919), ('to accept', 9602), ('the power', 9088), ('and believe', 649), ('listen to', 5252), ('to begin', 9625), ('begin to', 1442), ('needed to', 5915), ('out for', 6570), ('for many', 3476), ('for long', 3475), ('long enough', 5300), ('question of', 7192), ('this new', 9474), ('technology is', 8557), ('is really', 4739), ('it isn', 4830), ('of diseases', 6184), ('of patients', 6247), ('people and', 6694), ('to not', 9740), ('approaches', 927), ('that ve', 8709), ('things like', 9405), ('only way', 6429), ('how you', 4191), ('your doctor', 10868), ('haven seen', 4007), ('doesn mean', 2772), ('paul', 6678), ('dry', 2858), ('ointment', 6327), ('it under', 4881), ('under control', 10013), ('incorrect', 4451), ('narrow', 5870), ('personal', 6740), ('improve', 4316), ('detected', 2583), ('up on', 10068), ('details of', 2579), ('are quite', 996), ('work is', 10686), ('experiment with', 3194), ('to improve', 9690), ('is unlikely', 4761), ('unlikely that', 10052), ('radios', 7220), ('installation', 4548), ('tune', 9965), ('minimum', 5660), ('trim', 9940), ('length', 5171), ('varies', 10177), ('recommended', 7339), ('ed', 2915), ('spot', 8219), ('use an', 10102), ('makes sense', 5418), ('no such', 5992), ('in what', 4429), ('do is', 2733), ('the antenna', 8746), ('the correct', 8819), ('using the', 10143), ('not much', 6043), ('point in', 6866), ('then again', 9294), ('it anyway', 4795), ('surprise', 8454), ('react', 7268), ('brother', 1606), ('swelling', 8469), ('written', 10760), ('banned', 1295), ('wolf', 10661), ('because that', 1412), ('written in', 10762), ('least to', 5153), ('some people', 8074), ('have bad', 3963), ('to msg', 9731), ('and even', 670), ('is bad', 4655), ('be aware', 1327), ('aware that', 1253), ('can have', 1773), ('effect on', 2943), ('on some', 6363), ('eye', 3231), ('sync', 8481), ('relaxation', 7404), ('incredibly', 4460), ('biased', 1496), ('about these', 297), ('them they', 9289), ('understand that', 10020), ('that these', 8703), ('devices are', 2606), ('ve heard', 10192), ('are supposed', 1004), ('they work', 9386), ('work as', 10680), ('the things', 9214), ('that every', 8655), ('on them', 6368), ('or are', 6469), ('when someone', 10467), ('the actual', 8732), ('albert', 474), ('nobody', 5995), ('finding', 3355), ('neptune', 5924), ('odd', 6152), ('uranus', 10088), ('inner', 4532), ('closer', 2035), ('professionals', 7058), ('heard the', 4049), ('came up', 1751), ('the the', 9210), ('orbit it', 6514), ('closer to', 2036), ('by now', 1714), ('hotel', 4172), ('northern', 6011), ('tip', 9593), ('dayton', 2473), ('costing', 2328), ('rooms', 7604), ('spots', 8220), ('last week', 5102), ('week in', 10400), ('the night', 9032), ('has more', 3936), ('more to', 5753), ('suggestions for', 8396), ('please let', 6845), ('phrase', 6769), ('screen', 7733), ('of second', 6258), ('around in', 1044), ('reference to', 7361), ('case the', 1852), ('the lower', 8988), ('item', 4903), ('contract', 2263), ('wrap', 10751), ('wisconsin', 10605), ('madison', 5384), ('utah', 10147), ('instance', 4551), ('legitimate', 5168), ('reston', 7527), ('kinda', 5020), ('funny', 3647), ('talks', 8523), ('flights', 3395), ('dennis', 2529), ('it there', 4875), ('such thing', 8379), ('not saying', 6053), ('but in', 1662), ('been able', 1420), ('who was', 10537), ('it did', 4812), ('included in', 4443), ('suggest that', 8390), ('that any', 8636), ('is included', 4698), ('not you', 6071), ('of nasa', 6237), ('nasa centers', 5874), ('the work', 9258), ('someone who', 8088), ('talks about', 8524), ('space news', 8157), ('point out', 6870), ('caused the', 1876), ('the facts', 8881), ('it takes', 4871), ('cost of', 2326), ('then you', 9301), ('that your', 8723), ('your friend', 10870), ('they could', 9358), ('cup', 2410), ('portal', 6895), ('fossil', 3555), ('recall', 7319), ('contamination', 2249), ('sci electronics', 7711), ('what do', 10442), ('cup portal', 2411), ('however you', 4197), ('see them', 7767), ('them at', 9275), ('nuclear plants', 6103), ('the water', 9246), ('some cases', 8066), ('get away', 3707), ('the hot', 8927), ('as recall', 1090), ('recall the', 7322), ('and of', 732), ('ate', 1189), ('automatically', 1231), ('equally', 3052), ('pepper', 6709), ('fine', 3357), ('the part', 9064), ('left out', 5161), ('we all', 10372), ('if not', 4255), ('there have', 9320), ('post the', 6915), ('got it', 3797), ('rebound', 7317), ('it won', 4896), ('have read', 3988), ('have it', 3975), ('it this', 4877), ('find any', 3347), ('but since', 1678), ('since you', 7971), ('is your', 4774), ('to show', 9791), ('me where', 5537), ('as usual', 1100), ('they do', 9361), ('do have', 2730), ('they need', 9373), ('navigation', 5896), ('beacons', 1402), ('idea for', 4231), ('is as', 4652), ('which means', 10506), ('exactly how', 3137), ('from it', 3600), ('the hardware', 8918), ('on board', 6341), ('absolutely no', 309), ('no need', 5987), ('passive', 6661), ('gun', 3870), ('detecting', 2584), ('from what', 3614), ('much like', 5813), ('the radio', 9111), ('the radar', 9110), ('there would', 9337), ('way of', 10361), ('radar detector', 7211), ('any more', 856), ('kids', 5014), ('fan', 3268), ('heating', 4054), ('choosing', 1982), ('sell', 7794), ('goals', 3766), ('labeled', 5070), ('cleaning', 2021), ('huh', 4205), ('efficient', 2952), ('chemicals', 1962), ('processing', 7045), ('have you', 4003), ('food industry', 3431), ('you must', 10834), ('you to', 10854), ('sensitive to', 7812), ('msg and', 5797), ('it makes', 4838), ('why does', 10546), ('does it', 2764), ('like you', 5219), ('were the', 10428), ('probably the', 7019), ('general the', 3687), ('the flavor', 8891), ('of certain', 6174), ('no no', 5988), ('sell for', 7795), ('for good', 3462), ('use it', 10109), ('they think', 9379), ('to those', 9820), ('them out', 9285), ('business and', 1642), ('what if', 10449), ('just be', 4972), ('food that', 3433), ('fine but', 3358), ('me whether', 5538), ('for my', 3481), ('that all', 8632), ('marks', 5462), ('civil', 2005), ('transport', 9921), ('up there', 10071), ('to recall', 9774), ('or at', 6471), ('thought it', 9526), ('sure it', 8438), ('it seemed', 4862), ('infants', 4484), ('1200', 42), ('be less', 1362), ('thing was', 9398), ('easiest', 2901), ('hubble', 4202), ('faint', 3255), ('ultraviolet', 10003), ('event', 3113), ('quarter', 7186), ('modify', 5704), ('here are', 4085), ('the hubble', 8929), ('hubble space', 4203), ('space telescope', 8167), ('of both', 6172), ('the planet', 9080), ('high speed', 4108), ('will help', 10571), ('help in', 4065), ('moon and', 5728), ('to modify', 9726), ('modify the', 5705), ('to allow', 9609), ('title', 9597), ('contact me', 2241), ('help me', 4066), ('me out', 5528), ('who would', 10539), ('to sell', 9788), ('computing', 2168), ('the term', 9208), ('equivalent of', 3057), ('of large', 6214), ('it means', 4840), ('care to', 1835), ('safety and', 7640), ('and almost', 639), ('almost everything', 515), ('krillean', 5064), ('photography', 6767), ('krillean photography', 5065), ('taking pictures', 8515), ('pictures of', 6784), ('permit', 6737), ('quote', 7207), ('comp', 2121), ('eric', 3060), ('feb', 3294), ('format', 3538), ('secret', 7750), ('eng', 3016), ('computers', 2167), ('programmable', 7074), ('gate', 3666), ('till', 9561), ('experts', 3200), ('scale', 7695), ('collected', 2065), ('binary', 1508), ('automatic', 1230), ('flexible', 3391), ('computation', 2163), ('calculated', 1731), ('trivial', 9944), ('cs', 2400), ('ave', 1242), ('it because', 4801), ('tools to', 9870), ('the bit', 8778), ('very interesting', 10223), ('and does', 665), ('are what', 1021), ('use them', 10115), ('discovered that', 2683), ('can even', 1766), ('what could', 10441), ('can imagine', 1775), ('worse than', 10710), ('out what', 6579), ('plan to', 6817), ('equivalent to', 3058), ('or two', 6501), ('it should', 4864), ('its own', 4906), ('control of', 2275), ('necessary for', 5907), ('is used', 4763), ('used as', 10121), ('value of', 10168), ('make up', 5413), ('the reference', 9122), ('the order', 9050), ('can only', 1783), ('make this', 5412), ('the value', 9238), ('waveform', 10355), ('transient', 9911), ('tends', 8583), ('main', 5398), ('accurately', 338), ('have never', 3981), ('questions about', 7197), ('low level', 5343), ('the difference', 8841), ('tends to', 8584), ('the noise', 9033), ('the main', 8992), ('how can', 4181), ('switch to', 8471), ('the input', 8940), ('me with', 5539), ('the laws', 8965), ('work it', 10687), ('illegal to', 4281), ('have them', 3997), ('william', 10587), ('ee', 2938), ('principle', 7001), ('sensing', 7810), ('chances', 1919), ('there know', 9323), ('this and', 9431), ('more general', 5744), ('read about', 7277), ('these little', 9343), ('an electrical', 604), ('is designed', 4671), ('this case', 9440), ('believe it', 1462), ('time you', 9584), ('from your', 3616), ('card and', 1832), ('you won', 10861), ('attending', 1208), ('francisco', 3573), ('attend', 1207), ('decision', 2498), ('hello am', 4062), ('san francisco', 7663), ('these two', 9347), ('am having', 560), ('hard time', 3916), ('to attend', 9621), ('from new', 3603), ('ill', 4279), ('griffin', 3835), ('freedom', 3579), ('michael', 5616), ('things have', 9403), ('do anything', 2728), ('the group', 8915), ('update', 10075), ('arrl', 1050), ('handbook', 3897), ('radio amateur', 7217), ('and getting', 681), ('getting the', 3726), ('design for', 2559), ('mouth', 5778), ('sp', 8137), ('yellow', 10789), ('tm', 9598), ('quit', 7203), ('cents', 1903), ('are too', 1012), ('know why', 5052), ('msg in', 5798), ('the industry', 8937), ('give me', 3732), ('not very', 6066), ('food is', 3432), ('of you', 6294), ('of making', 6221), ('really don', 7303), ('don understand', 2799), ('as large', 1079), ('state that', 8262), ('the package', 9060), ('that matter', 8677), ('take the', 8508), ('of getting', 6196), ('southern', 8133), ('given that', 3737), ('at what', 1185), ('the average', 8764), ('length of', 5172), ('the orbit', 9048), ('orbit is', 6513), ('maybe the', 5504), ('difference is', 2637), ('is enough', 4678), ('to change', 9634), ('change the', 1921), ('the temperature', 9207), ('and make', 717), ('is far', 4682), ('um', 10005), ('neurons', 5941), ('go through', 3760), ('blood brain', 1526), ('brain barrier', 1577), ('can go', 1771), ('in normal', 4383), ('is high', 4692), ('high enough', 4103), ('false', 3262), ('designing', 2566), ('silicon', 7949), ('diode', 2661), ('statement', 8266), ('appreciate any', 921), ('fi', 3321), ('chemistry', 1963), ('classification', 2019), ('bio', 1509), ('sufficient', 8385), ('em', 2983), ('wish', 10608), ('forward', 3551), ('discussing', 2688), ('how about', 4180), ('end up', 3006), ('the issue', 8946), ('forward to', 3552), ('not for', 6030), ('record', 7340), ('livermore', 5265), ('manager', 5430), ('lasers', 5099), ('shielded', 7882), ('thick', 9388), ('walls', 10286), ('boeing', 1539), ('mixture', 5687), ('burned', 1635), ('inch', 4434), ('pipe', 6798), ('holds', 4144), ('initially', 4525), ('tens', 8585), ('hydrogen', 4217), ('burst', 1637), ('mounted', 5776), ('fired', 3364), ('cylinder', 2431), ('plastic', 6831), ('cm', 2041), ('acceleration', 319), ('expansion', 3178), ('sealed', 7740), ('filled', 3339), ('km', 5031), ('vandenberg', 10172), ('pacific', 6607), ('tracking', 9897), ('reached', 7265), ('waiting', 10280), ('capable', 1820), ('sized', 7988), ('across the', 347), ('the free', 8901), ('which the', 10510), ('suspect that', 8465), ('looks like', 5318), ('down the', 2829), ('tens of', 8586), ('ahead of', 452), ('and has', 687), ('was done', 10309), ('having to', 4011), ('about 50', 286), ('the small', 9169), ('where they', 10483), ('the pacific', 9059), ('follow the', 3419), ('to throw', 9822), ('half of', 3890), ('but haven', 1658), ('proof of', 7092), ('capable of', 1821), ('order of', 6526), ('circle', 1987), ('wayne', 10367), ('down in', 2827), ('can anyone', 1759), ('alaska', 471), ('sounding', 8122), ('items', 4904), ('fixed', 3383), ('geophysical', 3699), ('cultural', 2407), ('dollar', 2779), ('of few', 6194), ('sounding rockets', 8123), ('by nasa', 1713), ('why we', 10552), ('the multi', 9018), ('wonderful', 10669), ('algorithms', 479), ('algorithm', 478), ('sunrise', 8410), ('sunset', 8411), ('dan', 2436), ('ames research', 575), ('carrying', 1845), ('boards', 1534), ('strip', 8329), ('wiring', 10602), ('copper', 2305), ('bars', 1299), ('leads', 5143), ('pc board', 6687), ('one or', 6399), ('few of', 3317), ('cable to', 1725), ('happening', 3911), ('this you', 9510), ('turn the', 9970), ('high voltage', 4110), ('voltage and', 10269), ('and most', 723), ('leave', 5154), ('civilization', 2007), ('worst', 10711), ('radical', 7215), ('spaceflight', 8174), ('buffalo', 1616), ('they aren', 9354), ('to leave', 9710), ('quite few', 7206), ('they won', 9385), ('for them', 3509), ('now the', 6099), ('the worst', 9260), ('thing you', 9399), ('say to', 7687), ('people that', 6704), ('these people', 9344), ('is like', 4706), ('where you', 10486), ('citizens', 2003), ('interest', 4580), ('citizen', 2002), ('alien', 480), ('delay', 2517), ('interest to', 4582), ('graham', 3814), ('cooking', 2294), ('meat', 5558), ('strange', 8319), ('placed', 6810), ('aluminum', 553), ('edges', 2919), ('quantity', 7185), ('contents', 2251), ('tea', 8538), ('ordinary', 6532), ('assembly', 1124), ('removed', 7438), ('smoke', 8010), ('hearing', 4050), ('agent', 439), ('injected', 4528), ('rats', 7250), ('oil', 6326), ('extract', 3226), ('smoking', 8012), ('molecules', 5712), ('tar', 8529), ('intensive', 4578), ('drives', 2849), ('behind', 1451), ('fat', 3281), ('in big', 4335), ('it made', 4837), ('made from', 5377), ('was about', 10300), ('the size', 9166), ('size and', 7986), ('will do', 10566), ('the contents', 8816), ('contents of', 2252), ('of two', 6284), ('with two', 10648), ('on and', 6338), ('looked like', 5313), ('the smoke', 9171), ('obtained by', 6138), ('found to', 3563), ('or something', 6496), ('legal in', 5165), ('the initial', 8939), ('it were', 4890), ('do so', 2736), ('theory is', 9306), ('the low', 8987), ('is correct', 4669), ('have long', 3977), ('and put', 748), ('put the', 7172), ('one end', 6390), ('end and', 3002), ('end to', 3005), ('yet another', 10796), ('the others', 9053), ('fight', 3330), ('anymore', 869), ('rapidly', 7236), ('pushing', 7166), ('harder', 3918), ('infected', 4485), ('prevent', 6987), ('125', 44), ('enhance', 3027), ('plans', 6826), ('stage', 8237), ('anthony', 842), ('discovery', 2685), ('ended', 3007), ('backs', 1273), ('significance', 7944), ('peter', 6749), ('independent', 4463), ('supports', 8427), ('previous', 6990), ('florida', 3399), ('willing', 10589), ('invasive', 4617), ('surgeon', 8449), ('operated', 6439), ('similarly', 7953), ('900', 259), ('setting', 7842), ('universal', 10035), ('divided', 2719), ('commitment', 2111), ('600', 213), ('threatening', 9536), ('acupuncture', 364), ('largely', 5093), ('meeting', 5579), ('ignored', 4273), ('act', 348), ('composed', 2153), ('practitioners', 6951), ('seattle', 7745), ('gel', 3682), ('insist', 4542), ('relations', 7397), ('03', 9), ('215', 125), ('scientists', 7727), ('attacks', 1202), ('knew', 5032), ('correctly', 2320), ('indicated', 4469), ('vulnerable', 10277), ('uncertain', 10010), ('editor', 2923), ('workers', 10696), ('policies', 6882), ('orange', 6509), ('santa', 7665), ('calif', 1734), ('countries', 2349), ('economic', 2913), ('enormous', 3029), ('political', 6884), ('vice', 10238), ('balance', 1280), ('initiative', 4526), ('drastically', 2838), ('aggressively', 440), ('writes', 10757), ('compare', 2128), ('certainty', 1909), ('progression', 7080), ('prove', 7116), ('participating', 6645), ('preliminary', 6963), ('boost', 1552), ('47', 187), ('examined', 3142), ('insight', 4541), ('candidate', 1808), ('daniel', 2441), ('mainly', 5399), ('injection', 4529), ('suggests', 8397), ('stays', 8284), ('enable', 2996), ('documented', 2757), ('chair', 1912), ('rochester', 7587), ('coordinate', 2301), ('james', 4913), ('officer', 6310), ('arms', 1040), ('doses', 2815), ('48', 188), ('piece', 6785), ('proved', 7117), ('licensed', 5193), ('venture', 10205), ('800', 237), ('est', 3073), ('speaking', 8182), ('301', 153), ('49', 193), ('independently', 4464), ('suppress', 8433), ('mice', 5615), ('author', 1223), ('animal', 821), ('created', 2384), ('mouse', 5777), ('depth', 2544), ('incomplete', 4450), ('longer', 5303), ('tumor', 9964), ('production', 7053), ('compromised', 2161), ('count', 2346), ('appeared', 903), ('charles', 1942), ('stephen', 8291), ('51', 201), ('operates', 6441), ('reduces', 7351), ('refer', 7356), ('accessible', 327), ('friday', 3589), ('immediately', 4294), ('answered', 836), ('families', 3265), ('professional', 7057), ('extensive', 3221), ('52', 205), ('bureau', 1633), ('academy', 318), ('expand', 3176), ('resource', 7507), ('communication', 2117), ('eight', 2960), ('english', 3026), ('or in', 6481), ('the center', 8792), ('in time', 4419), ('help prevent', 4068), ('is expected', 4680), ('expected to', 3182), ('of disease', 6183), ('about 15', 283), ('plans to', 6827), ('as soon', 1093), ('soon as', 8108), ('active in', 355), ('institute of', 4555), ('address the', 381), ('get around', 3706), ('the argument', 8754), ('spent on', 8208), ('waste of', 10345), ('and money', 721), ('and were', 795), ('of virginia', 6288), ('information but', 4506), ('said the', 7646), ('to understand', 9828), ('known about', 5058), ('five years', 3380), ('now in', 6096), ('the public', 9105), ('public domain', 7136), ('the west', 9249), ('april 14', 938), ('the risk', 9135), ('in today', 4421), ('journal of', 4950), ('the chance', 8795), ('studies in', 8343), ('the studies', 9190), ('in new', 4381), ('willing to', 10590), ('who had', 10531), ('research program', 7489), ('to more', 9728), ('billion for', 1506), ('500 000', 200), ('be available', 1326), ('this year', 9509), ('in washington', 4427), ('to become', 9624), ('focus on', 3415), ('will find', 10568), ('techniques and', 8550), ('the meeting', 9003), ('meeting in', 5580), ('years to', 10787), ('the nature', 9023), ('in seattle', 4401), ('fair to', 3257), ('give the', 3733), ('public to', 7139), ('causes the', 1878), ('an important', 616), ('the test', 9209), ('making them', 5421), ('april 15', 939), ('15 1993', 56), ('the global', 8908), ('also to', 541), ('beyond the', 1494), ('is new', 4719), ('approach to', 926), ('and development', 661), ('vice president', 10239), ('even at', 3102), ('reply to', 7452), ('although it', 549), ('than they', 8617), ('are getting', 970), ('from other', 3605), ('in most', 4378), ('for most', 3480), ('is another', 4650), ('but with', 1697), ('the cost', 8820), ('only in', 6424), ('cost effective', 2324), ('but even', 1655), ('even more', 3107), ('been the', 1427), ('compare the', 2129), ('the safety', 9144), ('of three', 6279), ('years old', 10784), ('and three', 780), ('way in', 10360), ('that certain', 8645), ('new ones', 5957), ('disease the', 2696), ('this information', 9462), ('than one', 8613), ('one in', 6393), ('in four', 4357), ('the numbers', 9036), ('suggests that', 8398), ('side effects', 7931), ('high doses', 4101), ('doses of', 2816), ('piece of', 6786), ('in human', 4365), ('the health', 8920), ('of 15', 6157), ('and be', 647), ('from to', 3613), ('the service', 9157), ('is available', 4654), ('of evidence', 6192), ('this problem', 9481), ('in humans', 4366), ('showed that', 7913), ('the presence', 9089), ('presence of', 6970), ('evidence of', 3131), ('turned on', 9972), ('no evidence', 5982), ('came from', 1750), ('the light', 8976), ('with dr', 10615), ('telephone service', 8563), ('march 1993', 5454), ('to people', 9752), ('this project', 9483), ('get more', 3713), ('10 30', 22), ('service to', 7834), ('including the', 4447), ('sources of', 8131), ('of information', 6209), ('calls the', 1744), ('experience in', 3189), ('and by', 653), ('improve the', 4317), ('their patients', 9268), ('be great', 1352), ('this service', 9487), ('means of', 5545), ('on new', 6355), ('information in', 4509), ('reusable', 7547), ('stick', 8298), ('test of', 8596), ('can find', 1768), ('them or', 9284), ('better and', 1484), ('mistake', 5680), ('correction', 2318), ('acting', 350), ('found the', 3562), ('the bad', 8767), ('soyuz', 8136), ('structures', 8334), ('partial', 6641), ('well if', 10414), ('this sounds', 9490), ('think of', 9413), ('my guess', 5836), ('guess is', 3862), ('to learn', 9709), ('space in', 8153), ('space development', 8149), ('development and', 2598), ('towards the', 9888), ('especially if', 3068), ('so much', 8031), ('much the', 5816), ('the better', 8775), ('just in', 4979), ('or does', 6475), ('it have', 4824), ('have real', 3989), ('positions', 6904), ('bob', 1535), ('is big', 4661), ('exactly the', 3138), ('there has', 9319), ('always been', 555), ('eprom', 3049), ('manual', 5437), ('spare', 8177), ('the manual', 8996), ('creation', 2386), ('valid', 10165), ('19th', 103), ('registered', 7384), ('carefully', 1837), ('precisely', 6955), ('navy', 5897), ('messages', 5598), ('glucose', 3748), ('exercise', 3169), ('discussions', 2691), ('cc', 1882), ('jim', 4927), ('williams', 10588), ('ad', 366), ('morris', 5757), ('caltech', 1746), ('ie', 4244), ('brian', 1591), ('bruce', 1609), ('mcgill', 5511), ('thomas', 9511), ('csc', 2402), ('coast', 2048), ('apple', 906), ('edward', 2936), ('acad3', 315), ('mi', 5614), ('org', 6533), ('lcs', 5136), ('mit', 5682), ('berkeley', 1474), ('durham', 2871), ('andrew', 811), ('cmu', 2043), ('miller', 5644), ('princeton', 7000), ('netcom', 5931), ('joe', 4930), ('sum', 8402), ('ai', 453), ('lee', 5158), ('hal', 3888), ('po', 6862), ('rich', 7557), ('fnal', 3413), ('nz', 6118), ('math', 5482), ('tim', 9563), ('steven', 8297), ('timothy', 9590), ('van', 10171), ('grant', 3816), ('upenn', 10078), ('ibm', 4220), ('ralph', 7225), ('beach', 1401), ('as of', 1085), ('to place', 9754), ('an email', 605), ('the message', 9004), ('the line', 8978), ('be accepted', 1321), ('after this', 427), ('by email', 1709), ('the discussion', 8846), ('the issues', 8947), ('intended to', 4575), ('be for', 1348), ('caltech edu', 1747), ('ac uk', 314), ('alaska edu', 472), ('dec com', 2488), ('arizona edu', 1038), ('acad3 alaska', 316), ('lcs mit', 5137), ('mit edu', 5683), ('berkeley edu', 1475), ('cmu edu', 2044), ('co uk', 2046), ('netcom com', 5932), ('edu au', 2926), ('harvard edu', 3926), ('edu michael', 2929), ('upenn edu', 10079), ('ibm com', 4222), ('duration', 2870), ('migraines', 5635), ('respect', 7509), ('se', 7737), ('playing', 6838), ('breakfast', 1585), ('physical', 6770), ('migraine', 5634), ('is such', 4751), ('with respect', 10637), ('respect to', 7510), ('what causes', 10440), ('ve had', 10191), ('more in', 5745), ('listed in', 5250), ('more of', 5750), ('once every', 6381), ('two or', 9984), ('or three', 6499), ('three years', 9540), ('it been', 4802), ('so long', 8029), ('hope this', 4159), ('rotation', 7608), ('talking', 8521), ('the wrong', 9261), ('the normal', 9034), ('re on', 7261), ('there may', 9324), ('be much', 1366), ('talking about', 8522), ('would suggest', 10739), ('ask your', 1114), ('gee', 3680), ('echo', 2912), ('inflated', 4496), ('vacuum', 10162), ('balloon', 1285), ('collapse', 2062), ('holes', 4146), ('and two', 785), ('was no', 10320), ('no longer', 5984), ('since there', 7967), ('with no', 10632), ('superior', 8413), ('joel', 4931), ('output is', 6587), ('haven been', 4006), ('could find', 2334), ('other thing', 6556), ('are few', 967), ('there that', 9330), ('really good', 7304), ('the really', 9117), ('8051', 241), ('ftp', 3622), ('any good', 850), ('ftp sites', 3626), ('that might', 8680), ('might have', 5629), ('dip', 2662), ('functions', 3637), ('please send', 6849), ('send me', 7801), ('stupid', 8355), ('metric', 5610), ('how many', 4186), ('has its', 3935), ('seven', 7847), ('match', 5478), ('hmm', 4137), ('giant', 3728), ('leap', 5145), ('we had', 10380), ('almost certainly', 514), ('than it', 8611), ('wondering', 10670), ('pollution', 6886), ('optical', 6459), ('astronomers', 1151), ('gained', 3656), ('shut', 7919), ('the sort', 9174), ('this thing', 9496), ('of mass', 6223), ('low orbit', 5344), ('are really', 997), ('days of', 2471), ('for very', 3517), ('very few', 10218), ('to return', 9781), ('along with', 519), ('the potential', 9087), ('the advertising', 8735), ('answer to', 834), ('feel free', 3302), ('my mind', 5840), ('by this', 1720), ('money to', 5718), ('pete', 6748), ('worden', 10676), ('rapid', 7235), ('generation', 3692), ('passing', 6660), ('launching', 5127), ('mad', 5373), ('icbm', 4225), ('ten', 8577), ('airplane', 463), ('remind', 7431), ('senior', 7805), ('1960', 70), ('requirements', 7478), ('als', 525), ('spend', 8205), ('mcdonnell', 5509), ('completed', 2143), ('force', 3525), ('modest', 5700), ('philosophy', 6758), ('routine', 7614), ('engines', 3023), ('single stage', 7973), ('stage rocket', 8238), ('to speak', 9796), ('to lower', 9716), ('lower the', 5348), ('and better', 650), ('represent the', 7463), ('to another', 9612), ('sure but', 8435), ('of old', 6240), ('when we', 10473), ('told us', 9846), ('what are', 10438), ('program office', 7069), ('20 years', 110), ('new and', 5953), ('of dollars', 6186), ('it took', 4880), ('to teach', 9810), ('ten years', 8578), ('launch system', 5116), ('because he', 1408), ('done in', 2808), ('time we', 9581), ('that and', 8635), ('mcdonnell douglas', 5510), ('air force', 461), ('in mind', 4376), ('can easily', 1765), ('details on', 2580), ('on mars', 6353), ('on earth', 6344), ('we do', 10377), ('the engines', 8865), ('engines are', 3024), ('ll see', 5275), ('do what', 2743), ('you still', 10848), ('have your', 4004), ('entitled', 3039), ('chapter', 1928), ('moscow', 5758), ('yes the', 10791), ('resolution of', 7506), ('chapter is', 1929), ('research institute', 7486), ('and includes', 699), ('replied', 7449), ('week and', 10399), ('and was', 792), ('the responses', 9128), ('brief', 1592), ('applications of', 911), ('latter', 5109), ('odds', 6153), ('ve read', 10196), ('large number', 5092), ('the latter', 8962), ('could get', 2335), ('jb', 4918), ('desirable', 2568), ('truth', 9952), ('discoveries', 2684), ('trade', 9899), ('scope', 7729), ('century', 1904), ('newton', 5968), ('rigorous', 7571), ('mathematics', 5483), ('supported', 8425), ('methodology', 5607), ('institutional', 4557), ('corporate', 2314), ('furthermore', 3649), ('bucks', 1613), ('handled', 3901), ('fundamental', 3639), ('framework', 3572), ('error', 3061), ('arguments', 1034), ('behaviorists', 1449), ('cognitivists', 2056), ('competing', 2137), ('religious', 7418), ('sects', 7756), ('however it', 4194), ('to even', 9666), ('the house', 8928), ('we also', 10373), ('have as', 3962), ('would probably', 10736), ('probably be', 7015), ('in way', 4428), ('the concept', 8812), ('concept of', 2175), ('their use', 9270), ('ideas of', 4240), ('the rules', 9141), ('to many', 9720), ('ideas are', 4239), ('results in', 7538), ('one thing', 6408), ('of scientific', 6257), ('outside the', 6592), ('to believe', 9626), ('come with', 2093), ('for instance', 3468), ('my opinion', 5842), ('too many', 9862), ('done with', 2811), ('first place', 3372), ('the arguments', 8755), ('arguments between', 1035), ('between behaviorists', 1491), ('behaviorists and', 1450), ('and cognitivists', 656), ('cognitivists psychology', 2057), ('psychology seems', 7131), ('seems less', 7780), ('less like', 5175), ('like science', 5212), ('science than', 7719), ('than collection', 8608), ('collection of', 2068), ('of competing', 6177), ('competing religious', 2138), ('religious sects', 7419), ('uga', 9997), ('covington', 2375), ('super', 8412), ('sound like', 8119), ('like some', 5213), ('it they', 4876), ('local oscillator', 5282), ('wanting', 10292), ('behind the', 1452), ('don remember', 2796), ('the deal', 8830), ('fiction', 3323), ('bomb', 1542), ('momentum', 5714), ('plate', 6832), ('the reaction', 9115), ('delivery', 2522), ('hundreds', 4210), ('millions', 5646), ('contest', 2253), ('launchers', 5125), ('demand', 2525), ('missile', 5672), ('low cost', 5339), ('hundreds of', 4211), ('millions of', 5647), ('cheaper to', 1951), ('than to', 8619), ('the saturn', 9148), ('out on', 6574), ('development the', 2600), ('you really', 10843), ('really want', 7307), ('still in', 8303), ('the delta', 8833), ('go ahead', 3756), ('boy', 1573), ('restaurant', 7524), ('enjoy', 3028), ('hitting', 4133), ('orally', 6508), ('massachusetts', 5475), ('experiences', 3192), ('1980', 82), ('stories', 8315), ('much about', 5804), ('that that', 8699), ('me the', 5533), ('you believe', 10804), ('that makes', 8675), ('are doing', 965), ('chinese restaurant', 1972), ('chinese food', 1971), ('my last', 5838), ('you an', 10800), ('of technology', 6269), ('dr robert', 2834), ('also had', 532), ('are many', 981), ('and everything', 672), ('towers', 9890), ('identical', 4241), ('coal', 2047), ('electric', 2966), ('draft', 2835), ('steam', 8286), ('thru', 9550), ('fill', 3338), ('slight', 7998), ('boiler', 1540), ('the cooling', 8818), ('cooling towers', 2298), ('and built', 652), ('the cold', 8803), ('the heat', 8921), ('towers are', 9891), ('the steam', 9188), ('it back', 4799), ('realizing', 7300), ('connectors', 2211), ('sockets', 8047), ('abbreviation', 274), ('ohmite', 6323), ('resistances', 7501), ('pink', 6794), ('colored', 2075), ('resistor', 7503), ('flame', 3384), ('measure of', 5551), ('amp is', 589), ('named after', 5867), ('company and', 2125), ('the performance', 9074), ('performance of', 6722), ('connectors and', 2212), ('the unit', 9228), ('current is', 2417), ('name of', 5864), ('who studied', 10536), ('just an', 4970), ('was already', 10302), ('already in', 524), ('in use', 4425), ('ohmite company', 6324), ('doesn sound', 2773), ('fuse', 3650), ('replace', 7445), ('hair', 3887), ('transistor', 9912), ('coming', 2100), ('sides', 7933), ('asian', 1107), ('power supply', 6939), ('to replace', 9780), ('replace the', 7446), ('the standard', 9183), ('found in', 3557), ('been told', 1430), ('told that', 9845), ('source for', 8127), ('with me', 10627), ('pumps', 7156), ('instrument', 4560), ('quiet', 7202), ('wise', 10607), ('valve', 10170), ('mechanical', 5559), ('generate', 3689), ('magic', 5388), ('fix', 3381), ('out and', 6567), ('to just', 9702), ('would help', 10728), ('help but', 4064), ('might not', 5631), ('prospects', 7108), ('buying', 1703), ('are good', 972), ('very high', 10221), ('thinking about', 9423), ('camp', 1754), ('covering', 2373), ('vessels', 10231), ('swell', 8468), ('caught', 1869), ('dying', 2879), ('infant', 4483), ('no the', 5993), ('the one', 9042), ('will show', 10581), ('can live', 1778), ('it from', 4818), ('needles', 5917), ('effectively', 2946), ('route', 7613), ('poorly', 6889), ('paying', 6682), ('slide', 7997), ('nerves', 5926), ('painful', 6624), ('inflammatory', 4494), ('not impossible', 6037), ('handle the', 3900), ('involved with', 4634), ('once and', 6380), ('concerned about', 2179), ('it good', 4821), ('effects and', 2949), ('surface of', 8448), ('is normal', 4722), ('know for', 5039), ('for what', 3518), ('but to', 1688), ('high school', 4107), ('about months', 291), ('that but', 8641), ('guys', 3875), ('politics', 6885), ('anywhere', 893), ('you guys', 10821), ('take it', 8506), ('galactic', 3657), ('pet', 6747), ('assumes', 1136), ('spinning', 8212), ('wondered', 10668), ('wondering what', 10672), ('port', 6893), ('ports', 6900), ('an on', 623), ('the board', 8780), ('made in', 5378), ('it uses', 4884), ('uses the', 10140), ('or how', 6479), ('be greatly', 1353), ('greatly appreciated', 3830), ('your assistance', 10866), ('dual', 2867), ('vcr', 10184), ('back of', 1265), ('those that', 9516), ('the ad', 8733), ('in very', 4426), ('copies of', 2304), ('volt', 10267), ('slmr', 8000), ('die', 2626), ('in about', 4323), ('about to', 299), ('you should', 10846), ('should get', 7903), ('to light', 9712), ('stops', 8310), ('dense', 2530), ('reason is', 7310), ('and out', 740), ('the vehicle', 9240), ('you on', 10837), ('else that', 2981), ('birds', 1512), ('teh', 8559), ('even when', 3110), ('stands', 8246), ('lucky', 5352), ('restaurants', 7526), ('greasy', 3823), ('warm', 10297), ('bath', 1311), ('convinced', 2291), ('afterwards', 429), ('hidden', 4099), ('very little', 10224), ('it really', 4859), ('when it', 10466), ('one day', 6389), ('day and', 2462), ('won be', 10665), ('are an', 952), ('at any', 1166), ('flown', 3402), ('ignore', 4272), ('already have', 523), ('respond to', 7513), ('field and', 3326), ('ago and', 443), ('was to', 10333), ('signal to', 7940), ('then be', 9295), ('cpu', 2376), ('graphics', 3818), ('rom', 7599), ('games', 3661), ('ram', 7226), ('hazard', 4012), ('composite', 2154), ('stored', 8313), ('setup', 7846), ('cheaply', 1952), ('recorded', 7341), ('anyways', 892), ('shipping', 7886), ('handling', 3902), ('just like', 4980), ('weight of', 10409), ('no idea', 5983), ('work with', 10693), ('but would', 1698), ('of or', 6243), ('angle', 818), ('they simply', 9378), ('corps', 2316), ('ship', 7885), ('ear', 2887), ('somewhere that', 8105), ('were in', 10426), ('in common', 4343), ('the mid', 9006), ('he didn', 4019), ('3rd', 175), ('disclaimer', 2678), ('fresh', 3587), ('preferably', 6960), ('vegetables', 10199), ('raw', 7251), ('pure', 7158), ('concentrate', 2171), ('bathroom', 1312), ('locally', 5283), ('6th', 223), ('mix', 5684), ('remedy', 7424), ('kinds', 5021), ('drain', 2837), ('completely', 2144), ('fingers', 3360), ('turning', 9974), ('sitting', 7981), ('rays', 7254), ('1973', 77), ('prepare', 6965), ('sight', 7937), ('aura', 1220), ('acidophilus', 343), ('capsule', 1827), ('digestive', 2651), ('remaining', 7422), ('external', 3223), ('minor', 5662), ('tables', 8502), ('twice', 9980), ('concentrated', 2172), ('3000', 152), ('combined', 2086), ('tablets', 8503), ('photos', 6768), ('programming', 7076), ('angeles', 815), ('portions', 6898), ('extremely high', 3230), ('methods of', 5609), ('and power', 745), ('this list', 9468), ('list is', 5247), ('not doctor', 6027), ('right of', 7565), ('be found', 1349), ('is important', 4696), ('how they', 4189), ('at time', 1184), ('to your', 9840), ('of water', 6290), ('should do', 7902), ('each day', 2883), ('want the', 10288), ('every day', 3120), ('kinds of', 5022), ('an open', 624), ('to 20', 9601), ('your fingers', 10869), ('described in', 2550), ('for at', 3446), ('30 minutes', 148), ('taking the', 8516), ('that time', 8706), ('hours after', 4175), ('an excellent', 609), ('all kinds', 486), ('the remaining', 9123), ('may also', 5492), ('lyme disease', 5364), ('per year', 6713), ('you take', 10850), ('and include', 698), ('directly to', 2668), ('several times', 7851), ('more effective', 5742), ('and much', 724), ('much less', 5812), ('can not', 1781), ('and off', 733), ('treatments for', 9933), ('especially the', 3069), ('least the', 5152), ('los angeles', 5322), ('angeles ca', 816), ('portions of', 6899), ('section of', 7752), ('edition of', 2922), ('reference book', 7359), ('sf', 7856), ('watching', 10349), ('constellation', 2228), ('horizon', 4165), ('inspiration', 4546), ('reviews', 7552), ('the horizon', 8926), ('days the', 2472), ('coverage', 2369), ('landings', 5085), ('compressed', 2159), ('faq', 3271), ('portion', 6896), ('kennedy', 5003), ('roll', 7598), ('liftoff', 5201), ('translation', 9915), ('jenks', 4922), ('kjenks', 5029), ('gothamcity', 3801), ('assure', 1141), ('achieved', 340), ('heads', 4036), ('advantages', 401), ('interpret', 4598), ('relative', 7400), ('wings', 10596), ('edge', 2917), ('inclination', 4438), ('fly', 3407), ('parallel', 6633), ('pads', 6615), ('exhaust', 3170), ('pitch', 6799), ('tight', 9560), ('tolerance', 9847), ('select', 7790), ('transponder', 9920), ('mhz', 5613), ('atlantic', 1192), ('events', 3114), ('conferences', 2196), ('begun', 1447), ('spacelink', 8176), ('mountain', 5775), ('goddard', 3768), ('gsfc', 3857), ('greenbelt', 3833), ('houston', 4178), ('propulsion', 7106), ('pasadena', 6656), ('vhf', 10232), ('147', 53), ('860', 249), ('350', 164), ('composition', 2155), ('document', 2754), ('propellant', 7093), ('69', 222), ('iron', 4639), ('oxide', 6603), ('rubber', 7622), ('shuttle and', 7921), ('version of', 10212), ('the shuttle', 9160), ('the ames', 8739), ('ames space', 576), ('space archive', 8144), ('archive in', 945), ('space faq', 8151), ('portion of', 6897), ('this faq', 9449), ('refer to', 7357), ('to date', 9652), ('kennedy space', 5004), ('space center', 8147), ('just after', 4969), ('ken jenks', 5002), ('kjenks gothamcity', 5030), ('gothamcity jsc', 3802), ('jsc nasa', 4958), ('to assure', 9620), ('vehicle to', 10201), ('to generate', 9676), ('which in', 10501), ('really is', 7305), ('angle of', 819), ('the wind', 9252), ('the wings', 9254), ('orbit to', 6517), ('to fly', 9672), ('return to', 7544), ('to launch', 9707), ('have good', 3970), ('line of', 5233), ('the east', 8858), ('to its', 9699), ('begin with', 1443), ('one for', 6391), ('solid rocket', 8061), ('on any', 6339), ('side and', 7929), ('external tank', 3224), ('way they', 10364), ('don ask', 2786), ('ask me', 1112), ('in all', 4326), ('all three', 496), ('keeping the', 4995), ('the atlantic', 8760), ('difficult to', 2646), ('from california', 3598), ('is sometimes', 4748), ('for these', 3510), ('it worth', 4899), ('is found', 4684), ('coverage of', 2370), ('and planetary', 743), ('has recently', 3942), ('missions are', 5679), ('not being', 6023), ('amateur radio', 568), ('for shuttle', 3500), ('shuttle mission', 7923), ('goddard space', 3769), ('space flight', 8152), ('flight center', 3393), ('johnson space', 4939), ('jet propulsion', 4926), ('propulsion laboratory', 7107), ('outlets', 6585), ('grounded', 3843), ('tended', 8581), ('modern', 5699), ('switching', 8474), ('supplies', 8418), ('dedicated', 2503), ('seperate', 7820), ('ideal', 4236), ('reality', 7297), ('circuits and', 1994), ('connected to', 2205), ('tended to', 8582), ('this should', 9488), ('of problem', 6251), ('even the', 3108), ('find that', 3352), ('academic', 317), ('measures', 5556), ('task', 8532), ('efficiency', 2951), ('submit', 8362), ('prof', 7056), ('aero', 409), ('gen', 3683), ('deputy', 2545), ('stanford', 8247), ('nasa has', 5876), ('bring the', 1598), ('also are', 527), ('state university', 8263), ('ps', 7127), ('is getting', 4687), ('thanks lot', 8628), ('suite', 8401), ('ct', 2405), ('203', 115), ('op', 6434), ('craig', 2379), ('introduce', 4615), ('mag', 5385), ('helps', 4076), ('not provide', 6051), ('are looking', 978), ('this helps', 9457), ('estimate', 3077), ('ross', 7606), ('of lunar', 6219), ('were going', 10425), ('notes', 6077), ('mm', 5689), ('generators', 3694), ('substitute', 8369), ('part is', 6639), ('it still', 4869), ('short time', 7894), ('time or', 9575), ('now if', 6095), ('database', 2452), ('spasms', 8178), ('that know', 8672), ('information for', 4507), ('in business', 4337), ('meal', 5540), ('hence', 4077), ('dietary', 2632), ('dizziness', 2723), ('reliably', 7416), ('you mean', 10832), ('hence the', 4078), ('thruster', 9552), ('uncontrolled', 10011), ('happy', 3913), ('gotten', 3804), ('lose', 5323), ('exception', 3157), ('cellular', 1892), ('reliability', 7414), ('homeopathic', 4150), ('situations', 7983), ('deeply', 2507), ('measuring', 5557), ('cook', 2293), ('guide', 3866), ('designs', 2567), ('flat', 3388), ('epilepsy', 3047), ('educated', 2932), ('trained', 9902), ('creating', 2385), ('pointers', 6874), ('weather', 10397), ('not at', 6019), ('you and', 10801), ('and your', 809), ('are trying', 1013), ('my patients', 5846), ('for over', 3490), ('now and', 6093), ('ll be', 5271), ('be just', 1361), ('and white', 800), ('you see', 10845), ('have come', 3966), ('results with', 7540), ('having been', 4010), ('you or', 10838), ('or your', 6506), ('we know', 10382), ('which may', 10505), ('with what', 10650), ('the exception', 8873), ('exception of', 3158), ('course but', 2358), ('does have', 2763), ('have problem', 3987), ('you were', 10858), ('find it', 3348), ('research project', 7490), ('project that', 7083), ('still be', 8301), ('center of', 1898), ('think there', 9417), ('than for', 8609), ('we get', 10379), ('he could', 4017), ('blank', 1522), ('outputs', 6589), ('310', 155), ('divider', 2720), ('text', 8603), ('transistors', 9913), ('advantage', 399), ('am trying', 566), ('should also', 7900), ('my first', 5834), ('fire the', 3363), ('the second', 9154), ('black and', 1520), ('wondering if', 10671), ('am going', 559), ('this work', 9507), ('cheap and', 1948), ('and should', 757), ('it comes', 4809), ('net for', 5929), ('the output', 9056), ('output of', 6588), ('so don', 8021), ('take advantage', 8505), ('advantage of', 400), ('course you', 2364), ('1972', 76), ('code and', 2052), ('scales', 7696), ('dynamic', 2880), ('restriction', 7529), ('clipper', 2029), ('geared', 3677), ('optimal', 6460), ('readers', 7284), ('gs', 3856), ('driven', 2846), ('constraints', 2229), ('verify', 10208), ('boosters', 1554), ('isp', 4782), ('plot', 6853), ('ascii', 1106), ('kept', 5005), ('seconds', 7749), ('aimed', 458), ('audience', 1216), ('aviation', 1245), ('security', 7757), ('interests', 4586), ('reentry', 7355), ('ksc', 5066), ('profile', 7060), ('latitude', 5108), ('of interest', 6210), ('is by', 4662), ('errors are', 3063), ('delta clipper', 2524), ('launch vehicle', 5117), ('the dc', 8829), ('tests the', 8601), ('here at', 4086), ('time with', 9583), ('of much', 6234), ('that part', 8690), ('in mid', 4375), ('the lines', 8979), ('very long', 10225), ('however they', 4196), ('at low', 1173), ('low power', 5345), ('back up', 1269), ('an altitude', 601), ('make sense', 5409), ('but was', 1690), ('was told', 10334), ('it my', 4846), ('my question', 5848), ('show that', 7910), ('think we', 9420), ('result was', 7533), ('about 30', 285), ('degrees of', 2516), ('asked about', 1116), ('neil', 5922), ('gehrels', 3681), ('comet', 2097), ('attached', 1199), ('asteroids and', 1145), ('his name', 4122), ('attached to', 1200), ('reserve', 7494), ('the benefit', 8773), ('has worked', 3950), ('potential for', 6930), ('as know', 1078), ('the pressure', 9091), ('eeg', 2939), ('wow', 10750), ('stuff deleted', 8353), ('get some', 3717), ('they claim', 9357), ('claim to', 2012), ('uranium', 10087), ('brought', 1607), ('reactors', 7275), ('temperatures', 8575), ('glowing', 3747), ('germany', 3703), ('don like', 2793), ('about them', 296), ('explain what', 3203), ('ve already', 10186), ('seen the', 7786), ('one side', 6405), ('to cool', 9647), ('the energy', 8864), ('or better', 6472), ('to let', 9711), ('let it', 5178), ('the 30', 8727), ('of energy', 6191), ('are for', 968), ('in at', 4332), ('to prevent', 9761), ('the environment', 8867), ('even in', 3106), ('run at', 7628), ('at 800', 1162), ('of problems', 6252), ('that because', 8640), ('the metal', 9005), ('as low', 1081), ('low as', 5338), ('all it', 485), ('is my', 4716), ('point of', 6869), ('of view', 6287), ('parent', 6634), ('of america', 6164), ('questions and', 7198), ('send you', 7802), ('information and', 4503), ('ask for', 1111), ('can put', 1786), ('support group', 8423), ('and social', 759), ('revision', 7554), ('documents', 2758), ('tension', 8587), ('marketing', 5461), ('6000', 214), ('anonymous', 828), ('toronto', 9876), ('gif', 3729), ('adjustable', 387), ('128', 45), ('149', 54), ('pub', 7133), ('directory', 2671), ('frequently asked', 3586), ('asked questions', 1117), ('be posted', 1377), ('get this', 3720), ('more info', 5746), ('now available', 6094), ('anonymous ftp', 829), ('toronto edu', 9877), ('the faq', 8882), ('you didn', 10811), ('send mail', 7800), ('edu or', 2930), ('ftp to', 3627), ('and look', 713), ('look in', 5308), ('hat', 3952), ('customer', 2423), ('srb', 8228), ('ended up', 3008), ('utility', 10150), ('article in', 1055), ('work that', 10690), ('auto', 1228), ('was actually', 10301), ('in getting', 4360), ('purely', 7159), ('desire', 2569), ('varying', 10182), ('to eat', 9664), ('desire to', 2570), ('take off', 8507), ('to hold', 9688), ('weight gain', 10408), ('one reason', 6402), ('well you', 10421), ('imagine the', 4290), ('letters', 5183), ('moisture', 5710), ('paid', 6618), ('with only', 10634), ('gives you', 3740), ('to spend', 9797), ('to last', 9706), ('doesn work', 2774), ('classes', 2017), ('as in', 1075), ('mini', 5657), ('subsystems', 8370), ('published by', 7144), ('one the', 6407), ('book is', 1545), ('this has', 9456), ('design and', 2558), ('and test', 769), ('character', 1932), ('load of', 5279), ('prone', 7090), ('assumption', 1139), ('throwing', 9548), ('was an', 10304), ('my family', 5833), ('in us', 4424), ('and probably', 746), ('appreciated thanks', 924), ('libraries', 5190), ('screw', 7734), ('disagree', 2675), ('congress', 2201), ('symptom', 8478), ('suit', 8399), ('is doing', 4674), ('is working', 4772), ('an ad', 597), ('there to', 9332), ('over and', 6594), ('until you', 10058), ('that did', 8648), ('turn out', 9969), ('are completely', 962), ('could you', 2344), ('they should', 9377), ('come to', 2091), ('for couple', 3449), ('just how', 4978), ('really are', 7302), ('people like', 6701), ('matter what', 5487), ('most important', 5762), ('disagree with', 2676), ('doing the', 2777), ('is called', 4663), ('up as', 10062), ('could take', 2342), ('much better', 5807), ('say something', 7684), ('know is', 5042), ('nasa is', 5877), ('are so', 1000), ('located at', 5285), ('mcwilliams', 5512), ('517', 203), ('355', 166), ('2178', 127), ('wk', 10659), ('18084tm', 66), ('cl', 2008), ('msu', 5800), ('336', 160), ('9591', 267), ('hm', 4135), ('circumference', 1996), ('mystery', 5856), ('grows', 3854), ('mac tom', 5367), ('tom mcwilliams', 9850), ('mcwilliams 517', 5513), ('517 355', 204), ('355 2178', 167), ('2178 wk', 128), ('wk as', 10660), ('the radius', 9112), ('radius of', 7222), ('of vision', 6289), ('vision increases', 10259), ('increases 18084tm', 4458), ('18084tm ibm', 67), ('ibm cl', 4221), ('cl msu', 2009), ('msu edu', 5801), ('edu 336', 2925), ('336 9591', 161), ('9591 hm', 268), ('hm the', 4136), ('the circumference', 8800), ('circumference of', 1997), ('of mystery', 6236), ('mystery grows', 5857), ('general dynamics', 3686), ('connection with', 2208), ('ob', 6119), ('gyn', 3876), ('radiologist', 7219), ('qualified', 7180), ('expert', 3198), ('chicago', 1965), ('ob gyn', 6120), ('doctor in', 2750), ('or if', 6480), ('to read', 9773), ('20 20', 109), ('the different', 8843), ('such an', 8376), ('in chicago', 4342), ('can then', 1797), ('use one', 10112), ('demonstrated', 2528), ('magnitude', 5390), ('re talking', 7262), ('stones', 8307), ('sister', 7976), ('majority', 5403), ('kidney stones', 5013), ('tells you', 8573), ('you that', 10851), ('and she', 756), ('turned out', 9973), ('the majority', 8994), ('majority of', 5404), ('shops', 7890), ('the common', 8807), ('domestic', 2782), ('indiana', 4466), ('permanently', 6735), ('assured', 1142), ('bear', 1404), ('permanent', 6734), ('harm', 3921), ('have much', 3980), ('more like', 5748), ('can produce', 1785), ('them up', 9291), ('unless it', 10045), ('an emergency', 606), ('the lead', 8966), ('and did', 662), ('any significant', 862), ('custom', 2422), ('stellar', 8288), ('process of', 7041), ('satellites are', 7672), ('deep space', 2506), ('is best', 4659), ('famous', 3267), ('example is', 3146), ('deployed', 2540), ('disadvantages', 2674), ('circular', 1995), ('hand the', 3896), ('long time', 5302), ('milk', 5643), ('intestines', 4605), ('24 hours', 134), ('printed', 7004), ('to turn', 9827), ('turn on', 9968), ('commerical', 2110), ('it on', 4851), ('with msg', 10629), ('you make', 10830), ('profit', 7061), ('vendors', 10204), ('evaluate', 3098), ('supporting', 8426), ('fidonet', 3324), ('requested', 7469), ('science data', 7716), ('non profit', 5999), ('basis of', 1310), ('chapter of', 1930), ('national space', 5888), ('space society', 8164), ('happy to', 3914), ('the address', 8734), ('send your', 7803), ('some information', 8068), ('the authors', 8763), ('you for', 10816), ('namely', 5868), ('generated', 3690), ('rocks', 7593), ('mixed', 5685), ('shopping', 7889), ('that had', 8658), ('function of', 3635), ('wish to', 10609), ('know more', 5044), ('unless you', 10049), ('the edge', 8859), ('the side', 9161), ('big enough', 1499), ('hate', 3953), ('guts', 3873), ('inter', 4579), ('intellectual', 4571), ('dominant', 2784), ('correlation', 2321), ('calm', 1745), ('projection', 7085), ('neurology', 5940), ('etc and', 3083), ('gp', 3809), ('one should', 6404), ('name and', 5862), ('powerful', 6945), ('accidental', 329), ('silly', 7950), ('they get', 9363), ('systems are', 8499), ('that isn', 8667), ('have nothing', 3984), ('works in', 10702), ('people don', 6698), ('hst', 4201), ('margin', 5455), ('thrusters', 9553), ('be cheaper', 1335), ('irregular', 4640), ('mine is', 5653), ('symptoms and', 8480), ('few weeks', 3318), ('to fall', 9668), ('she would', 7875), ('would just', 10730), ('30 years', 150), ('does that', 2766), ('in case', 4339), ('case you', 1854), ('shadow', 7858), ('sunlight', 8409), ('shareware', 7868), ('just about', 4968), ('axis', 1256), ('all that', 491), ('good on', 3789), ('on those', 6371), ('rough', 7610), ('thinks', 9426), ('interest in', 4581), ('you find', 10815), ('launch services', 5114), ('good idea', 3787), ('supernova', 8414), ('assumed', 1134), ('galaxy', 3658), ('radial', 7213), ('disk', 2700), ('interplanetary', 4597), ('detectors', 2587), ('origin', 6541), ('friends', 3593), ('astrophysics', 1156), ('energetic', 3011), ('distances', 2707), ('it here', 4825), ('understand it', 10019), ('the galaxy', 8906), ('on our', 6360), ('inside the', 4540), ('more or', 5751), ('that goes', 8657), ('we should', 10388), ('measure the', 5552), ('origin of', 6542), ('system which', 8494), ('the position', 9083), ('find source', 3351), ('my knowledge', 5837), ('high energy', 4102), ('these were', 9348), ('heading', 4034), ('calculations', 1733), ('new england', 5954), ('ran the', 7228), ('diseases are', 2698), ('several other', 7850), ('amiga', 577), ('clock', 2030), ('separately', 7819), ('mc', 5508), ('xc', 10767), ('crystal', 2398), ('capability to', 1819), ('check for', 1954), ('works fine', 10701), ('work the', 10691), ('mentioned that', 5592), ('look like', 5309), ('not new', 6046), ('the place', 9078), ('are there', 1008), ('there any', 9315), ('713', 227), ('602', 215), ('aw', 1248), ('scheme', 7704), ('consists', 2224), ('gd', 3673), ('compact', 2122), ('aw st', 1249), ('shuttle to', 7925), ('consists of', 2225), ('lunar surface', 5359), ('db', 2474), ('spelling', 8203), ('bell', 1467), ('alexander', 477), ('bel', 1457), ('gotta', 3803), ('380', 173), ('818', 243), ('than with', 8620), ('with these', 10645), ('anywhere in', 894), ('capacitors', 1823), ('wrist', 10753), ('oral', 6507), ('prescribed', 6967), ('per week', 6712), ('anyone would', 882), ('presentation', 6972), ('sat', 7666), ('watched', 10348), ('formal', 3537), ('the speaker', 9179), ('the panel', 9063), ('the formal', 8897), ('the sense', 9156), ('urban', 10089), ('aside', 1108), ('nj', 5979), ('an image', 615), ('fission', 3376), ('grade', 3812), ('sufficiently', 8386), ('hazardous', 4013), ('pilot', 6791), ('be built', 1331), ('built and', 1625), ('operated by', 6440), ('it wasn', 4888), ('it no', 4847), ('commonly', 2115), ('exceptions', 3159), ('panels', 6629), ('under normal', 10014), ('same time', 7655), ('time the', 9577), ('neutral and', 5943), ('be connected', 1337), ('do if', 2731), ('be required', 1380), ('it goes', 4820), ('read it', 7279), ('certified', 1910), ('the shelf', 9158), ('method of', 5606), ('is low', 4711), ('short of', 7893), ('he can', 4016), ('langley', 5087), ('empty', 2995), ('placed in', 6811), ('is already', 4645), ('satellite in', 7668), ('years since', 10785), ('giving', 3741), ('oscilloscope', 6548), ('precision', 6956), ('barely', 1297), ('tax', 8535), ('prefer', 6959), ('oxygen', 6604), ('mirror', 5668), ('been thinking', 1428), ('see how', 7761), ('time on', 9574), ('docking', 2747), ('any other', 861), ('the inside', 8941), ('claimed', 2013), ('my friend', 5835), ('on for', 6345), ('with her', 10618), ('kekule', 4998), ('utexas', 10148), ('reasonably', 7314), ('cards', 1833), ('decoder', 2499), ('ics', 4227), ('extended', 3219), ('codes', 2054), ('pieces', 6787), ('cc utexas', 1883), ('utexas edu', 10149), ('to write', 9838), ('be about', 1320), ('right way', 7568), ('is something', 4747), ('can someone', 1794), ('series of', 7825), ('forwarded', 3553), ('doug', 2823), ('gathering', 3670), ('delayed', 2518), ('preparation', 6964), ('orbits', 6523), ('forwarded from', 3554), ('status report', 8281), ('this week', 9504), ('and engineers', 669), ('the start', 9185), ('pilots', 6792), ('stringent', 8327), ('accident', 328), ('zip', 10884), ('candy', 1810), ('being able', 1454), ('morphine', 5756), ('sir', 7975), ('once again', 6379), ('any suggestions', 864), ('and why', 802), ('so please', 8033), ('one on', 6398), ('very very', 10229), ('lawyer', 5131), ('technically', 8546), ('discuss', 2686), ('alot', 520), ('that comes', 8646), ('was originally', 10324), ('with being', 10614), ('limited to', 5227), ('the topic', 9219), ('you with', 10860), ('to discuss', 9661), ('something similar', 8097), ('alot of', 521), ('period of', 6729), ('interpreting', 4600), ('formats', 3541), ('roger', 7595), ('donald', 2803), ('1971', 75), ('paperback', 6631), ('1960s', 71), ('ordered', 6528), ('determination', 2588), ('ballistic', 1284), ('influence', 4497), ('oct', 6150), ('1963', 72), ('1965', 73), ('availability', 1232), ('celestial', 1888), ('coordinates', 2302), ('perturbations', 6746), ('differential', 2644), ('1979', 81), ('compute', 2164), ('arc', 942), ('naval', 5895), ('macintosh', 5370), ('sales', 7650), ('desk', 2572), ('703', 225), ('ephemeris', 3046), ('floppy', 3398), ('disks', 2701), ('4000', 178), ('simon', 7955), ('cambridge', 1748), ('stanley', 8248), ('1987', 89), ('databases', 2453), ('crater', 2381), ('pi', 6775), ('rms', 7583), ('38', 172), ('overview', 6600), ('examination', 3140), ('pp', 6946), ('253', 137), ('tutorial', 9977), ('descriptions', 2556), ('pages', 6617), ('130', 49), ('maps', 5451), ('discount', 2680), ('demo', 2526), ('compuserve', 2162), ('smart', 8007), ('evaluation', 3099), ('particle', 6647), ('dimensional', 2658), ('log', 5291), ('fits', 3378), ('preferred', 6961), ('unix', 10042), ('regarded', 7374), ('eugene', 3094), ('yale', 10768), ('catalogue', 1862), ('doc', 2746), ('orbits and', 6524), ('design of', 2560), ('to compute', 9640), ('of only', 6242), ('produced by', 7049), ('ibm pc', 4223), ('work by', 10683), ('the previous', 9092), ('studies and', 8341), ('also has', 533), ('the field', 8885), ('particularly the', 6651), ('1990 the', 93), ('for both', 3448), ('your money', 10873), ('they ll', 9367), ('available on', 1239), ('fields in', 3329), ('three dimensional', 9538), ('written by', 10761), ('program for', 7066), ('to convert', 9645), ('read and', 7278), ('the sci', 9149), ('sci astro', 7710), ('program the', 7071), ('see some', 7764), ('the distance', 8849), ('in pub', 4395), ('pub space', 7134), ('data and', 2445), ('ames arc', 573), ('arc nasa', 943), ('modulation', 5707), ('labs', 5074), ('pretty good', 6984), ('of different', 6182), ('att com', 1198), ('semi', 7798), ('temporary', 8576), ('capture', 1828), ('indication', 4473), ('1970', 74), ('brader', 1575), ('sq', 8225), ('msb', 5793), ('the semi', 9155), ('the comet', 8804), ('to actually', 9604), ('anything but', 885), ('mark brader', 5457), ('remember the', 7429), ('msb sq', 5794), ('sq com', 8226), ('contacts', 2244), ('impedance', 4300), ('inputs', 4535), ('shorted', 7895), ('versa', 10209), ('impedance of', 4301), ('in low', 4372), ('is done', 4675), ('of luck', 6218), ('language', 5088), ('sensible', 7809), ('his time', 4124), ('pills', 6790), ('round', 7612), ('stores', 8314), ('comfortable', 2099), ('fortunately', 3549), ('obese', 6121), ('keith', 4997), ('digex', 2652), ('just too', 4986), ('build and', 1620), ('that when', 8716), ('question in', 7190), ('ve ever', 10188), ('access digex', 325), ('digex com', 2653), ('posted this', 6919), ('here on', 4091), ('to anyone', 9615), ('anyone interested', 876), ('damn', 2435), ('repetitive', 7444), ('science is', 7718), ('is easy', 4677), ('that what', 8715), ('flights of', 3396), ('work in', 10685), ('concerned with', 2180), ('agree with', 447), ('mechanisms', 5562), ('connections', 2209), ('bulletin', 1630), ('dealing', 2481), ('join', 4940), ('retrieve', 7541), ('positioning', 6902), ('si', 7926), ('investors', 4629), ('vac', 10161), ('esoteric', 3066), ('debris', 2486), ('releases', 7410), ('kelvin', 5000), ('topical', 9874), ('requests', 7470), ('describing', 2553), ('landsat', 5086), ('af', 413), ('prediction', 6958), ('terrestrial', 8592), ('214', 124), ('established', 3075), ('sherzer', 7880), ('personnel', 6743), ('contractors', 2265), ('plaza', 6839), ('are sometimes', 1002), ('space and', 8143), ('of several', 6259), ('and space', 763), ('with space', 10640), ('are called', 960), ('that an', 8634), ('group to', 3848), ('vice versa', 10240), ('of material', 6224), ('the international', 8944), ('to join', 9700), ('at present', 1178), ('available by', 1235), ('by anonymous', 1706), ('other sources', 6553), ('global positioning', 3745), ('positioning system', 6903), ('space related', 8161), ('cs cmu', 2401), ('ftp from', 3623), ('or by', 6473), ('the archive', 8752), ('the like', 8977), ('jpl nasa', 4954), ('join the', 4941), ('unless otherwise', 10046), ('their time', 9269), ('first of', 3371), ('astronomy and', 1154), ('henry spencer', 4080), ('guide to', 3867), ('society of', 8045), ('on non', 6356), ('space activities', 8139), ('for nasa', 3482), ('element sets', 2976), ('orbital elements', 6519), ('from nasa', 3602), ('gsfc nasa', 3858), ('this includes', 9460), ('the report', 9124), ('has this', 3948), ('the connection', 8815), ('recently been', 7332), ('nasa and', 5873), ('this system', 9494), ('been made', 1425), ('hoping', 4163), ('astronautics', 1149), ('two things', 9985), ('launch and', 5111), ('or mail', 6487), ('it used', 4883), ('virginia edu', 10253), ('activated', 353), ('craft', 2378), ('act as', 349), ('expense', 3183), ('leo', 5173), ('faces', 3236), ('the expense', 8875), ('have done', 3967), ('it long', 4835), ('in leo', 4371), ('would only', 10735), ('only be', 6420), ('be visible', 1397), ('the sky', 9168), ('time as', 9567), ('they look', 9368), ('pittsburgh', 6802), ('offering', 6305), ('courses', 2365), ('1600', 62), ('announcement', 826), ('technological', 8552), ('relationships', 7399), ('manufacturing', 5440), ('departments', 2535), ('universities', 10037), ('institutions', 4558), ('this summer', 9493), ('not limited', 6042), ('engineering and', 3021), ('and scientific', 753), ('apply for', 917), ('technology transfer', 8558), ('the opportunity', 9047), ('scientists and', 7728), ('placed on', 6812), ('history and', 4128), ('run for', 7629), ('are possible', 992), ('please do', 6842), ('to us', 9829), ('us citizens', 10092), ('the wire', 9255), ('is interested', 4700), ('extracted', 3227), ('not tell', 6059), ('propose', 7104), ('taxes', 8536), ('it so', 4866), ('well in', 10415), ('00 and', 1), ('get back', 3708), ('space is', 8155), ('have in', 3973), ('street', 8322), ('carl', 1838), ('lydick', 5362), ('it why', 4893), ('do they', 2740), ('carl lydick', 1839), ('how does', 4183), ('experienced', 3191), ('of something', 6263), ('on november', 6357), ('anything like', 887), ('the decision', 8832), ('once in', 6382), ('in while', 4431), ('exposure to', 3217), ('that as', 8639), ('thinking that', 9425), ('good to', 3792), ('this kind', 9467), ('ultra', 10001), ('definition', 2513), ('leads to', 5144), ('use some', 10113), ('the digital', 8844), ('cheaper than', 1950), ('patrick', 6675), ('batteries', 1313), ('be to', 1391), ('in those', 4417), ('don believe', 2787), ('eccentric', 2911), ('moonbase', 5732), ('each other', 2885), ('he does', 4020), ('people will', 6707), ('subject to', 8360), ('to much', 9732), ('manufacturers', 5439), ('adcom', 369), ('the far', 8883), ('but at', 1649), ('course if', 2359), ('reactor', 7274), ('loop', 5319), ('circuit to', 1991), ('cooling tower', 2297), ('negligible', 5921), ('it more', 4842), ('ve looked', 10194), ('looked at', 5312), ('thing is', 9394), ('that leads', 8673), ('understood', 10024), ('forces', 3527), ('la', 5068), ('more easily', 5741), ('doesn do', 2770), ('etc is', 3090), ('coil', 2058), ('yes there', 10792), ('of anything', 6168), ('forever', 3529), ('wales', 10281), ('investor', 4628), ('space technology', 8166), ('technology investor', 8556), ('fees', 3305), ('managed to', 5426), ('by taking', 1718), ('suggest you', 8392), ('transform', 9908), ('the little', 8982), ('line level', 5232), ('it into', 4828), ('50 or', 197), ('to need', 9735), ('10 of', 23), ('read this', 7282), ('cracked', 2377), ('window', 10593), ('tolerate', 9848), ('diets', 2633), ('lunch', 5360), ('projected', 7084), ('restaurant syndrome', 7525), ('you read', 10842), ('for food', 3458), ('me but', 5520), ('this from', 9452), ('best to', 1479), ('the window', 9253), ('course they', 2363), ('hook', 4154), ('anyone tell', 880), ('prices are', 6995), ('to hook', 9689), ('places', 6813), ('prozac', 7126), ('of interesting', 6211), ('prime', 6998), ('of high', 6202), ('exciting', 3165), ('gnp', 3754), ('excuse', 3168), ('crucial', 2397), ('defense', 2508), ('moon base', 5730), ('base is', 1301), ('space industry', 8154), ('lunar base', 5355), ('be spent', 1385), ('the base', 8769), ('which does', 10497), ('detection', 2585), ('just as', 4971), ('and published', 747), ('wright', 10752), ('life support', 5198), ('lot more', 5328), ('supplied', 8417), ('someone please', 8086), ('could it', 2337), ('cases where', 1857), ('frank', 3574), ('as if', 1074), ('you probably', 10839), ('call it', 1737), ('fluke', 3405), ('fellow', 3308), ('converted', 2287), ('115', 37), ('preamp', 6953), ('here the', 4092), ('get your', 3723), ('only when', 6430), ('not connected', 6026), ('to anything', 9616), ('the external', 8876), ('resistors', 7504), ('was wondering', 10338), ('in net', 4380), ('net land', 5930), ('copy protection', 2308), ('newer', 5960), ('proceedings', 7039), ('conversion', 2285), ('converter', 2288), ('512', 202), ('bay', 1315), ('budgets', 1615), ('chip but', 1974), ('at higher', 1169), ('do any', 2727), ('you describe', 10809), ('and which', 799), ('also in', 536), ('used at', 10122), ('and perhaps', 742), ('this the', 9495), ('help on', 4067), ('bother with', 1562), ('reduced to', 7350), ('the existing', 8874), ('money and', 5717), ('bay area', 1316), ('as can', 1065), ('hate to', 3954), ('numbers are', 6112), ('can read', 1788), ('to name', 9734), ('at hand', 1167), ('no reason', 5991), ('bandwidth', 1291), ('system to', 8493), ('with little', 10624), ('vintage', 10249), ('canadian', 1803), ('river', 7581), ('also have', 534), ('anyone knows', 878), ('knows of', 5063), ('the internal', 8943), ('adams', 367), ('not high', 6036), ('hi was', 4098), ('was doing', 10308), ('apparent', 897), ('anger', 817), ('father', 3282), ('of life', 6215), ('in short', 4404), ('well that', 10418), ('but then', 1683), ('space age', 8141), ('to normal', 9739), ('post in', 6912), ('all this', 494), ('see what', 7769), ('crohn', 2391), ('advocacy', 407), ('easy for', 2906), ('is lot', 4710), ('happened to', 3910), ('install', 4547), ('arrays', 1049), ('solar arrays', 8055), ('honest', 4152), ('specialty', 8188), ('curious', 2414), ('thing about', 9391), ('at work', 1187), ('can recall', 1789), ('line and', 5230), ('they might', 9371), ('the device', 8839), ('mass of', 5474), ('photographs', 6766), ('insulation', 4563), ('shared', 7867), ('anything that', 888), ('without any', 10657), ('to switch', 9807), ('is is', 4701), ('references to', 7363), ('etc for', 3088), ('movie', 5783), ('opposite', 6457), ('egalon', 2958), ('science fiction', 7717), ('orbit of', 6515), ('never be', 5947), ('turns out', 9976), ('that their', 8701), ('left and', 5160), ('egalon larc', 2959), ('the former', 8899), ('case it', 1850), ('pack', 6608), ('bulb', 1628), ('referring', 7366), ('if necessary', 4254), ('referring to', 7367), ('could someone', 2341), ('terminal', 8589), ('fudge', 3628), ('thoroughly', 9512), ('doctor and', 2749), ('diet is', 2631), ('know this', 5049), ('the numerous', 9037), ('though that', 9522), ('check with', 1957), ('roughly', 7611), ('around for', 1043), ('to in', 9691), ('and ve', 790), ('have heard', 3972), ('20 000', 108), ('conclusion', 2185), ('from my', 3601), ('year or', 10775), ('relative to', 7401), ('talk about', 8518), ('the large', 8956), ('but rather', 1677), ('astronauts', 1150), ('win', 10591), ('sudden', 8380), ('appearance', 902), ('employees', 2994), ('miss', 5670), ('motivation', 5770), ('continuous', 2261), ('civilian', 2006), ('industries', 4479), ('utilizing', 10152), ('institution', 4556), ('biological', 1511), ('standards', 8245), ('measured', 5553), ('76', 234), ('tx', 9988), ('evaluations', 3100), ('designated', 2561), ('skills', 7993), ('participation', 6646), ('insurance', 4564), ('for non', 3484), ('better off', 1487), ('you aren', 10803), ('in principle', 4394), ('not just', 6040), ('with good', 10617), ('after you', 428), ('and nasa', 726), ('the image', 8933), ('known to', 5060), ('national aeronautics', 5885), ('aeronautics and', 411), ('space administration', 8140), ('shuttle program', 7924), ('30 days', 147), ('will eventually', 10567), ('also provides', 538), ('system in', 8489), ('or all', 6465), ('to pass', 9750), ('requirements for', 7479), ('field of', 3327), ('be obtained', 1370), ('applications and', 910), ('and their', 772), ('service and', 7833), ('required for', 7475), ('program which', 7073), ('be placed', 1375), ('at that', 1181), ('of having', 6198), ('with each', 10616), ('an active', 596), ('width', 10557), ('cuts', 2427), ('me so', 5529), ('kirlian', 5024), ('union', 10028), ('sale', 7649), ('viking', 10247), ('currents', 2421), ('conductors', 2193), ('distinguish', 2711), ('twenty', 9979), ('louis', 5333), ('phenomenon', 6754), ('illustrated', 4285), ('legs', 5169), ('grand', 3815), ('electricity', 2968), ('hobbyists', 4140), ('to most', 9729), ('soviet union', 8135), ('for sale', 3496), ('somewhere in', 8104), ('kirlian photography', 5025), ('but still', 1680), ('high frequency', 4104), ('an object', 620), ('the picture', 9077), ('the object', 9038), ('the soviet', 9176), ('but only', 1676), ('only few', 6421), ('is extremely', 4681), ('far more', 3275), ('has shown', 3943), ('the author', 8762), ('to such', 9803), ('baltimore', 1288), ('po box', 6863), ('and run', 750), ('on what', 6374), ('since we', 7970), ('the analog', 8742), ('just thought', 4984), ('way you', 10366), ('changing', 1925), ('absolute', 307), ('justify', 4989), ('investigators', 4626), ('investigation', 4623), ('incident', 4437), ('holding', 4143), ('is mainly', 4712), ('true and', 9947), ('let see', 5180), ('agree on', 445), ('is any', 4651), ('is useful', 4764), ('the necessary', 9024), ('in sci', 4399), ('done to', 2810), ('been trying', 1431), ('books and', 1549), ('and over', 741), ('called the', 1740), ('claim that', 2011), ('and hence', 691), ('be taken', 1388), ('it over', 4855), ('me it', 5524), ('as used', 1099), ('in few', 4355), ('several weeks', 7852), ('any case', 848), ('the folks', 8894), ('them are', 9273), ('just plain', 4981), ('anyone could', 872), ('making the', 5420), ('the claim', 8801), ('be completely', 1336), ('for him', 3465), ('the kind', 8953), ('jeff', 4920), ('fusion', 3651), ('micro', 5618), ('buck', 1612), ('the site', 9164), ('aside from', 1109), ('the gravity', 8912), ('for high', 3464), ('too low', 9861), ('space based', 8145), ('of light', 6216), ('is required', 4741), ('to reach', 9772), ('reach them', 7264), ('more expensive', 5743), ('to visit', 9831), ('or as', 6470), ('first is', 3370), ('lady', 5078), ('abdominal', 275), ('unless they', 10048), ('removed the', 7439), ('explains', 3205), ('organized', 6539), ('postscript', 6928), ('using it', 10142), ('any info', 853), ('rc', 7255), ('209', 119), ('reset', 7496), ('trigger', 9939), ('one shot', 6403), ('goes to', 3772), ('to fire', 9671), ('in series', 4402), ('make sure', 5410), ('sure the', 8441), ('imho', 4292), ('not of', 6047), ('explosion', 3212), ('about years', 302), ('while we', 10520), ('doubt if', 2821), ('of trying', 6283), ('fix the', 3382), ('new one', 5956), ('recall reading', 7320), ('picture tube', 6782), ('maneuvering', 5432), ('actually the', 363), ('yes you', 10793), ('to include', 9692), ('attitude control', 1212), ('an external', 610), ('408', 179), ('paid for', 6619), ('lower than', 5347), ('that should', 8694), ('am doing', 558), ('by calling', 1707), ('firms', 3367), ('historical', 4125), ('payment', 6685), ('signed', 7943), ('have several', 3991), ('dedicated to', 2504), ('the history', 8925), ('to meet', 9724), ('place of', 6805), ('sails', 7648), ('interstellar', 4601), ('one you', 6413), ('solar sails', 8057), ('planetary society', 6822), ('the formation', 8898), ('so forth', 8023), ('real life', 7293), ('was never', 10319), ('would anyone', 10719), ('court', 2366), ('ignorance', 4271), ('shield', 7881), ('brands', 1581), ('radar detectors', 7212), ('the spot', 9182), ('appear in', 900), ('the fine', 8889), ('not on', 6048), ('is capable', 4664), ('and left', 708), ('the speed', 9181), ('the detector', 8837), ('dictionary', 2618), ('the head', 8919), ('add that', 371), ('it when', 4892), ('regulatory', 7390), ('moving', 5784), ('pumped', 7155), ('fully', 3632), ('are generally', 969), ('located in', 5286), ('they must', 9372), ('decade or', 2490), ('the code', 8802), ('program to', 7072), ('at my', 1174), ('please email', 6843), ('distinction', 2709), ('distinction between', 2710), ('if she', 4258), ('hope you', 4161), ('the wall', 9244), ('section on', 7753), ('aiaa', 454), ('in article', 4331), ('lunar exploration', 5356), ('crystal city', 2399), ('be set', 1382), ('is difficult', 4672), ('schematic', 7702), ('line to', 5234), ('can take', 1795), ('this message', 9471), ('seek the', 7773), ('stages', 8240), ('this data', 9443), ('packaging', 6612), ('socket', 8046), ('inductance', 4477), ('problem in', 7025), ('joints', 4943), ('failure in', 3253), ('construct', 2230), ('1975', 78), ('tesla', 8593), ('photo', 6764), ('distance from', 2706), ('pressure on', 6980), ('for sci', 3497), ('connect to', 2203), ('pavement', 6679), ('listening', 5253), ('coils', 2059), ('based in', 1304), ('had an', 3878), ('of traffic', 6281), ('the pavement', 9070), ('time it', 9572), ('your original', 10874), ('customers', 2424), ('upon the', 10082), ('data on', 2449), ('what to', 10456), ('notice that', 6084), ('will send', 10580), ('to mail', 9717), ('to continue', 9643), ('to re', 9771), ('everyone who', 3126), ('best way', 1480), ('and ask', 645), ('kick', 5010), ('remember seeing', 7427), ('concerning', 2181), ('months ago', 5726), ('but here', 1660), ('small and', 8005), ('consumption', 2239), ('combination of', 2083), ('with lower', 10625), ('years back', 10779), ('bits', 1518), ('fraction', 3569), ('detectable', 2582), ('this book', 9436), ('fraction of', 3570), ('would take', 10740), ('thus the', 9557), ('management and', 5428), ('predicted', 6957), ('existence', 3173), ('alas', 470), ('inside of', 4539), ('have had', 3971), ('not so', 6056), ('first and', 3369), ('1993 at', 98), ('cables', 1726), ('quite bit', 7205), ('next to', 5972), ('power lines', 6938), ('upgrade', 10080), ('bbs', 1317), ('documentation and', 2756), ('as have', 1070), ('scopes', 7731), ('low end', 5341), ('knots', 5033), ('what exactly', 10445), ('fed', 3296), ('make money', 5407), ('andy', 812), ('to prove', 9765), ('lunar orbiter', 5358), ('good and', 3782), ('inclined', 4439), ('device that', 2604), ('line is', 5231), ('pt', 7132), ('is taking', 4753), ('answers to', 839), ('dealing with', 2482), ('problem for', 7024), ('and keep', 706), ('army', 1041), ('intelligence', 4572), ('cis', 1999), ('the army', 8756), ('time ago', 9565), ('ago about', 442), ('space command', 8148), ('high the', 4109), ('used with', 10130), ('any sort', 863), ('know much', 5045), ('remember what', 7430), ('are using', 1016), ('studies on', 8345), ('pushed', 7165), ('string', 8326), ('was still', 10328), ('built by', 1626), ('space program', 8160), ('in more', 4377), ('it usually', 4885), ('ward', 10296), ('applying', 919), ('chapters', 1931), ('1982', 84), ('publishers', 7147), ('publications', 7141), ('moved', 5780), ('alleged', 499), ('underground', 10016), ('gravitational', 3820), ('regard', 7373), ('directions', 2666), ('locations', 5288), ('hole', 4145), ('quantities', 7183), ('remains', 7423), ('lightning', 5206), ('years the', 10786), ('speed of', 8199), ('model of', 5694), ('properties of', 7098), ('on space', 6364), ('available via', 1241), ('theory that', 9308), ('moved to', 5781), ('which they', 10511), ('are made', 980), ('and only', 736), ('to our', 9748), ('the parts', 9066), ('time when', 9582), ('book the', 1547), ('coming from', 2101), ('the stars', 9184), ('black hole', 1521), ('nothing more', 6080), ('space to', 8169), ('of spacecraft', 6265), ('alternative to', 546), ('offset', 6314), ('hurts', 4216), ('to charge', 9636), ('feeding', 3300), ('the tube', 9223), ('about 20', 284), ('find this', 3354), ('thin', 9389), ('say it', 7683), ('seen in', 7784), ('in each', 4346), ('within about', 10654), ('comment on', 2105), ('films', 3341), ('have two', 4002), ('pain is', 6623), ('very well', 10230), ('pain in', 6622), ('my back', 5829), ('are working', 1022), ('every time', 3122), ('my original', 5844), ('few minutes', 3314), ('feet and', 3307), ('pcb', 6688), ('layout', 5134), ('the disks', 8848), ('still not', 8304), ('sure how', 8436), ('is worth', 4773), ('fashion', 3277), ('sweep', 8467), ('you some', 10847), ('more complex', 5739), ('the scope', 9152), ('real time', 7294), ('or on', 6492), ('scope for', 7730), ('the price', 9093), ('by putting', 1716), ('in front', 4358), ('front of', 3618), ('get my', 3714), ('golden', 3777), ('reflecting', 7370), ('joke', 4944), ('movement', 5782), ('loud', 5332), ('so how', 8025), ('nervous', 5927), ('the central', 8794), ('mount', 5774), ('priority', 7008), ('mars and', 5464), ('it very', 4886), ('airport', 464), ('russia', 7634), ('observers', 6133), ('me as', 5518), ('diagrams', 2615), ('am currently', 557), ('receivers and', 7328), ('of circuit', 6175), ('about an', 287), ('frame', 3571), ('noon', 6002), ('emphasis', 2992), ('severely', 7855), ('invited', 4630), ('cooperative', 2300), ('202', 114), ('be on', 1373), ('the mail', 8991), ('it says', 4861), ('than this', 8618), ('colitis', 2061), ('what type', 10457), ('crohn and', 2392), ('heal', 4037), ('it better', 4803), ('it please', 4856), ('please help', 6844), ('weakness', 10395), ('expense of', 3184), ('skies', 7992), ('billboards', 1504), ('go for', 3757), ('speculate', 8196), ('settings', 7844), ('book on', 1546), ('caps', 1826), ('relevance', 7411), ('lox', 5350), ('in lunar', 4373), ('number is', 6108), ('have tried', 4001), ('broken', 1605), ('incremental', 4461), ('spacehab', 8175), ('inject', 4527), ('is distributed', 4673), ('long duration', 5299), ('the research', 9126), ('lunar and', 5354), ('satellites that', 7673), ('earth moon', 2896), ('in place', 4392), ('off to', 6302), ('return the', 7543), ('adequately', 385), ('existed', 3172), ('proves', 7119), ('communicate', 2116), ('are about', 948), ('hope it', 4157), ('though it', 9521), ('some more', 8070), ('user', 10136), ('4800', 189), ('9600', 270), ('parity', 6636), ('129', 46), ('are carried', 961), ('at 300', 1160), ('and software', 760), ('via anonymous', 10234), ('the directory', 8845), ('directory pub', 2672), ('german', 3702), ('nucleus', 6105), ('columbus', 2078), ('atlas', 1193), ('cape', 1825), ('arthur', 1052), ('edwards', 2937), ('geo', 3698), ('cloud', 2037), ('peak', 6689), ('llnl', 5277), ('marshall', 5466), ('nasp', 5881), ('sdi', 7735), ('reference for', 7360), ('ways of', 10369), ('and data', 659), ('for research', 3494), ('cd rom', 1886), ('marshall space', 5467), ('to noise', 9737), ('solar power', 8056), ('stage to', 8239), ('sorry if', 8113), ('right to', 7567), ('except in', 3156), ('your health', 10871), ('version is', 10211), ('cylinders', 2432), ('linked to', 5241), ('players', 6837), ('recall that', 7321), ('mind you', 5650), ('it some', 4867), ('feature', 3292), ('pierce', 6788), ('an ftp', 612), ('ftp site', 3625), ('me if', 5522), ('base of', 1302), ('used on', 10127), ('on both', 6342), ('publishes', 7148), ('mobile', 5691), ('mexico', 5611), ('junction', 4963), ('surely', 8446), ('you sure', 10849), ('edited', 2920), ('minority', 5663), ('sensation', 7806), ('study was', 8350), ('so does', 8020), ('my understanding', 5851), ('josh', 4948), ('gm2', 3750), ('483', 190), ('4368', 183), ('to plug', 9756), ('jenks nasa', 4923), ('nasa jsc', 5879), ('jsc gm2', 4957), ('gm2 space', 3751), ('office kjenks', 6308), ('gov 713', 3806), ('713 483', 228), ('483 4368', 191), ('proton', 7115), ('really need', 7306), ('centaur is', 1894), ('the proton', 9104), ('tb', 8537), ('find something', 3350), ('region', 7380), ('nov', 6089), ('to non', 9738), ('for its', 3471), ('sauce', 7676), ('hi all', 4096), ('man who', 5424), ('infrastructure', 4517), ('competition', 2139), ('some things', 8076), ('days and', 2469), ('all in', 484), ('some way', 8079), ('on going', 6346), ('case is', 1849), ('me at', 5519), ('avenue', 1243), ('newsletters', 5966), ('via the', 10237), ('goldin', 3778), ('energia', 3012), ('reports that', 7461), ('voyager', 10275), ('occasional', 6142), ('orbit and', 6511), ('cost to', 2327), ('the ozone', 9058), ('hardly', 3919), ('is huge', 4694), ('materials and', 5481), ('minimize', 5659), ('ups', 10085), ('online', 6417), ('schemes', 7705), ('orbiters', 6521), ('controversial', 2283), ('athena', 1190), ('scott', 7732), ('amsat', 594), ('anderson', 810), ('harris', 3923), ('this with', 9506), ('than any', 8607), ('thought of', 9527), ('of images', 6207), ('rocket propulsion', 7590), ('what happened', 10446), ('space probes', 8159), ('setting up', 7843), ('concede', 2169), ('snow', 8015), ('the april', 8751), ('on its', 6350), ('not subject', 6057), ('power system', 6940), ('on orbit', 6359), ('get an', 3705), ('example and', 3145), ('by itself', 1711), ('to compare', 9639), ('party', 6655), ('light pollution', 5204), ('guess that', 3863), ('power is', 6936), ('201', 113), ('and building', 651), ('longer than', 5304), ('funding for', 3642), ('have something', 3994), ('the british', 8787), ('the file', 8886), ('and related', 749), ('the department', 8834), ('unfortunately the', 10026), ('very interested', 10222), ('some info', 8067), ('as is', 1076), ('the good', 8910), ('as above', 1061), ('can we', 1800), ('available to', 1240), ('next generation', 5971), ('considerably', 2216), ('any new', 857), ('expensive than', 3187), ('for doing', 3453), ('voltages', 10270), ('is connected', 4668), ('the box', 8784), ('box and', 1571), ('arranged', 1047), ('agreed', 448), ('ussr', 10144), ('use these', 10116), ('like what', 5218), ('both in', 1559), ('the equivalent', 8868), ('mean that', 5542), ('searching', 7743), ('searching for', 7744), ('the pad', 9061), ('not available', 6020), ('added to', 373), ('email address', 2985), ('folk', 3416), ('along the', 518), ('there more', 9325), ('accounting', 334), ('mar', 5452), ('275', 141), ('build the', 1621), ('while you', 10521), ('shall', 7861), ('good diet', 3785), ('enough for', 3031), ('too but', 9858), ('in patients', 4391), ('preventing', 6988), ('time of', 9573), ('rating', 7246), ('antibiotic', 844), ('seeking', 7774), ('them that', 9287), ('sure of', 8439), ('promised', 7088), ('draw', 2839), ('thru the', 9551), ('the electronics', 8862), ('backward', 1275), ('handed', 3898), ('larger than', 5095), ('to set', 9790), ('fly the', 3408), ('epa', 3045), ('chairman', 1913), ('district', 2717), ('lock', 5289), ('are expected', 966), ('can no', 1780), ('220', 130), ('the load', 8983), ('an output', 627), ('happen if', 3907), ('as am', 1062), ('the length', 8971), ('someone to', 8087), ('in canada', 4338), ('us the', 10096), ('innovation', 4533), ('developments', 2601), ('that space', 8697), ('backed up', 1271), ('made with', 5383), ('the assumption', 8759), ('assumption that', 1140), ('programmer', 7075), ('sigh', 7936), ('or where', 6504), ('lines of', 5237), ('see below', 7760), ('regulator', 7389), ('putting the', 7176), ('please contact', 6841), ('pod', 6864), ('it off', 4850), ('assumed that', 1135), ('dust', 2875), ('authorized', 1226), ('boulevard', 1567), ('213', 123), ('955', 266), ('110', 35), ('wisc', 10603), ('216', 126), ('incoming', 4449), ('can send', 1793), ('was found', 10311), ('is greatly', 4690), ('the media', 9001), ('one problem', 6401), ('and treatment', 784), ('support for', 8422), ('medical center', 5566), ('wisc edu', 10604), ('to connect', 9641), ('information that', 4512), ('hooked', 4155), ('days ago', 2468), ('cancellation', 1804), ('tel', 8560), ('me what', 5536), ('reasoning', 7315), ('identify', 4243), ('are talking', 1006), ('regarding the', 7376), ('tio2', 9592), ('chlorine', 1976), ('dominance', 2783), ('would want', 10746), ('considerations', 2218), ('simpler', 7957), ('sections', 7754), ('shell', 7879), ('breaks', 1587), ('voltmeter', 10271), ('ideally', 4237), ('problem when', 7029), ('the upper', 9233), ('disease is', 2695), ('fri', 3588), ('blow', 1530), ('message id', 5597), ('the hundreds', 8931), ('refuse', 7371), ('side effect', 7930), ('refuse to', 7372), ('where we', 10485), ('found out', 3560), ('into them', 4612), ('beats', 1405), ('build up', 1622), ('where could', 10478), ('profitable', 7062), ('grateful', 3819), ('be well', 1398), ('required by', 7474), ('with our', 10636), ('back on', 1266), ('dreams', 2841), ('see any', 7759), ('big deal', 1498), ('work well', 10692), ('your body', 10867), ('be problem', 1378), ('this field', 9450), ('by mail', 1712), ('beer', 1433), ('convincing', 2292), ('use by', 10105), ('left the', 5162), ('805', 238), ('puts', 7174), ('shift', 7884), ('resistance of', 7500), ('the companies', 8808), ('had any', 3879), ('spec', 8183), ('good at', 3783), ('if possible', 4257), ('rpm', 7618), ('current to', 2419), ('problem the', 7028), ('advocate', 408), ('rockwell', 7594), ('invented', 4618), ('dos', 2813), ('at 30', 1159), ('of solar', 6261), ('system based', 8486), ('earth as', 2894), ('an international', 619), ('forming', 3545), ('quantities of', 7184), ('kilometers', 5017), ('honor', 4153), ('touched', 9882), ('periodicals', 6731), ('photographic', 6765), ('the range', 9113), ('for power', 3493), ('up but', 10064), ('aimed at', 459), ('will carry', 10564), ('is of', 4726), ('with many', 10626), ('vaginal', 10163), ('perhaps not', 6726), ('software engineering', 8051), ('has nothing', 3940), ('1g', 105), ('wall and', 10284), ('hanging', 3905), ('this morning', 9473), ('about every', 288), ('has ever', 3933), ('thumb', 9554), ('from time', 3612), ('to time', 9823), ('each time', 2886), ('better for', 1485), ('depression', 2542), ('ground is', 3839), ('whether this', 10491), ('the user', 9236), ('are bit', 959), ('true it', 9948), ('it any', 4794), ('this question', 9485), ('question the', 7194), ('since this', 7969), ('and came', 654), ('production of', 7054), ('reader', 7283), ('rk', 7582), ('scanner', 7698), ('guarantee', 3859), ('apr 1993', 935), ('bi', 1495), ('organic', 6534), ('plates', 6833), ('info is', 4499), ('pursuing', 7163), ('life and', 5196), ('the screen', 9153), ('plugs', 6857), ('kitchen', 5027), ('amplitude', 592), ('is all', 4644), ('embedded', 2989), ('modem', 5697), ('354', 165), ('gif images', 3730), ('public information', 7138), ('altitude of', 552), ('there who', 9335), ('who could', 10528), ('mail order', 5393), ('guard', 3860), ('marked', 5458), ('johnh', 4933), ('mpce', 5785), ('macquarie', 5371), ('sydney', 8476), ('2109', 121), ('mq', 5788), ('61', 216), ('8959', 254), ('8983', 256), ('johnh electronics', 4934), ('electronics department', 2974), ('department school', 2534), ('of mpce', 6232), ('mpce macquarie', 5786), ('macquarie university', 5372), ('university sydney', 10041), ('sydney australia', 8477), ('australia 2109', 1222), ('2109 email', 122), ('email johnh', 2986), ('johnh mpce', 4935), ('mpce mq', 5787), ('mq edu', 5789), ('au ph', 1215), ('ph 61', 6751), ('61 805', 217), ('805 8959', 239), ('8959 fax', 255), ('fax 61', 3288), ('805 8983', 240), ('is non', 4721), ('the distribution', 8850), ('be released', 1379), ('light years', 5205), ('spin', 8210), ('verification', 10207), ('flow of', 3401), ('viewed', 10244), ('was being', 10306), ('controlled by', 2279), ('sticks', 8299), ('said it', 7644), ('the san', 9146), ('for sure', 3505), ('gathered', 3669), ('lips', 5243), ('propellants', 7094), ('inspection', 4545), ('do in', 2732), ('us on', 10095), ('outside of', 6591), ('but what', 1692), ('rip', 7575), ('export', 3213), ('ordered the', 6529), ('63', 219), ('reasonable to', 7313), ('automated', 1229), ('acquisition', 345), ('on line', 6351), ('eliminate', 2979), ('help with', 4071), ('email me', 2987), ('this idea', 9458), ('the voltage', 9243), ('dropped to', 2853), ('studying', 8351), ('to increase', 9693), ('adjust', 386), ('often have', 6316), ('series with', 7826), ('the internet', 8945), ('for new', 3483), ('marked with', 5459), ('re looking', 7259), ('have enough', 3968), ('edge of', 2918), ('windows', 10594), ('laid', 5079), ('distributor', 2715), ('colors', 2076), ('edu pub', 2931), ('sides of', 7934), ('use your', 10119), ('of normal', 6239), ('forget the', 3532), ('work of', 10688), ('liked', 5221), ('spine', 8211), ('itself in', 4909), ('to watch', 9832), ('now you', 6100), ('to submit', 9802), ('ourselves', 6564), ('factory', 3246), ('concrete', 2187), ('things are', 9402), ('when this', 10471), ('more accurate', 5737), ('can probably', 1784), ('dm', 2724), ('impressive', 4315), ('yr', 10881), ('could provide', 2340), ('too expensive', 9859), ('depressed', 2541), ('distributors', 2716), ('100 or', 29), ('bugs', 1618), ('ftp in', 3624), ('gold', 3776), ('acts', 359), ('force of', 3526), ('remote sensing', 7435), ('pickup', 6780), ('ahead and', 451), ('and set', 755), ('shorts', 7897), ('thing can', 9393), ('the easiest', 8857), ('insulated', 4562), ('processor', 7046), ('82', 244), ('but be', 1650), ('privately', 7010), ('installing', 4550), ('infection the', 4487), ('hq', 4199), ('wallops', 10285), ('but most', 1668), ('gov pub', 3807), ('refers to', 7369), ('meant to', 5549), ('not used', 6065), ('others are', 6560), ('aim', 457), ('chain', 1911), ('holes in', 4147), ('102', 32)])"
      ]
     },
     "execution_count": 133,
     "metadata": {},
     "output_type": "execute_result"
    }
   ],
   "source": [
    "count_vectorizer.vocabulary_.items()"
   ]
  },
  {
   "cell_type": "code",
   "execution_count": 142,
   "metadata": {},
   "outputs": [],
   "source": [
    "import operator\n",
    "sorted_x = sorted( count_vectorizer.vocabulary_.items(), key=operator.itemgetter(1))"
   ]
  },
  {
   "cell_type": "code",
   "execution_count": 147,
   "metadata": {},
   "outputs": [
    {
     "ename": "AttributeError",
     "evalue": "'CountVectorizer' object has no attribute 'vocabulary_'",
     "output_type": "error",
     "traceback": [
      "\u001b[1;31m---------------------------------------------------------------------------\u001b[0m",
      "\u001b[1;31mAttributeError\u001b[0m                            Traceback (most recent call last)",
      "\u001b[1;32m<ipython-input-147-b098860b0e4b>\u001b[0m in \u001b[0;36m<module>\u001b[1;34m\u001b[0m\n\u001b[1;32m----> 1\u001b[1;33m \u001b[0mcount_vectorizer\u001b[0m\u001b[1;33m.\u001b[0m\u001b[0mvocabulary_\u001b[0m\u001b[1;33m[\u001b[0m\u001b[1;34m\"000\"\u001b[0m\u001b[1;33m]\u001b[0m\u001b[1;33m\u001b[0m\u001b[1;33m\u001b[0m\u001b[0m\n\u001b[0m",
      "\u001b[1;31mAttributeError\u001b[0m: 'CountVectorizer' object has no attribute 'vocabulary_'"
     ]
    }
   ],
   "source": [
    "count_vectorizer.vocabulary_[\"000\"]"
   ]
  },
  {
   "cell_type": "code",
   "execution_count": 143,
   "metadata": {},
   "outputs": [
    {
     "data": {
      "text/plain": [
       "[('00', 0),\n",
       " ('00 and', 1),\n",
       " ('000', 2),\n",
       " ('000 000', 3),\n",
       " ('000 feet', 4),\n",
       " ('000 to', 5),\n",
       " ('01', 6),\n",
       " ('01 14', 7),\n",
       " ('02', 8),\n",
       " ('03', 9),\n",
       " ('04', 10),\n",
       " ('04 01', 11),\n",
       " ('05', 12),\n",
       " ('06', 13),\n",
       " ('07', 14),\n",
       " ('08', 15),\n",
       " ('09', 16),\n",
       " ('10', 17),\n",
       " ('10 00', 18),\n",
       " ('10 000', 19),\n",
       " ('10 15', 20),\n",
       " ('10 20', 21),\n",
       " ('10 30', 22),\n",
       " ('10 of', 23),\n",
       " ('10 or', 24),\n",
       " ('10 to', 25),\n",
       " ('10 years', 26),\n",
       " ('100', 27),\n",
       " ('100 000', 28),\n",
       " ('100 or', 29),\n",
       " ('1000', 30),\n",
       " ('101', 31),\n",
       " ('102', 32),\n",
       " ('104', 33),\n",
       " ('11', 34),\n",
       " ('110', 35),\n",
       " ('111', 36),\n",
       " ('115', 37),\n",
       " ('1174', 38),\n",
       " ('1174 intergraph', 39),\n",
       " ('12', 40),\n",
       " ('120', 41),\n",
       " ('1200', 42),\n",
       " ('121', 43),\n",
       " ('125', 44),\n",
       " ('128', 45),\n",
       " ('129', 46),\n",
       " ('12v', 47),\n",
       " ('13', 48),\n",
       " ('130', 49),\n",
       " ('135', 50),\n",
       " ('14', 51),\n",
       " ('14 39', 52),\n",
       " ('147', 53),\n",
       " ('149', 54),\n",
       " ('15', 55),\n",
       " ('15 1993', 56),\n",
       " ('15 years', 57),\n",
       " ('150', 58),\n",
       " ('1500', 59),\n",
       " ('16', 60),\n",
       " ('16 1993', 61),\n",
       " ('1600', 62),\n",
       " ('17', 63),\n",
       " ('18', 64),\n",
       " ('1800', 65),\n",
       " ('18084tm', 66),\n",
       " ('18084tm ibm', 67),\n",
       " ('19', 68),\n",
       " ('1950', 69),\n",
       " ('1960', 70),\n",
       " ('1960s', 71),\n",
       " ('1963', 72),\n",
       " ('1965', 73),\n",
       " ('1970', 74),\n",
       " ('1971', 75),\n",
       " ('1972', 76),\n",
       " ('1973', 77),\n",
       " ('1975', 78),\n",
       " ('1976', 79),\n",
       " ('1977', 80),\n",
       " ('1979', 81),\n",
       " ('1980', 82),\n",
       " ('1981', 83),\n",
       " ('1982', 84),\n",
       " ('1983', 85),\n",
       " ('1984', 86),\n",
       " ('1985', 87),\n",
       " ('1986', 88),\n",
       " ('1987', 89),\n",
       " ('1988', 90),\n",
       " ('1989', 91),\n",
       " ('1990', 92),\n",
       " ('1990 the', 93),\n",
       " ('1991', 94),\n",
       " ('1992', 95),\n",
       " ('1992 the', 96),\n",
       " ('1993', 97),\n",
       " ('1993 at', 98),\n",
       " ('1993 the', 99),\n",
       " ('1994', 100),\n",
       " ('1996', 101),\n",
       " ('1999', 102),\n",
       " ('19th', 103),\n",
       " ('1a', 104),\n",
       " ('1g', 105),\n",
       " ('1st', 106),\n",
       " ('20', 107),\n",
       " ('20 000', 108),\n",
       " ('20 20', 109),\n",
       " ('20 years', 110),\n",
       " ('200', 111),\n",
       " ('2000', 112),\n",
       " ('201', 113),\n",
       " ('202', 114),\n",
       " ('203', 115),\n",
       " ('205', 116),\n",
       " ('205 730', 117),\n",
       " ('205 837', 118),\n",
       " ('209', 119),\n",
       " ('21', 120),\n",
       " ('2109', 121),\n",
       " ('2109 email', 122),\n",
       " ('213', 123),\n",
       " ('214', 124),\n",
       " ('215', 125),\n",
       " ('216', 126),\n",
       " ('2178', 127),\n",
       " ('2178 wk', 128),\n",
       " ('22', 129),\n",
       " ('220', 130),\n",
       " ('23', 131),\n",
       " ('23 1993', 132),\n",
       " ('24', 133),\n",
       " ('24 hours', 134),\n",
       " ('25', 135),\n",
       " ('250', 136),\n",
       " ('253', 137),\n",
       " ('256k', 138),\n",
       " ('26', 139),\n",
       " ('27', 140),\n",
       " ('275', 141),\n",
       " ('28', 142),\n",
       " ('286', 143),\n",
       " ('29', 144),\n",
       " ('2nd', 145),\n",
       " ('30', 146),\n",
       " ('30 days', 147),\n",
       " ('30 minutes', 148),\n",
       " ('30 of', 149),\n",
       " ('30 years', 150),\n",
       " ('300', 151),\n",
       " ('3000', 152),\n",
       " ('301', 153),\n",
       " ('31', 154),\n",
       " ('310', 155),\n",
       " ('3169', 156),\n",
       " ('3169 ssd', 157),\n",
       " ('32', 158),\n",
       " ('33', 159),\n",
       " ('336', 160),\n",
       " ('336 9591', 161),\n",
       " ('34', 162),\n",
       " ('35', 163),\n",
       " ('350', 164),\n",
       " ('354', 165),\n",
       " ('355', 166),\n",
       " ('355 2178', 167),\n",
       " ('35894', 168),\n",
       " ('35894 uucp', 169),\n",
       " ('36', 170),\n",
       " ('37', 171),\n",
       " ('38', 172),\n",
       " ('380', 173),\n",
       " ('39', 174),\n",
       " ('3rd', 175),\n",
       " ('40', 176),\n",
       " ('400', 177),\n",
       " ('4000', 178),\n",
       " ('408', 179),\n",
       " ('41', 180),\n",
       " ('42', 181),\n",
       " ('43', 182),\n",
       " ('4368', 183),\n",
       " ('44', 184),\n",
       " ('45', 185),\n",
       " ('46', 186),\n",
       " ('47', 187),\n",
       " ('48', 188),\n",
       " ('4800', 189),\n",
       " ('483', 190),\n",
       " ('483 4368', 191),\n",
       " ('486', 192),\n",
       " ('49', 193),\n",
       " ('4th', 194),\n",
       " ('50', 195),\n",
       " ('50 000', 196),\n",
       " ('50 or', 197),\n",
       " ('50 years', 198),\n",
       " ('500', 199),\n",
       " ('500 000', 200),\n",
       " ('51', 201),\n",
       " ('512', 202),\n",
       " ('517', 203),\n",
       " ('517 355', 204),\n",
       " ('52', 205),\n",
       " ('55', 206),\n",
       " ('56', 207),\n",
       " ('57', 208),\n",
       " ('58', 209),\n",
       " ('59', 210),\n",
       " ('5v', 211),\n",
       " ('60', 212),\n",
       " ('600', 213),\n",
       " ('6000', 214),\n",
       " ('602', 215),\n",
       " ('61', 216),\n",
       " ('61 805', 217),\n",
       " ('617', 218),\n",
       " ('63', 219),\n",
       " ('65', 220),\n",
       " ('66', 221),\n",
       " ('69', 222),\n",
       " ('6th', 223),\n",
       " ('70', 224),\n",
       " ('703', 225),\n",
       " ('71', 226),\n",
       " ('713', 227),\n",
       " ('713 483', 228),\n",
       " ('73', 229),\n",
       " ('730', 230),\n",
       " ('730 3169', 231),\n",
       " ('75', 232),\n",
       " ('750', 233),\n",
       " ('76', 234),\n",
       " ('7th', 235),\n",
       " ('80', 236),\n",
       " ('800', 237),\n",
       " ('805', 238),\n",
       " ('805 8959', 239),\n",
       " ('805 8983', 240),\n",
       " ('8051', 241),\n",
       " ('81', 242),\n",
       " ('818', 243),\n",
       " ('82', 244),\n",
       " ('837', 245),\n",
       " ('837 1174', 246),\n",
       " ('85', 247),\n",
       " ('86', 248),\n",
       " ('860', 249),\n",
       " ('87', 250),\n",
       " ('88', 251),\n",
       " ('89', 252),\n",
       " ('890', 253),\n",
       " ('8959', 254),\n",
       " ('8959 fax', 255),\n",
       " ('8983', 256),\n",
       " ('90', 257),\n",
       " ('90 of', 258),\n",
       " ('900', 259),\n",
       " ('91', 260),\n",
       " ('92', 261),\n",
       " ('93', 262),\n",
       " ('93 04', 263),\n",
       " ('94', 264),\n",
       " ('95', 265),\n",
       " ('955', 266),\n",
       " ('9591', 267),\n",
       " ('9591 hm', 268),\n",
       " ('96', 269),\n",
       " ('9600', 270),\n",
       " ('98', 271),\n",
       " ('99', 272),\n",
       " ('_the', 273),\n",
       " ('abbreviation', 274),\n",
       " ('abdominal', 275),\n",
       " ('ability', 276),\n",
       " ('ability to', 277),\n",
       " ('able', 278),\n",
       " ('able to', 279),\n",
       " ('about', 280),\n",
       " ('about 10', 281),\n",
       " ('about 100', 282),\n",
       " ('about 15', 283),\n",
       " ('about 20', 284),\n",
       " ('about 30', 285),\n",
       " ('about 50', 286),\n",
       " ('about an', 287),\n",
       " ('about every', 288),\n",
       " ('about how', 289),\n",
       " ('about it', 290),\n",
       " ('about months', 291),\n",
       " ('about my', 292),\n",
       " ('about that', 293),\n",
       " ('about the', 294),\n",
       " ('about their', 295),\n",
       " ('about them', 296),\n",
       " ('about these', 297),\n",
       " ('about this', 298),\n",
       " ('about to', 299),\n",
       " ('about week', 300),\n",
       " ('about what', 301),\n",
       " ('about years', 302),\n",
       " ('about your', 303),\n",
       " ('above', 304),\n",
       " ('above and', 305),\n",
       " ('above the', 306),\n",
       " ('absolute', 307),\n",
       " ('absolutely', 308),\n",
       " ('absolutely no', 309),\n",
       " ('absorbed', 310),\n",
       " ('absorption', 311),\n",
       " ('abuse', 312),\n",
       " ('ac', 313),\n",
       " ('ac uk', 314),\n",
       " ('acad3', 315),\n",
       " ('acad3 alaska', 316),\n",
       " ('academic', 317),\n",
       " ('academy', 318),\n",
       " ('acceleration', 319),\n",
       " ('accept', 320),\n",
       " ('acceptable', 321),\n",
       " ('acceptance', 322),\n",
       " ('accepted', 323),\n",
       " ('access', 324),\n",
       " ('access digex', 325),\n",
       " ('access to', 326),\n",
       " ('accessible', 327),\n",
       " ('accident', 328),\n",
       " ('accidental', 329),\n",
       " ('accomplish', 330),\n",
       " ('according', 331),\n",
       " ('according to', 332),\n",
       " ('account', 333),\n",
       " ('accounting', 334),\n",
       " ('accuracy', 335),\n",
       " ('accuracy of', 336),\n",
       " ('accurate', 337),\n",
       " ('accurately', 338),\n",
       " ('achieve', 339),\n",
       " ('achieved', 340),\n",
       " ('achieving', 341),\n",
       " ('acid', 342),\n",
       " ('acidophilus', 343),\n",
       " ('acids', 344),\n",
       " ('acquisition', 345),\n",
       " ('across', 346),\n",
       " ('across the', 347),\n",
       " ('act', 348),\n",
       " ('act as', 349),\n",
       " ('acting', 350),\n",
       " ('action', 351),\n",
       " ('actions', 352),\n",
       " ('activated', 353),\n",
       " ('active', 354),\n",
       " ('active in', 355),\n",
       " ('activities', 356),\n",
       " ('activity', 357),\n",
       " ('activity and', 358),\n",
       " ('acts', 359),\n",
       " ('actual', 360),\n",
       " ('actually', 361),\n",
       " ('actually be', 362),\n",
       " ('actually the', 363),\n",
       " ('acupuncture', 364),\n",
       " ('acute', 365),\n",
       " ('ad', 366),\n",
       " ('adams', 367),\n",
       " ('adapter', 368),\n",
       " ('adcom', 369),\n",
       " ('add', 370),\n",
       " ('add that', 371),\n",
       " ('added', 372),\n",
       " ('added to', 373),\n",
       " ('adding', 374),\n",
       " ('addition', 375),\n",
       " ('addition to', 376),\n",
       " ('additional', 377),\n",
       " ('additive', 378),\n",
       " ('additives', 379),\n",
       " ('address', 380),\n",
       " ('address the', 381),\n",
       " ('addressed', 382),\n",
       " ('addresses', 383),\n",
       " ('adequate', 384),\n",
       " ('adequately', 385),\n",
       " ('adjust', 386),\n",
       " ('adjustable', 387),\n",
       " ('adjustment', 388),\n",
       " ('administered', 389),\n",
       " ('administration', 390),\n",
       " ('administrative', 391),\n",
       " ('admit', 392),\n",
       " ('adult', 393),\n",
       " ('adults', 394),\n",
       " ('advance', 395),\n",
       " ('advance for', 396),\n",
       " ('advanced', 397),\n",
       " ('advances', 398),\n",
       " ('advantage', 399),\n",
       " ('advantage of', 400),\n",
       " ('advantages', 401),\n",
       " ('adverse', 402),\n",
       " ('advertising', 403),\n",
       " ('advice', 404),\n",
       " ('advisory', 405),\n",
       " ('advisory committee', 406),\n",
       " ('advocacy', 407),\n",
       " ('advocate', 408),\n",
       " ('aero', 409),\n",
       " ('aeronautics', 410),\n",
       " ('aeronautics and', 411),\n",
       " ('aerospace', 412),\n",
       " ('af', 413),\n",
       " ('affect', 414),\n",
       " ('affected', 415),\n",
       " ('affected by', 416),\n",
       " ('affecting', 417),\n",
       " ('afford', 418),\n",
       " ('afford to', 419),\n",
       " ('afraid', 420),\n",
       " ('africa', 421),\n",
       " ('after', 422),\n",
       " ('after all', 423),\n",
       " ('after having', 424),\n",
       " ('after it', 425),\n",
       " ('after the', 426),\n",
       " ('after this', 427),\n",
       " ('after you', 428),\n",
       " ('afterwards', 429),\n",
       " ('again', 430),\n",
       " ('again the', 431),\n",
       " ('against', 432),\n",
       " ('against the', 433),\n",
       " ('age', 434),\n",
       " ('age and', 435),\n",
       " ('age of', 436),\n",
       " ('agencies', 437),\n",
       " ('agency', 438),\n",
       " ('agent', 439),\n",
       " ('aggressively', 440),\n",
       " ('ago', 441),\n",
       " ('ago about', 442),\n",
       " ('ago and', 443),\n",
       " ('agree', 444),\n",
       " ('agree on', 445),\n",
       " ('agree that', 446),\n",
       " ('agree with', 447),\n",
       " ('agreed', 448),\n",
       " ('agreement', 449),\n",
       " ('ahead', 450),\n",
       " ('ahead and', 451),\n",
       " ('ahead of', 452),\n",
       " ('ai', 453),\n",
       " ('aiaa', 454),\n",
       " ('aid', 455),\n",
       " ('aids', 456),\n",
       " ('aim', 457),\n",
       " ('aimed', 458),\n",
       " ('aimed at', 459),\n",
       " ('air', 460),\n",
       " ('air force', 461),\n",
       " ('aircraft', 462),\n",
       " ('airplane', 463),\n",
       " ('airport', 464),\n",
       " ('aka', 465),\n",
       " ('al', 466),\n",
       " ('al 35894', 467),\n",
       " ('alabama', 468),\n",
       " ('alan', 469),\n",
       " ('alas', 470),\n",
       " ('alaska', 471),\n",
       " ('alaska edu', 472),\n",
       " ('albeit', 473),\n",
       " ('albert', 474),\n",
       " ('albicans', 475),\n",
       " ('alcohol', 476),\n",
       " ('alexander', 477),\n",
       " ('algorithm', 478),\n",
       " ('algorithms', 479),\n",
       " ('alien', 480),\n",
       " ('alive', 481),\n",
       " ('all', 482),\n",
       " ('all can', 483),\n",
       " ('all in', 484),\n",
       " ('all it', 485),\n",
       " ('all kinds', 486),\n",
       " ('all my', 487),\n",
       " ('all of', 488),\n",
       " ('all over', 489),\n",
       " ('all sorts', 490),\n",
       " ('all that', 491),\n",
       " ('all the', 492),\n",
       " ('all they', 493),\n",
       " ('all this', 494),\n",
       " ('all those', 495),\n",
       " ('all three', 496),\n",
       " ('all you', 497),\n",
       " ('all your', 498),\n",
       " ('alleged', 499),\n",
       " ('allen', 500),\n",
       " ('allergic', 501),\n",
       " ('allergic reaction', 502),\n",
       " ('allergic to', 503),\n",
       " ('allergies', 504),\n",
       " ('allergy', 505),\n",
       " ('alleviate', 506),\n",
       " ('allow', 507),\n",
       " ('allow the', 508),\n",
       " ('allowed', 509),\n",
       " ('allowed to', 510),\n",
       " ('allowing', 511),\n",
       " ('allows', 512),\n",
       " ('almost', 513),\n",
       " ('almost certainly', 514),\n",
       " ('almost everything', 515),\n",
       " ('alone', 516),\n",
       " ('along', 517),\n",
       " ('along the', 518),\n",
       " ('along with', 519),\n",
       " ('alot', 520),\n",
       " ('alot of', 521),\n",
       " ('already', 522),\n",
       " ('already have', 523),\n",
       " ('already in', 524),\n",
       " ('als', 525),\n",
       " ('also', 526),\n",
       " ('also are', 527),\n",
       " ('also available', 528),\n",
       " ('also be', 529),\n",
       " ('also called', 530),\n",
       " ('also don', 531),\n",
       " ('also had', 532),\n",
       " ('also has', 533),\n",
       " ('also have', 534),\n",
       " ('also if', 535),\n",
       " ('also in', 536),\n",
       " ('also is', 537),\n",
       " ('also provides', 538),\n",
       " ('also remember', 539),\n",
       " ('also the', 540),\n",
       " ('also to', 541),\n",
       " ('alt', 542),\n",
       " ('altered', 543),\n",
       " ('alternative', 544),\n",
       " ('alternative medicine', 545),\n",
       " ('alternative to', 546),\n",
       " ('alternatives', 547),\n",
       " ('although', 548),\n",
       " ('although it', 549),\n",
       " ('although the', 550),\n",
       " ('altitude', 551),\n",
       " ('altitude of', 552),\n",
       " ('aluminum', 553),\n",
       " ('always', 554),\n",
       " ('always been', 555),\n",
       " ('am', 556),\n",
       " ('am currently', 557),\n",
       " ('am doing', 558),\n",
       " ('am going', 559),\n",
       " ('am having', 560),\n",
       " ('am in', 561),\n",
       " ('am looking', 562),\n",
       " ('am not', 563),\n",
       " ('am posting', 564),\n",
       " ('am sure', 565),\n",
       " ('am trying', 566),\n",
       " ('amateur', 567),\n",
       " ('amateur radio', 568),\n",
       " ('amazing', 569),\n",
       " ('america', 570),\n",
       " ('american', 571),\n",
       " ('ames', 572),\n",
       " ('ames arc', 573),\n",
       " ('ames dryden', 574),\n",
       " ('ames research', 575),\n",
       " ('ames space', 576),\n",
       " ('amiga', 577),\n",
       " ('amino', 578),\n",
       " ('amino acid', 579),\n",
       " ('among', 580),\n",
       " ('among other', 581),\n",
       " ('among the', 582),\n",
       " ('amount', 583),\n",
       " ('amount of', 584),\n",
       " ('amounts', 585),\n",
       " ('amounts of', 586),\n",
       " ('amp', 587),\n",
       " ('amp and', 588),\n",
       " ('amp is', 589),\n",
       " ('amplification', 590),\n",
       " ('amplifier', 591),\n",
       " ('amplitude', 592),\n",
       " ('amps', 593),\n",
       " ('amsat', 594),\n",
       " ('an', 595),\n",
       " ('an active', 596),\n",
       " ('an ad', 597),\n",
       " ('an additional', 598),\n",
       " ('an allergic', 599),\n",
       " ('an alternative', 600),\n",
       " ('an altitude', 601),\n",
       " ('an article', 602),\n",
       " ('an average', 603),\n",
       " ('an electrical', 604),\n",
       " ('an email', 605),\n",
       " ('an emergency', 606),\n",
       " ('an essential', 607),\n",
       " ('an example', 608),\n",
       " ('an excellent', 609),\n",
       " ('an external', 610),\n",
       " ('an extremely', 611),\n",
       " ('an ftp', 612),\n",
       " ('an hour', 613),\n",
       " ('an idea', 614),\n",
       " ('an image', 615),\n",
       " ('an important', 616),\n",
       " ('an inflatable', 617),\n",
       " ('an interesting', 618),\n",
       " ('an international', 619),\n",
       " ('an object', 620),\n",
       " ('an official', 621),\n",
       " ('an old', 622),\n",
       " ('an on', 623),\n",
       " ('an open', 624),\n",
       " ('an orbit', 625),\n",
       " ('an orbital', 626),\n",
       " ('an output', 627),\n",
       " ('anal', 628),\n",
       " ('analog', 629),\n",
       " ('analogy', 630),\n",
       " ('analyses', 631),\n",
       " ('analysis', 632),\n",
       " ('analysis of', 633),\n",
       " ('analyzed', 634),\n",
       " ('and', 635),\n",
       " ('and about', 636),\n",
       " ('and after', 637),\n",
       " ('and all', 638),\n",
       " ('and almost', 639),\n",
       " ('and also', 640),\n",
       " ('and am', 641),\n",
       " ('and an', 642),\n",
       " ('and are', 643),\n",
       " ('and as', 644),\n",
       " ('and ask', 645),\n",
       " ('and at', 646),\n",
       " ('and be', 647),\n",
       " ('and because', 648),\n",
       " ('and believe', 649),\n",
       " ('and better', 650),\n",
       " ('and building', 651),\n",
       " ('and built', 652),\n",
       " ('and by', 653),\n",
       " ('and came', 654),\n",
       " ('and can', 655),\n",
       " ('and cognitivists', 656),\n",
       " ('and commercial', 657),\n",
       " ('and control', 658),\n",
       " ('and data', 659),\n",
       " ('and design', 660),\n",
       " ('and development', 661),\n",
       " ('and did', 662),\n",
       " ('and disease', 663),\n",
       " ('and do', 664),\n",
       " ('and does', 665),\n",
       " ('and don', 666),\n",
       " ('and down', 667),\n",
       " ('and drug', 668),\n",
       " ('and engineers', 669),\n",
       " ('and even', 670),\n",
       " ('and eventually', 671),\n",
       " ('and everything', 672),\n",
       " ('and few', 673),\n",
       " ('and flight', 674),\n",
       " ('and for', 675),\n",
       " ('and found', 676),\n",
       " ('and from', 677),\n",
       " ('and geb', 678),\n",
       " ('and general', 679),\n",
       " ('and get', 680),\n",
       " ('and getting', 681),\n",
       " ('and give', 682),\n",
       " ('and go', 683),\n",
       " ('and good', 684),\n",
       " ('and ground', 685),\n",
       " ('and had', 686),\n",
       " ('and has', 687),\n",
       " ('and have', 688),\n",
       " ('and he', 689),\n",
       " ('and help', 690),\n",
       " ('and hence', 691),\n",
       " ('and high', 692),\n",
       " ('and his', 693),\n",
       " ('and how', 694),\n",
       " ('and human', 695),\n",
       " ('and if', 696),\n",
       " ('and in', 697),\n",
       " ('and include', 698),\n",
       " ('and includes', 699),\n",
       " ('and information', 700),\n",
       " ('and international', 701),\n",
       " ('and is', 702),\n",
       " ('and it', 703),\n",
       " ('and its', 704),\n",
       " ('and just', 705),\n",
       " ('and keep', 706),\n",
       " ('and know', 707),\n",
       " ('and left', 708),\n",
       " ('and less', 709),\n",
       " ('and like', 710),\n",
       " ('and ll', 711),\n",
       " ('and long', 712),\n",
       " ('and look', 713),\n",
       " ('and lot', 714),\n",
       " ('and low', 715),\n",
       " ('and made', 716),\n",
       " ('and make', 717),\n",
       " ('and many', 718),\n",
       " ('and may', 719),\n",
       " ('and maybe', 720),\n",
       " ('and money', 721),\n",
       " ('and more', 722),\n",
       " ('and most', 723),\n",
       " ('and much', 724),\n",
       " ('and my', 725),\n",
       " ('and nasa', 726),\n",
       " ('and need', 727),\n",
       " ('and never', 728),\n",
       " ('and no', 729),\n",
       " ('and non', 730),\n",
       " ('and not', 731),\n",
       " ('and of', 732),\n",
       " ('and off', 733),\n",
       " ('and on', 734),\n",
       " ('and one', 735),\n",
       " ('and only', 736),\n",
       " ('and or', 737),\n",
       " ('and other', 738),\n",
       " ('and others', 739),\n",
       " ('and out', 740),\n",
       " ('and over', 741),\n",
       " ('and perhaps', 742),\n",
       " ('and planetary', 743),\n",
       " ('and possibly', 744),\n",
       " ('and power', 745),\n",
       " ('and probably', 746),\n",
       " ('and published', 747),\n",
       " ('and put', 748),\n",
       " ('and related', 749),\n",
       " ('and run', 750),\n",
       " ('and safety', 751),\n",
       " ('and sci', 752),\n",
       " ('and scientific', 753),\n",
       " ('and see', 754),\n",
       " ('and set', 755),\n",
       " ('and she', 756),\n",
       " ('and should', 757),\n",
       " ('and so', 758),\n",
       " ('and social', 759),\n",
       " ('and software', 760),\n",
       " ('and some', 761),\n",
       " ('and sometimes', 762),\n",
       " ('and space', 763),\n",
       " ('and still', 764),\n",
       " ('and such', 765),\n",
       " ('and systems', 766),\n",
       " ('and take', 767),\n",
       " ('and technology', 768),\n",
       " ('and test', 769),\n",
       " ('and that', 770),\n",
       " ('and the', 771),\n",
       " ('and their', 772),\n",
       " ('and then', 773),\n",
       " ('and there', 774),\n",
       " ('and therefore', 775),\n",
       " ('and they', 776),\n",
       " ('and think', 777),\n",
       " ('and this', 778),\n",
       " ('and those', 779),\n",
       " ('and three', 780),\n",
       " ('and thus', 781),\n",
       " ('and time', 782),\n",
       " ('and to', 783),\n",
       " ('and treatment', 784),\n",
       " ('and two', 785),\n",
       " ('and up', 786),\n",
       " ('and use', 787),\n",
       " ('and used', 788),\n",
       " ('and usually', 789),\n",
       " ('and ve', 790),\n",
       " ('and very', 791),\n",
       " ('and was', 792),\n",
       " ('and we', 793),\n",
       " ('and well', 794),\n",
       " ('and were', 795),\n",
       " ('and what', 796),\n",
       " ('and when', 797),\n",
       " ('and where', 798),\n",
       " ('and which', 799),\n",
       " ('and white', 800),\n",
       " ('and who', 801),\n",
       " ('and why', 802),\n",
       " ('and will', 803),\n",
       " ('and with', 804),\n",
       " ('and work', 805),\n",
       " ('and would', 806),\n",
       " ('and yes', 807),\n",
       " ('and you', 808),\n",
       " ('and your', 809),\n",
       " ('anderson', 810),\n",
       " ('andrew', 811),\n",
       " ('andy', 812),\n",
       " ('anecdotal', 813),\n",
       " ('anecdotal evidence', 814),\n",
       " ('angeles', 815),\n",
       " ('angeles ca', 816),\n",
       " ('anger', 817),\n",
       " ('angle', 818),\n",
       " ('angle of', 819),\n",
       " ('angles', 820),\n",
       " ('animal', 821),\n",
       " ('animals', 822),\n",
       " ('ann', 823),\n",
       " ('announce', 824),\n",
       " ('announced', 825),\n",
       " ('announcement', 826),\n",
       " ('annual', 827),\n",
       " ('anonymous', 828),\n",
       " ('anonymous ftp', 829),\n",
       " ('another', 830),\n",
       " ('another year', 831),\n",
       " ('ans', 832),\n",
       " ('answer', 833),\n",
       " ('answer to', 834),\n",
       " ('answer your', 835),\n",
       " ('answered', 836),\n",
       " ('answers', 837),\n",
       " ('answers and', 838),\n",
       " ('answers to', 839),\n",
       " ('antenna', 840),\n",
       " ('antennas', 841),\n",
       " ('anthony', 842),\n",
       " ('anti', 843),\n",
       " ('antibiotic', 844),\n",
       " ('antibiotics', 845),\n",
       " ('any', 846),\n",
       " ('any advice', 847),\n",
       " ('any case', 848),\n",
       " ('any experience', 849),\n",
       " ('any good', 850),\n",
       " ('any help', 851),\n",
       " ('any ideas', 852),\n",
       " ('any info', 853),\n",
       " ('any information', 854),\n",
       " ('any kind', 855),\n",
       " ('any more', 856),\n",
       " ('any new', 857),\n",
       " ('any of', 858),\n",
       " ('any one', 859),\n",
       " ('any opinions', 860),\n",
       " ('any other', 861),\n",
       " ('any significant', 862),\n",
       " ('any sort', 863),\n",
       " ('any suggestions', 864),\n",
       " ('any way', 865),\n",
       " ('anybody', 866),\n",
       " ('anybody know', 867),\n",
       " ('anybody out', 868),\n",
       " ('anymore', 869),\n",
       " ('anyone', 870),\n",
       " ('anyone can', 871),\n",
       " ('anyone could', 872),\n",
       " ('anyone else', 873),\n",
       " ('anyone has', 874),\n",
       " ('anyone have', 875),\n",
       " ('anyone interested', 876),\n",
       " ('anyone know', 877),\n",
       " ('anyone knows', 878),\n",
       " ('anyone out', 879),\n",
       " ('anyone tell', 880),\n",
       " ('anyone who', 881),\n",
       " ('anyone would', 882),\n",
       " ('anything', 883),\n",
       " ('anything about', 884),\n",
       " ('anything but', 885),\n",
       " ('anything else', 886),\n",
       " ('anything like', 887),\n",
       " ('anything that', 888),\n",
       " ('anything to', 889),\n",
       " ('anyway', 890),\n",
       " ('anyway the', 891),\n",
       " ('anyways', 892),\n",
       " ('anywhere', 893),\n",
       " ('anywhere in', 894),\n",
       " ('apart', 895),\n",
       " ('apollo', 896),\n",
       " ('apparent', 897),\n",
       " ('apparently', 898),\n",
       " ('appear', 899),\n",
       " ('appear in', 900),\n",
       " ('appear to', 901),\n",
       " ('appearance', 902),\n",
       " ('appeared', 903),\n",
       " ('appears', 904),\n",
       " ('appears to', 905),\n",
       " ('apple', 906),\n",
       " ('application', 907),\n",
       " ('application of', 908),\n",
       " ('applications', 909),\n",
       " ('applications and', 910),\n",
       " ('applications of', 911),\n",
       " ('applied', 912),\n",
       " ('applied to', 913),\n",
       " ('applies', 914),\n",
       " ('applies to', 915),\n",
       " ('apply', 916),\n",
       " ('apply for', 917),\n",
       " ('apply to', 918),\n",
       " ('applying', 919),\n",
       " ('appreciate', 920),\n",
       " ('appreciate any', 921),\n",
       " ('appreciate it', 922),\n",
       " ('appreciated', 923),\n",
       " ('appreciated thanks', 924),\n",
       " ('approach', 925),\n",
       " ('approach to', 926),\n",
       " ('approaches', 927),\n",
       " ('appropriate', 928),\n",
       " ('appropriate to', 929),\n",
       " ('approve', 930),\n",
       " ('approved', 931),\n",
       " ('approximately', 932),\n",
       " ('apr', 933),\n",
       " ('apr 16', 934),\n",
       " ('apr 1993', 935),\n",
       " ('apr 93', 936),\n",
       " ('april', 937),\n",
       " ('april 14', 938),\n",
       " ('april 15', 939),\n",
       " ('april 1993', 940),\n",
       " ('april 23', 941),\n",
       " ('arc', 942),\n",
       " ('arc nasa', 943),\n",
       " ('archive', 944),\n",
       " ('archive in', 945),\n",
       " ('archive name', 946),\n",
       " ('are', 947),\n",
       " ('are about', 948),\n",
       " ('are actually', 949),\n",
       " ('are all', 950),\n",
       " ('are also', 951),\n",
       " ('are an', 952),\n",
       " ('are and', 953),\n",
       " ('are as', 954),\n",
       " ('are at', 955),\n",
       " ('are available', 956),\n",
       " ('are basically', 957),\n",
       " ('are being', 958),\n",
       " ('are bit', 959),\n",
       " ('are called', 960),\n",
       " ('are carried', 961),\n",
       " ('are completely', 962),\n",
       " ('are connected', 963),\n",
       " ('are currently', 964),\n",
       " ('are doing', 965),\n",
       " ('are expected', 966),\n",
       " ('are few', 967),\n",
       " ('are for', 968),\n",
       " ('are generally', 969),\n",
       " ('are getting', 970),\n",
       " ('are going', 971),\n",
       " ('are good', 972),\n",
       " ('are in', 973),\n",
       " ('are interested', 974),\n",
       " ('are just', 975),\n",
       " ('are less', 976),\n",
       " ('are like', 977),\n",
       " ('are looking', 978),\n",
       " ('are lot', 979),\n",
       " ('are made', 980),\n",
       " ('are many', 981),\n",
       " ('are more', 982),\n",
       " ('are much', 983),\n",
       " ('are my', 984),\n",
       " ('are no', 985),\n",
       " ('are not', 986),\n",
       " ('are now', 987),\n",
       " ('are of', 988),\n",
       " ('are often', 989),\n",
       " ('are on', 990),\n",
       " ('are only', 991),\n",
       " ('are possible', 992),\n",
       " ('are pretty', 993),\n",
       " ('are probably', 994),\n",
       " ('are provided', 995),\n",
       " ('are quite', 996),\n",
       " ('are really', 997),\n",
       " ('are required', 998),\n",
       " ('are several', 999),\n",
       " ...]"
      ]
     },
     "execution_count": 143,
     "metadata": {},
     "output_type": "execute_result"
    }
   ],
   "source": [
    "sorted_x"
   ]
  },
  {
   "cell_type": "markdown",
   "metadata": {},
   "source": [
    "Слова с наибольшим положительным весом, являются характерными словами темы"
   ]
  },
  {
   "cell_type": "code",
   "execution_count": 71,
   "metadata": {},
   "outputs": [],
   "source": [
    "from sklearn.linear_model import LogisticRegression\n",
    "from sklearn.metrics import accuracy_score, f1_score\n",
    "from sklearn.metrics.scorer import make_scorer\n",
    "from sklearn.model_selection import cross_val_score, GridSearchCV"
   ]
  },
  {
   "cell_type": "markdown",
   "metadata": {},
   "source": [
    "Воспользуемся `macro`-average для оценки качества решения в задаче многоклассовой классификации."
   ]
  },
  {
   "cell_type": "code",
   "execution_count": 72,
   "metadata": {},
   "outputs": [],
   "source": [
    "f_scorer = make_scorer(f1_score, average='macro')"
   ]
  },
  {
   "cell_type": "markdown",
   "metadata": {},
   "source": [
    "Обучим логистическую регрессию для предсказания темы документа"
   ]
  },
  {
   "cell_type": "code",
   "execution_count": 73,
   "metadata": {},
   "outputs": [
    {
     "data": {
      "text/plain": [
       "LogisticRegression(C=1e-05, class_weight=None, dual=False, fit_intercept=True,\n",
       "                   intercept_scaling=1, l1_ratio=None, max_iter=100,\n",
       "                   multi_class='warn', n_jobs=None, penalty='l2',\n",
       "                   random_state=None, solver='warn', tol=0.0001, verbose=0,\n",
       "                   warm_start=False)"
      ]
     },
     "execution_count": 73,
     "metadata": {},
     "output_type": "execute_result"
    }
   ],
   "source": [
    "algo = LogisticRegression(C=0.00001)\n",
    "algo.fit(sparse_feature_matrix, train_data.target)"
   ]
  },
  {
   "cell_type": "code",
   "execution_count": 74,
   "metadata": {},
   "outputs": [
    {
     "name": "stdout",
     "output_type": "stream",
     "text": [
      "wiring,  neutral,  outlets,  grounding,  wires,  conductor,  the neutral,  outlet,  steam,  grounded\n",
      "hiv,  keyboard,  aids,  candida,  number 10,  vitamin,  child,  typing,  of health,  dept\n",
      "astronomical,  astronaut,  probes,  ssf,  redesign,  van,  mercury,  sensing,  centaur,  remote sensing\n"
     ]
    }
   ],
   "source": [
    "W = algo.coef_.shape[1]\n",
    "for c in algo.classes_:\n",
    "    topic_words = [\n",
    "        num_2_words[w_num]\n",
    "        for w_num in heapq.nlargest(10, range(W), key=lambda w: algo.coef_[c, w])\n",
    "    ]\n",
    "    print(',  '.join(topic_words))\n"
   ]
  },
  {
   "cell_type": "markdown",
   "metadata": {},
   "source": [
    "Сравним качество на обучающей и отложенной выборках."
   ]
  },
  {
   "cell_type": "code",
   "execution_count": 75,
   "metadata": {},
   "outputs": [
    {
     "data": {
      "text/plain": [
       "LogisticRegression(C=1e-05, class_weight=None, dual=False, fit_intercept=True,\n",
       "                   intercept_scaling=1, l1_ratio=None, max_iter=100,\n",
       "                   multi_class='warn', n_jobs=None, penalty='l2',\n",
       "                   random_state=None, solver='warn', tol=0.0001, verbose=0,\n",
       "                   warm_start=False)"
      ]
     },
     "execution_count": 75,
     "metadata": {},
     "output_type": "execute_result"
    }
   ],
   "source": [
    "algo.fit(sparse_feature_matrix, train_data.target)"
   ]
  },
  {
   "cell_type": "code",
   "execution_count": 76,
   "metadata": {
    "scrolled": true
   },
   "outputs": [
    {
     "data": {
      "text/plain": [
       "0.88865057543570369"
      ]
     },
     "execution_count": 76,
     "metadata": {},
     "output_type": "execute_result"
    }
   ],
   "source": [
    "f_scorer(algo, sparse_feature_matrix, train_data.target)"
   ]
  },
  {
   "cell_type": "code",
   "execution_count": 77,
   "metadata": {},
   "outputs": [
    {
     "data": {
      "text/plain": [
       "0.73933349510636581"
      ]
     },
     "execution_count": 77,
     "metadata": {},
     "output_type": "execute_result"
    }
   ],
   "source": [
    "f_scorer(algo, count_vectorizer.transform(test_data.data), test_data.target)"
   ]
  },
  {
   "cell_type": "code",
   "execution_count": 82,
   "metadata": {},
   "outputs": [
    {
     "data": {
      "text/plain": [
       "'-*-----\\n\\n\\nI hope Gordon Banks did not mean to imply that notions such as\\nhard-to-see candida infections causing various problems should not\\nbe investigated.  Many researchers have made breakthroughs by \\nfiguring out how to investigate things that were previously thought\\n\"virtually impossible to test for.\"\\n\\nIndeed, I would be surprised if \"candida overbloom\" were such a\\nphenomena.  I would think that candida would produce signature\\nbyproducts whose measure would then set a lower bound on the \\nextent of recent infection.  I realize this might get quite \\ntricky and difficult, probably expensive, and likely inconvenient\\nor uncomfortable to the subjects, but that is not the same as \\n\"virtually impossible.\"'"
      ]
     },
     "execution_count": 82,
     "metadata": {},
     "output_type": "execute_result"
    }
   ],
   "source": [
    "train_data.data[20]"
   ]
  },
  {
   "cell_type": "markdown",
   "metadata": {
    "collapsed": true
   },
   "source": [
    "Значения f-меры получились очень низкие.\n",
    "\n",
    "**Вопрос:** в чём причина?"
   ]
  },
  {
   "cell_type": "code",
   "execution_count": 78,
   "metadata": {},
   "outputs": [
    {
     "data": {
      "image/png": "[encoded data removed]",
      "text/plain": [
       "<Figure size 432x288 with 1 Axes>"
      ]
     },
     "metadata": {
      "needs_background": "light"
     },
     "output_type": "display_data"
    }
   ],
   "source": [
    "plt.hist(algo.coef_[0], bins=500)\n",
    "plt.xlim([-0.0006, 0.0006])\n",
    "plt.show()"
   ]
  },
  {
   "cell_type": "markdown",
   "metadata": {},
   "source": [
    "** Какую выбрать метрику для регуляризации? **"
   ]
  },
  {
   "cell_type": "code",
   "execution_count": 83,
   "metadata": {},
   "outputs": [
    {
     "name": "stderr",
     "output_type": "stream",
     "text": [
      "C:\\Apps\\anaconda3\\lib\\site-packages\\sklearn\\linear_model\\logistic.py:432: FutureWarning: Default solver will be changed to 'lbfgs' in 0.22. Specify a solver to silence this warning.\n",
      "  FutureWarning)\n",
      "C:\\Apps\\anaconda3\\lib\\site-packages\\sklearn\\linear_model\\logistic.py:469: FutureWarning: Default multi_class will be changed to 'auto' in 0.22. Specify the multi_class option to silence this warning.\n",
      "  \"this warning.\", FutureWarning)\n"
     ]
    },
    {
     "name": "stdout",
     "output_type": "stream",
     "text": [
      "[ 0.41684388  0.39465958  0.41908457  0.39169935  0.40437525]\n",
      "0.405332526494\n"
     ]
    }
   ],
   "source": [
    "algo = LogisticRegression(penalty='l1', C=0.1)\n",
    "arr = cross_val_score(algo, sparse_feature_matrix, train_data.target, cv=5, scoring=f_scorer)\n",
    "print(arr)\n",
    "print(np.mean(arr))"
   ]
  },
  {
   "cell_type": "code",
   "execution_count": 84,
   "metadata": {},
   "outputs": [
    {
     "data": {
      "text/plain": [
       "LogisticRegression(C=0.1, class_weight=None, dual=False, fit_intercept=True,\n",
       "                   intercept_scaling=1, l1_ratio=None, max_iter=100,\n",
       "                   multi_class='warn', n_jobs=None, penalty='l1',\n",
       "                   random_state=None, solver='warn', tol=0.0001, verbose=0,\n",
       "                   warm_start=False)"
      ]
     },
     "execution_count": 84,
     "metadata": {},
     "output_type": "execute_result"
    }
   ],
   "source": [
    "algo.fit(sparse_feature_matrix, train_data.target)"
   ]
  },
  {
   "cell_type": "code",
   "execution_count": 85,
   "metadata": {
    "scrolled": false
   },
   "outputs": [
    {
     "data": {
      "text/plain": [
       "0.54798167087433247"
      ]
     },
     "execution_count": 85,
     "metadata": {},
     "output_type": "execute_result"
    }
   ],
   "source": [
    "f_scorer(algo, sparse_feature_matrix, train_data.target)"
   ]
  },
  {
   "cell_type": "code",
   "execution_count": 86,
   "metadata": {},
   "outputs": [
    {
     "data": {
      "text/plain": [
       "0.50416181235731572"
      ]
     },
     "execution_count": 86,
     "metadata": {},
     "output_type": "execute_result"
    }
   ],
   "source": [
    "f_scorer(algo, count_vectorizer.transform(test_data.data), test_data.target)"
   ]
  },
  {
   "cell_type": "markdown",
   "metadata": {},
   "source": [
    "Подберём оптимальное значение параметра регуляризации"
   ]
  },
  {
   "cell_type": "code",
   "execution_count": 87,
   "metadata": {},
   "outputs": [],
   "source": [
    "def grid_plot(x, y, x_label, title, y_label='f_measure'):\n",
    "    plt.figure(figsize=(12, 6))\n",
    "    plt.grid(True),\n",
    "    plt.plot(x, y, 'go-')\n",
    "    plt.xlabel(x_label)\n",
    "    plt.ylabel(y_label)\n",
    "    plt.title(title)"
   ]
  },
  {
   "cell_type": "code",
   "execution_count": 88,
   "metadata": {},
   "outputs": [
    {
     "name": "stdout",
     "output_type": "stream",
     "text": [
      "0.01 0.027825594022071243 0.0774263682681127 0.21544346900318834 0.5994842503189409 1.6681005372000592 4.6415888336127775 12.915496650148826 35.93813663804626 100.0\n"
     ]
    }
   ],
   "source": [
    "print(*map(float, np.logspace(-2, 2, 10)))"
   ]
  },
  {
   "cell_type": "code",
   "execution_count": 90,
   "metadata": {},
   "outputs": [
    {
     "name": "stdout",
     "output_type": "stream",
     "text": [
      "Wall time: 3.84 s\n",
      "best_params: {'C': 0.027825594022071243}, best_score: 0.84823622776607\n"
     ]
    },
    {
     "name": "stderr",
     "output_type": "stream",
     "text": [
      "C:\\Apps\\anaconda3\\lib\\site-packages\\sklearn\\linear_model\\logistic.py:432: FutureWarning: Default solver will be changed to 'lbfgs' in 0.22. Specify a solver to silence this warning.\n",
      "  FutureWarning)\n",
      "C:\\Apps\\anaconda3\\lib\\site-packages\\sklearn\\linear_model\\logistic.py:469: FutureWarning: Default multi_class will be changed to 'auto' in 0.22. Specify the multi_class option to silence this warning.\n",
      "  \"this warning.\", FutureWarning)\n"
     ]
    }
   ],
   "source": [
    "lr_grid = {\n",
    "    'C': np.logspace(-2, 2, 10),\n",
    "}\n",
    "gs = GridSearchCV(LogisticRegression(penalty='l2'), lr_grid, scoring=f_scorer, cv=5, n_jobs=5)\n",
    "%time  gs.fit(sparse_feature_matrix, train_data.target)\n",
    "print(\"best_params: {}, best_score: {}\".format(gs.best_params_, gs.best_score_))"
   ]
  },
  {
   "cell_type": "markdown",
   "metadata": {},
   "source": [
    "Рассмотрим график:"
   ]
  },
  {
   "cell_type": "code",
   "execution_count": 91,
   "metadata": {},
   "outputs": [
    {
     "data": {
      "image/png": "[encoded data removed]",
      "text/plain": [
       "<Figure size 864x432 with 1 Axes>"
      ]
     },
     "metadata": {
      "needs_background": "light"
     },
     "output_type": "display_data"
    }
   ],
   "source": [
    "grid_plot(\n",
    "    lr_grid['C'], gs.cv_results_['mean_test_score'], 'C - coefficient of regularization', 'LogReg(penalty=l1)'\n",
    ")"
   ]
  },
  {
   "cell_type": "code",
   "execution_count": 97,
   "metadata": {
    "scrolled": true
   },
   "outputs": [
    {
     "name": "stdout",
     "output_type": "stream",
     "text": [
      "Wall time: 9.28 s\n",
      "best_params: {'C': 0.02658974358974359}, best_score: 0.8483652300106335\n"
     ]
    },
    {
     "name": "stderr",
     "output_type": "stream",
     "text": [
      "C:\\Apps\\anaconda3\\lib\\site-packages\\sklearn\\linear_model\\logistic.py:432: FutureWarning: Default solver will be changed to 'lbfgs' in 0.22. Specify a solver to silence this warning.\n",
      "  FutureWarning)\n",
      "C:\\Apps\\anaconda3\\lib\\site-packages\\sklearn\\linear_model\\logistic.py:469: FutureWarning: Default multi_class will be changed to 'auto' in 0.22. Specify the multi_class option to silence this warning.\n",
      "  \"this warning.\", FutureWarning)\n"
     ]
    }
   ],
   "source": [
    "lr_grid = {\n",
    "    'C': np.linspace(0.001, 0.5, 40),\n",
    "}\n",
    "gs = GridSearchCV(LogisticRegression(penalty='l2'), lr_grid, scoring=f_scorer, cv=5, n_jobs=5)\n",
    "%time  gs.fit(sparse_feature_matrix, train_data.target)\n",
    "print(\"best_params: {}, best_score: {}\".format(gs.best_params_, gs.best_score_))"
   ]
  },
  {
   "cell_type": "code",
   "execution_count": 98,
   "metadata": {},
   "outputs": [
    {
     "data": {
      "image/png": "[encoded data removed]",
      "text/plain": [
       "<Figure size 864x432 with 1 Axes>"
      ]
     },
     "metadata": {
      "needs_background": "light"
     },
     "output_type": "display_data"
    }
   ],
   "source": [
    "grid_plot(\n",
    "    lr_grid['C'], gs.cv_results_['mean_test_score'], 'C - coefficient of regularization', 'LogReg(penalty=l1)'\n",
    ")"
   ]
  },
  {
   "cell_type": "code",
   "execution_count": 99,
   "metadata": {},
   "outputs": [
    {
     "name": "stdout",
     "output_type": "stream",
     "text": [
      "Wall time: 104 ms\n"
     ]
    },
    {
     "data": {
      "text/plain": [
       "LogisticRegression(C=10, class_weight=None, dual=False, fit_intercept=True,\n",
       "                   intercept_scaling=1, l1_ratio=None, max_iter=100,\n",
       "                   multi_class='warn', n_jobs=None, penalty='l1',\n",
       "                   random_state=None, solver='warn', tol=0.0001, verbose=0,\n",
       "                   warm_start=False)"
      ]
     },
     "execution_count": 99,
     "metadata": {},
     "output_type": "execute_result"
    }
   ],
   "source": [
    "    lr_final = LogisticRegression(penalty='l1', C=10)\n",
    "%time lr_final.fit(sparse_feature_matrix, train_data.target)"
   ]
  },
  {
   "cell_type": "code",
   "execution_count": 100,
   "metadata": {
    "scrolled": true
   },
   "outputs": [
    {
     "data": {
      "text/plain": [
       "0.97750281214848145"
      ]
     },
     "execution_count": 100,
     "metadata": {},
     "output_type": "execute_result"
    }
   ],
   "source": [
    "accuracy_score(lr_final.predict(sparse_feature_matrix), train_data.target)"
   ]
  },
  {
   "cell_type": "code",
   "execution_count": 101,
   "metadata": {
    "scrolled": false
   },
   "outputs": [
    {
     "data": {
      "text/plain": [
       "0.97768055155088496"
      ]
     },
     "execution_count": 101,
     "metadata": {},
     "output_type": "execute_result"
    }
   ],
   "source": [
    "f_scorer(lr_final, sparse_feature_matrix, train_data.target)"
   ]
  },
  {
   "cell_type": "code",
   "execution_count": 102,
   "metadata": {},
   "outputs": [
    {
     "data": {
      "text/plain": [
       "0.65765004226542689"
      ]
     },
     "execution_count": 102,
     "metadata": {},
     "output_type": "execute_result"
    }
   ],
   "source": [
    "accuracy_score(lr_final.predict(count_vectorizer.transform(test_data.data)), test_data.target)"
   ]
  },
  {
   "cell_type": "code",
   "execution_count": 103,
   "metadata": {},
   "outputs": [
    {
     "data": {
      "text/plain": [
       "0.6593955461436446"
      ]
     },
     "execution_count": 103,
     "metadata": {},
     "output_type": "execute_result"
    }
   ],
   "source": [
    "f_scorer(lr_final, count_vectorizer.transform(test_data.data), test_data.target)"
   ]
  },
  {
   "cell_type": "markdown",
   "metadata": {},
   "source": [
    "## Регуляризация вместе с векторизацией признаков\n",
    "Чтобы не делать векторизацию и обучение раздельно, есть удобный класс Pipeline. Он позволяет объединить в цепочку последовательность действий"
   ]
  },
  {
   "cell_type": "code",
   "execution_count": 104,
   "metadata": {},
   "outputs": [],
   "source": [
    "from sklearn.pipeline import Pipeline"
   ]
  },
  {
   "cell_type": "code",
   "execution_count": 105,
   "metadata": {},
   "outputs": [],
   "source": [
    "pipeline = Pipeline([\n",
    "    (\"vectorizer\", CountVectorizer(min_df=5, ngram_range=(1, 2))),\n",
    "    (\"algo\", LogisticRegression())\n",
    "])"
   ]
  },
  {
   "cell_type": "code",
   "execution_count": 106,
   "metadata": {},
   "outputs": [
    {
     "data": {
      "text/plain": [
       "Pipeline(memory=None,\n",
       "         steps=[('vectorizer',\n",
       "                 CountVectorizer(analyzer='word', binary=False,\n",
       "                                 decode_error='strict',\n",
       "                                 dtype=<class 'numpy.int64'>, encoding='utf-8',\n",
       "                                 input='content', lowercase=True, max_df=1.0,\n",
       "                                 max_features=None, min_df=5,\n",
       "                                 ngram_range=(1, 2), preprocessor=None,\n",
       "                                 stop_words=None, strip_accents=None,\n",
       "                                 token_pattern='(?u)\\\\b\\\\w\\\\w+\\\\b',\n",
       "                                 tokenizer=None, vocabulary=None)),\n",
       "                ('algo',\n",
       "                 LogisticRegression(C=1.0, class_weight=None, dual=False,\n",
       "                                    fit_intercept=True, intercept_scaling=1,\n",
       "                                    l1_ratio=None, max_iter=100,\n",
       "                                    multi_class='warn', n_jobs=None,\n",
       "                                    penalty='l2', random_state=None,\n",
       "                                    solver='warn', tol=0.0001, verbose=0,\n",
       "                                    warm_start=False))],\n",
       "         verbose=False)"
      ]
     },
     "execution_count": 106,
     "metadata": {},
     "output_type": "execute_result"
    }
   ],
   "source": [
    "pipeline.fit(train_data.data, train_data.target)"
   ]
  },
  {
   "cell_type": "code",
   "execution_count": 107,
   "metadata": {
    "scrolled": false
   },
   "outputs": [
    {
     "data": {
      "text/plain": [
       "0.98043637978682829"
      ]
     },
     "execution_count": 107,
     "metadata": {},
     "output_type": "execute_result"
    }
   ],
   "source": [
    "f_scorer(pipeline, train_data.data, train_data.target)"
   ]
  },
  {
   "cell_type": "code",
   "execution_count": 108,
   "metadata": {},
   "outputs": [
    {
     "data": {
      "text/plain": [
       "0.79302041945076363"
      ]
     },
     "execution_count": 108,
     "metadata": {},
     "output_type": "execute_result"
    }
   ],
   "source": [
    "f_scorer(pipeline, test_data.data, test_data.target)"
   ]
  },
  {
   "cell_type": "markdown",
   "metadata": {},
   "source": [
    "Значения такие же как мы получали ранее, делая шаги раздельно."
   ]
  },
  {
   "cell_type": "code",
   "execution_count": 109,
   "metadata": {},
   "outputs": [],
   "source": [
    "from sklearn.pipeline import make_pipeline"
   ]
  },
  {
   "cell_type": "markdown",
   "metadata": {},
   "source": [
    "При кроссвалидации нужно, чтобы CountVectorizer не обучался на тесте (иначе объекты становятся зависимыми). Pipeline позволяет это просто сделать."
   ]
  },
  {
   "cell_type": "code",
   "execution_count": 110,
   "metadata": {},
   "outputs": [
    {
     "name": "stderr",
     "output_type": "stream",
     "text": [
      "C:\\Apps\\anaconda3\\lib\\site-packages\\sklearn\\linear_model\\logistic.py:432: FutureWarning: Default solver will be changed to 'lbfgs' in 0.22. Specify a solver to silence this warning.\n",
      "  FutureWarning)\n",
      "C:\\Apps\\anaconda3\\lib\\site-packages\\sklearn\\linear_model\\logistic.py:469: FutureWarning: Default multi_class will be changed to 'auto' in 0.22. Specify the multi_class option to silence this warning.\n",
      "  \"this warning.\", FutureWarning)\n"
     ]
    },
    {
     "name": "stdout",
     "output_type": "stream",
     "text": [
      "[ 0.83746513  0.84655975  0.82308768  0.83985549  0.83173934]\n",
      "0.835741477532\n"
     ]
    }
   ],
   "source": [
    "pipeline = make_pipeline(CountVectorizer(min_df=5, ngram_range=(1, 2)), LogisticRegression())\n",
    "arr = cross_val_score(pipeline, train_data.data, train_data.target, cv=5, scoring=f_scorer)\n",
    "print(arr)\n",
    "print(np.mean(arr))"
   ]
  },
  {
   "cell_type": "markdown",
   "metadata": {},
   "source": [
    "В Pipeline можно добавлять новые шаги препроцессинга данных"
   ]
  },
  {
   "cell_type": "code",
   "execution_count": 111,
   "metadata": {},
   "outputs": [],
   "source": [
    "from sklearn.feature_extraction.text import TfidfTransformer"
   ]
  },
  {
   "cell_type": "code",
   "execution_count": 112,
   "metadata": {},
   "outputs": [
    {
     "name": "stderr",
     "output_type": "stream",
     "text": [
      "C:\\Apps\\anaconda3\\lib\\site-packages\\sklearn\\linear_model\\logistic.py:432: FutureWarning: Default solver will be changed to 'lbfgs' in 0.22. Specify a solver to silence this warning.\n",
      "  FutureWarning)\n",
      "C:\\Apps\\anaconda3\\lib\\site-packages\\sklearn\\linear_model\\logistic.py:469: FutureWarning: Default multi_class will be changed to 'auto' in 0.22. Specify the multi_class option to silence this warning.\n",
      "  \"this warning.\", FutureWarning)\n"
     ]
    },
    {
     "name": "stdout",
     "output_type": "stream",
     "text": [
      "[ 0.8711115   0.8703129   0.8482986   0.85701424  0.84020672]\n",
      "0.857388794386\n"
     ]
    }
   ],
   "source": [
    "pipeline = make_pipeline(CountVectorizer(min_df=5, ngram_range=(1, 2)), TfidfTransformer(), LogisticRegression())\n",
    "arr = cross_val_score(pipeline, train_data.data, train_data.target, cv=5, scoring=f_scorer)\n",
    "print(arr)\n",
    "print(np.mean(arr))"
   ]
  },
  {
   "cell_type": "code",
   "execution_count": 113,
   "metadata": {},
   "outputs": [
    {
     "data": {
      "text/plain": [
       "Pipeline(memory=None,\n",
       "         steps=[('countvectorizer',\n",
       "                 CountVectorizer(analyzer='word', binary=False,\n",
       "                                 decode_error='strict',\n",
       "                                 dtype=<class 'numpy.int64'>, encoding='utf-8',\n",
       "                                 input='content', lowercase=True, max_df=1.0,\n",
       "                                 max_features=None, min_df=5,\n",
       "                                 ngram_range=(1, 2), preprocessor=None,\n",
       "                                 stop_words=None, strip_accents=None,\n",
       "                                 token_pattern='(?u)\\\\b\\\\w\\\\w+\\\\b',\n",
       "                                 tokenizer=None, voc...\n",
       "                 TfidfTransformer(norm='l2', smooth_idf=True,\n",
       "                                  sublinear_tf=False, use_idf=True)),\n",
       "                ('logisticregression',\n",
       "                 LogisticRegression(C=1.0, class_weight=None, dual=False,\n",
       "                                    fit_intercept=True, intercept_scaling=1,\n",
       "                                    l1_ratio=None, max_iter=100,\n",
       "                                    multi_class='warn', n_jobs=None,\n",
       "                                    penalty='l2', random_state=None,\n",
       "                                    solver='warn', tol=0.0001, verbose=0,\n",
       "                                    warm_start=False))],\n",
       "         verbose=False)"
      ]
     },
     "execution_count": 113,
     "metadata": {},
     "output_type": "execute_result"
    }
   ],
   "source": [
    "pipeline.fit(train_data.data, train_data.target)"
   ]
  },
  {
   "cell_type": "code",
   "execution_count": 114,
   "metadata": {
    "scrolled": true
   },
   "outputs": [
    {
     "data": {
      "text/plain": [
       "0.96962879640044997"
      ]
     },
     "execution_count": 114,
     "metadata": {},
     "output_type": "execute_result"
    }
   ],
   "source": [
    "accuracy_score(pipeline.predict(train_data.data), train_data.target)"
   ]
  },
  {
   "cell_type": "code",
   "execution_count": 115,
   "metadata": {
    "scrolled": false
   },
   "outputs": [
    {
     "data": {
      "text/plain": [
       "0.96977974559971047"
      ]
     },
     "execution_count": 115,
     "metadata": {},
     "output_type": "execute_result"
    }
   ],
   "source": [
    "f_scorer(pipeline, train_data.data, train_data.target)"
   ]
  },
  {
   "cell_type": "code",
   "execution_count": 116,
   "metadata": {},
   "outputs": [
    {
     "data": {
      "text/plain": [
       "0.82417582417582413"
      ]
     },
     "execution_count": 116,
     "metadata": {},
     "output_type": "execute_result"
    }
   ],
   "source": [
    "accuracy_score(pipeline.predict(test_data.data), test_data.target)"
   ]
  },
  {
   "cell_type": "code",
   "execution_count": 117,
   "metadata": {},
   "outputs": [
    {
     "data": {
      "text/plain": [
       "0.8250417787917681"
      ]
     },
     "execution_count": 117,
     "metadata": {},
     "output_type": "execute_result"
    }
   ],
   "source": [
    "f_scorer(pipeline, test_data.data, test_data.target)"
   ]
  },
  {
   "cell_type": "markdown",
   "metadata": {},
   "source": [
    "Качество стало немного лучше"
   ]
  },
  {
   "cell_type": "markdown",
   "metadata": {},
   "source": [
    "# Классификация сообщений чатов"
   ]
  },
  {
   "cell_type": "markdown",
   "metadata": {},
   "source": [
    "В качестве задания предлагается построить модель классификации текстов, соответствующих сообщениям из чатов по ML, Python и знакомствам."
   ]
  },
  {
   "cell_type": "markdown",
   "metadata": {},
   "source": [
    "**Данные** можно взять с <a src=\"https://www.kaggle.com/c/tfstextclassification\">соревнования на Kaggle</a>, проведенное в рамках курса \"Диалоговые системы\" в Тинькофф. Прямая [ссылка](https://www.dropbox.com/s/8wckwzfy63ajxpm/tfstextclassification.zip?dl=0) на скачивание."
   ]
  },
  {
   "cell_type": "code",
   "execution_count": 11,
   "metadata": {},
   "outputs": [],
   "source": [
    "data_path = 'data/{}'\n",
    "df = pd.read_csv('data/train.csv')"
   ]
  },
  {
   "cell_type": "markdown",
   "metadata": {},
   "source": [
    "### Первичный анализ данных"
   ]
  },
  {
   "cell_type": "code",
   "execution_count": 12,
   "metadata": {},
   "outputs": [
    {
     "name": "stdout",
     "output_type": "stream",
     "text": [
      "(112467, 3)\n"
     ]
    }
   ],
   "source": [
    "print(df.shape)"
   ]
  },
  {
   "cell_type": "code",
   "execution_count": 13,
   "metadata": {},
   "outputs": [
    {
     "data": {
      "text/html": [
       "<div>\n",
       "<style scoped>\n",
       "    .dataframe tbody tr th:only-of-type {\n",
       "        vertical-align: middle;\n",
       "    }\n",
       "\n",
       "    .dataframe tbody tr th {\n",
       "        vertical-align: top;\n",
       "    }\n",
       "\n",
       "    .dataframe thead th {\n",
       "        text-align: right;\n",
       "    }\n",
       "</style>\n",
       "<table border=\"1\" class=\"dataframe\">\n",
       "  <thead>\n",
       "    <tr style=\"text-align: right;\">\n",
       "      <th></th>\n",
       "      <th>id</th>\n",
       "      <th>text</th>\n",
       "      <th>label</th>\n",
       "    </tr>\n",
       "  </thead>\n",
       "  <tbody>\n",
       "    <tr>\n",
       "      <th>0</th>\n",
       "      <td>0</td>\n",
       "      <td>ж 44 позн с мужч от 40 лет 0678935919</td>\n",
       "      <td>1</td>\n",
       "    </tr>\n",
       "    <tr>\n",
       "      <th>1</th>\n",
       "      <td>1</td>\n",
       "      <td>уже и не вспомню где это увидел</td>\n",
       "      <td>2</td>\n",
       "    </tr>\n",
       "    <tr>\n",
       "      <th>2</th>\n",
       "      <td>2</td>\n",
       "      <td>, sep=';', decimal=',' может изза этого</td>\n",
       "      <td>2</td>\n",
       "    </tr>\n",
       "    <tr>\n",
       "      <th>3</th>\n",
       "      <td>3</td>\n",
       "      <td>НУЖНА ДЕВ ДЛЯ С\\\\О -19л.0637048428смс</td>\n",
       "      <td>1</td>\n",
       "    </tr>\n",
       "    <tr>\n",
       "      <th>4</th>\n",
       "      <td>4</td>\n",
       "      <td>.М54.ИЩУ Д.Ж.  С-П.ДЛЯ ЛАСК...НЕКМ.0508665030....</td>\n",
       "      <td>1</td>\n",
       "    </tr>\n",
       "  </tbody>\n",
       "</table>\n",
       "</div>"
      ],
      "text/plain": [
       "   id                                               text  label\n",
       "0   0              ж 44 позн с мужч от 40 лет 0678935919      1\n",
       "1   1                    уже и не вспомню где это увидел      2\n",
       "2   2            , sep=';', decimal=',' может изза этого      2\n",
       "3   3              НУЖНА ДЕВ ДЛЯ С\\\\О -19л.0637048428смс      1\n",
       "4   4  .М54.ИЩУ Д.Ж.  С-П.ДЛЯ ЛАСК...НЕКМ.0508665030....      1"
      ]
     },
     "execution_count": 13,
     "metadata": {},
     "output_type": "execute_result"
    }
   ],
   "source": [
    "df.head()"
   ]
  },
  {
   "cell_type": "code",
   "execution_count": 14,
   "metadata": {},
   "outputs": [
    {
     "name": "stdout",
     "output_type": "stream",
     "text": [
      "Label:  0 \n",
      "====================================================================================================\n",
      "\n",
      "А в чём загвоздка-то?\n",
      "----------------------------------------------------------------------------------------------------\n",
      "\n",
      "хм, приходит heart-beat': '10000,10000' но это все равно не в этом дело\\nя не понял про слать heart beat\n",
      "----------------------------------------------------------------------------------------------------\n",
      "\n",
      "Стоит делать так, как удобно делать лично тебе или твоей команде. Если станет неудобно, переделаете рабочий процесс сразу же.\n",
      "----------------------------------------------------------------------------------------------------\n",
      "\n",
      "На си там только куски лексера и энкодера - https://github.com/python/cpython/blob/3.7/Modules/_json.c\n",
      "----------------------------------------------------------------------------------------------------\n",
      "\n",
      "    def __str__(self):\\n        string_size = 20\\n        name_string = str(self.name)\\n        if len(name_string) > string_size:\\n            name_string = name_string[0:string_size-3] + '...'\\n        return '{:<10s}{:<20s}'.format(self.category_id.name, name_string).replace(\" \", '\\\\u3000')\\nкороче  будет так\n",
      "----------------------------------------------------------------------------------------------------\n",
      "\n",
      "run.py: text/x-python; charset=us-ascii\n",
      "----------------------------------------------------------------------------------------------------\n",
      "\n",
      "если ты пишешь на си, то можешь забыть про него\n",
      "----------------------------------------------------------------------------------------------------\n",
      "\n",
      "Вообще, можно безопасно подставить названия колонок через % и плейсхолдеоы, ты же знаешь какие они. А дальше execute\n",
      "----------------------------------------------------------------------------------------------------\n",
      "\n",
      "@Tishka17, кто-то реально использует http://codephoto.ru/ для вставки кода, похоже ☺️\n",
      "----------------------------------------------------------------------------------------------------\n",
      "\n",
      "Хейтить линух бессмысленно, он объективно лучше для того же петона, просто потому, что под него и делается. Вот только часто в линухе приятные мелочи проседают.\n"
     ]
    }
   ],
   "source": [
    "label = 0\n",
    "print('Label: ', label, '\\n'+'='*100+'\\n')\n",
    "print(*df[df['label'] == label].sample(10).text, sep='\\n'+'-'*100+'\\n\\n')"
   ]
  },
  {
   "cell_type": "code",
   "execution_count": 15,
   "metadata": {},
   "outputs": [
    {
     "name": "stdout",
     "output_type": "stream",
     "text": [
      "Label:  1 \n",
      "====================================================================================================\n",
      "\n",
      "ЛЮБИМЫЙ ЗНАЮ ЧТО МОЖНО НА ТРУБ.ПРИЕДУ НА НЕДЕЛЕ.ОЧЕНЬ СКУЧАЮ.КСЮНЯ\n",
      "----------------------------------------------------------------------------------------------------\n",
      "\n",
      "М.в годах. Хочу попробовать с женщиной. Днепр. 0666880067.\n",
      "----------------------------------------------------------------------------------------------------\n",
      "\n",
      "девушки  приезжайте в хорошую компанию.97 561 8200 97 561 8200\n",
      "----------------------------------------------------------------------------------------------------\n",
      "\n",
      "Девушки!кто хочет безумного вечера?Мужчина33.180.82.18см сначала смс0684361501\n",
      "----------------------------------------------------------------------------------------------------\n",
      "\n",
      "Зп/ШЕВЧИК.ХОЧУ МУЖЧИНУ СЕЙЧАС.СМС Предложения.0502526610\n",
      "----------------------------------------------------------------------------------------------------\n",
      "\n",
      "хочу познакомиться симпатичной девушкой 20-23 для с/о.0664778660.\n",
      "----------------------------------------------------------------------------------------------------\n",
      "\n",
      "П26Л ИЩУ ДЕВ ДО 25Л ХОЧУ ОБЩЕНИЯ ЛАСКИ И НЕЖНОСТИ С/О 0957767347\n",
      "----------------------------------------------------------------------------------------------------\n",
      "\n",
      "СКУЧАЮ ЗА ТОБОЙ  ОЧЕНЬ ХОЧУ ТЕБЕ ПОМОЧЬ.БУДЬ СИЛЬНЫМ!ЛЮБЛЮ    ОБНИМАЮ ТЕБЯ МИЛЫЙ!\n",
      "----------------------------------------------------------------------------------------------------\n",
      "\n",
      "КИМ РАЗРЕШ.НЕ ДАЛИ НО Я В СРЕД.ПОПЫТ.КРАТКОСРОЧ.ВЗЯТЬ ДЕРЖИСЬ ЦЕЛУЕМ\n",
      "----------------------------------------------------------------------------------------------------\n",
      "\n",
      ". Юра пазнакомитса с Девушкай мне 24года званите пишите смс +380682129807\n"
     ]
    }
   ],
   "source": [
    "label = 1\n",
    "print('Label: ', label, '\\n'+'='*100+'\\n')\n",
    "print(*df[df['label'] == label].sample(10).text, sep='\\n'+'-'*100+'\\n\\n')"
   ]
  },
  {
   "cell_type": "code",
   "execution_count": 16,
   "metadata": {},
   "outputs": [
    {
     "name": "stdout",
     "output_type": "stream",
     "text": [
      "Label:  2 \n",
      "====================================================================================================\n",
      "\n",
      "Если интересно совсем с нуля\\nто http://tryr.codeschool.com/\\nтам прям совсем азы, и основы, но общее представление дает, хорошо еще, что онлайн, ставить не надо, можно потыкать, понять что не твое и отвалиться\n",
      "----------------------------------------------------------------------------------------------------\n",
      "\n",
      "Мне ж надо еще вспомнить, как их расставляли месяц с лишним назад :)\n",
      "----------------------------------------------------------------------------------------------------\n",
      "\n",
      "Ну не писать же в который раз, вот мы застакали 10  вариаций из 5 архитектур и получили золото на кэгле\n",
      "----------------------------------------------------------------------------------------------------\n",
      "\n",
      "Свод правил законов >> свод действий оператора ПК\n",
      "----------------------------------------------------------------------------------------------------\n",
      "\n",
      "А он разве ещё в бане?\n",
      "----------------------------------------------------------------------------------------------------\n",
      "\n",
      "да, кот здоровский, как в картинках инета\n",
      "----------------------------------------------------------------------------------------------------\n",
      "\n",
      "https://vk.com/wall-114366489_1247\n",
      "----------------------------------------------------------------------------------------------------\n",
      "\n",
      "Подобно тому, как LINQ в шарпе считается, например\n",
      "----------------------------------------------------------------------------------------------------\n",
      "\n",
      "Значит, по паблику должно быть ясно, что это рандом\n",
      "----------------------------------------------------------------------------------------------------\n",
      "\n",
      "у меня у тебе вопросов и нет, я знаю, что ты классный специалист и занят делом, в отличит от большинства вчерашних школьников которые меня тут хейтят)\n"
     ]
    }
   ],
   "source": [
    "label = 2\n",
    "print('Label: ', label, '\\n'+'='*100+'\\n')\n",
    "print(*df[df['label'] == label].sample(10).text, sep='\\n'+'-'*100+'\\n\\n')"
   ]
  },
  {
   "cell_type": "markdown",
   "metadata": {},
   "source": [
    "### Разделим данные на train/test"
   ]
  },
  {
   "cell_type": "code",
   "execution_count": 17,
   "metadata": {},
   "outputs": [
    {
     "name": "stdout",
     "output_type": "stream",
     "text": [
      "(74977, 3) (37490, 3)\n"
     ]
    }
   ],
   "source": [
    "skf = StratifiedKFold(3, random_state=37)\n",
    "train_index, test_index = next(skf.split(df.text, df.label))\n",
    "train_df, test_df = df.iloc[train_index], df.iloc[test_index]\n",
    "print(train_df.shape, test_df.shape)"
   ]
  },
  {
   "cell_type": "code",
   "execution_count": 18,
   "metadata": {},
   "outputs": [
    {
     "data": {
      "text/html": [
       "<div>\n",
       "<style scoped>\n",
       "    .dataframe tbody tr th:only-of-type {\n",
       "        vertical-align: middle;\n",
       "    }\n",
       "\n",
       "    .dataframe tbody tr th {\n",
       "        vertical-align: top;\n",
       "    }\n",
       "\n",
       "    .dataframe thead th {\n",
       "        text-align: right;\n",
       "    }\n",
       "</style>\n",
       "<table border=\"1\" class=\"dataframe\">\n",
       "  <thead>\n",
       "    <tr style=\"text-align: right;\">\n",
       "      <th></th>\n",
       "      <th>id</th>\n",
       "      <th>text</th>\n",
       "      <th>label</th>\n",
       "    </tr>\n",
       "  </thead>\n",
       "  <tbody>\n",
       "    <tr>\n",
       "      <th>37334</th>\n",
       "      <td>37334</td>\n",
       "      <td>.Молодой красивый спортивный парень ищет серьё...</td>\n",
       "      <td>1</td>\n",
       "    </tr>\n",
       "    <tr>\n",
       "      <th>37335</th>\n",
       "      <td>37335</td>\n",
       "      <td>вы озабоченые уточняю для даши было написано:)...</td>\n",
       "      <td>1</td>\n",
       "    </tr>\n",
       "    <tr>\n",
       "      <th>37336</th>\n",
       "      <td>37336</td>\n",
       "      <td>КАБАСЯ Я ТЕБЯ ЛЮБЛЮ И ОЧЕНЬ СКУЧАЮ...ТВОЯ ВИТА...</td>\n",
       "      <td>1</td>\n",
       "    </tr>\n",
       "    <tr>\n",
       "      <th>37337</th>\n",
       "      <td>37337</td>\n",
       "      <td>парень ищет парня  для и\\\\о 093 783 37 87</td>\n",
       "      <td>1</td>\n",
       "    </tr>\n",
       "    <tr>\n",
       "      <th>37339</th>\n",
       "      <td>37339</td>\n",
       "      <td>РОЗСЛАБЛЮ В НОЧНОЕ ВРЕМЯ ПО ТЕЛЕФОНУ.ЦЕНА 10Г....</td>\n",
       "      <td>1</td>\n",
       "    </tr>\n",
       "  </tbody>\n",
       "</table>\n",
       "</div>"
      ],
      "text/plain": [
       "          id                                               text  label\n",
       "37334  37334  .Молодой красивый спортивный парень ищет серьё...      1\n",
       "37335  37335  вы озабоченые уточняю для даши было написано:)...      1\n",
       "37336  37336  КАБАСЯ Я ТЕБЯ ЛЮБЛЮ И ОЧЕНЬ СКУЧАЮ...ТВОЯ ВИТА...      1\n",
       "37337  37337          парень ищет парня  для и\\\\о 093 783 37 87      1\n",
       "37339  37339  РОЗСЛАБЛЮ В НОЧНОЕ ВРЕМЯ ПО ТЕЛЕФОНУ.ЦЕНА 10Г....      1"
      ]
     },
     "execution_count": 18,
     "metadata": {},
     "output_type": "execute_result"
    }
   ],
   "source": [
    "train_df.head()"
   ]
  },
  {
   "cell_type": "code",
   "execution_count": 19,
   "metadata": {},
   "outputs": [
    {
     "data": {
      "text/html": [
       "<div>\n",
       "<style scoped>\n",
       "    .dataframe tbody tr th:only-of-type {\n",
       "        vertical-align: middle;\n",
       "    }\n",
       "\n",
       "    .dataframe tbody tr th {\n",
       "        vertical-align: top;\n",
       "    }\n",
       "\n",
       "    .dataframe thead th {\n",
       "        text-align: right;\n",
       "    }\n",
       "</style>\n",
       "<table border=\"1\" class=\"dataframe\">\n",
       "  <thead>\n",
       "    <tr style=\"text-align: right;\">\n",
       "      <th></th>\n",
       "      <th>id</th>\n",
       "      <th>text</th>\n",
       "      <th>label</th>\n",
       "    </tr>\n",
       "  </thead>\n",
       "  <tbody>\n",
       "    <tr>\n",
       "      <th>0</th>\n",
       "      <td>0</td>\n",
       "      <td>ж 44 позн с мужч от 40 лет 0678935919</td>\n",
       "      <td>1</td>\n",
       "    </tr>\n",
       "    <tr>\n",
       "      <th>1</th>\n",
       "      <td>1</td>\n",
       "      <td>уже и не вспомню где это увидел</td>\n",
       "      <td>2</td>\n",
       "    </tr>\n",
       "    <tr>\n",
       "      <th>2</th>\n",
       "      <td>2</td>\n",
       "      <td>, sep=';', decimal=',' может изза этого</td>\n",
       "      <td>2</td>\n",
       "    </tr>\n",
       "    <tr>\n",
       "      <th>3</th>\n",
       "      <td>3</td>\n",
       "      <td>НУЖНА ДЕВ ДЛЯ С\\\\О -19л.0637048428смс</td>\n",
       "      <td>1</td>\n",
       "    </tr>\n",
       "    <tr>\n",
       "      <th>4</th>\n",
       "      <td>4</td>\n",
       "      <td>.М54.ИЩУ Д.Ж.  С-П.ДЛЯ ЛАСК...НЕКМ.0508665030....</td>\n",
       "      <td>1</td>\n",
       "    </tr>\n",
       "  </tbody>\n",
       "</table>\n",
       "</div>"
      ],
      "text/plain": [
       "   id                                               text  label\n",
       "0   0              ж 44 позн с мужч от 40 лет 0678935919      1\n",
       "1   1                    уже и не вспомню где это увидел      2\n",
       "2   2            , sep=';', decimal=',' может изза этого      2\n",
       "3   3              НУЖНА ДЕВ ДЛЯ С\\\\О -19л.0637048428смс      1\n",
       "4   4  .М54.ИЩУ Д.Ж.  С-П.ДЛЯ ЛАСК...НЕКМ.0508665030....      1"
      ]
     },
     "execution_count": 19,
     "metadata": {},
     "output_type": "execute_result"
    }
   ],
   "source": [
    "test_df.head()"
   ]
  },
  {
   "cell_type": "markdown",
   "metadata": {},
   "source": [
    "## Baseline"
   ]
  },
  {
   "cell_type": "code",
   "execution_count": 83,
   "metadata": {},
   "outputs": [],
   "source": [
    "from sklearn.tree import DecisionTreeClassifier\n",
    "from sklearn.ensemble import RandomForestClassifier\n",
    "from sklearn.decomposition import TruncatedSVD\n",
    "from xgboost.sklearn import XGBClassifier"
   ]
  },
  {
   "cell_type": "markdown",
   "metadata": {},
   "source": [
    "Преобразуем данные"
   ]
  },
  {
   "cell_type": "code",
   "execution_count": 84,
   "metadata": {},
   "outputs": [
    {
     "name": "stdout",
     "output_type": "stream",
     "text": [
      "(74977,)\n",
      "(37490,)\n"
     ]
    }
   ],
   "source": [
    "X_train = train_df.text\n",
    "y_train = train_df.label\n",
    "print(X_train.shape)\n",
    "\n",
    "X_test = test_df.text\n",
    "y_test = test_df.label\n",
    "print(X_test.shape)"
   ]
  },
  {
   "cell_type": "markdown",
   "metadata": {},
   "source": [
    "Подготовим pipeline"
   ]
  },
  {
   "cell_type": "code",
   "execution_count": 85,
   "metadata": {},
   "outputs": [],
   "source": [
    "pipeline = Pipeline([\n",
    "    (\"vectorizer\", CountVectorizer()),\n",
    "    (\"clf\", DecisionTreeClassifier()),\n",
    "])"
   ]
  },
  {
   "cell_type": "markdown",
   "metadata": {},
   "source": [
    "Обучим классификатор"
   ]
  },
  {
   "cell_type": "code",
   "execution_count": 86,
   "metadata": {
    "scrolled": true
   },
   "outputs": [
    {
     "name": "stdout",
     "output_type": "stream",
     "text": [
      "CPU times: user 1min, sys: 398 ms, total: 1min 1s\n",
      "Wall time: 1min 2s\n"
     ]
    }
   ],
   "source": [
    "%%time\n",
    "clf = pipeline\n",
    "clf.fit(X_train, y_train)"
   ]
  },
  {
   "cell_type": "markdown",
   "metadata": {},
   "source": [
    "Оценим качество"
   ]
  },
  {
   "cell_type": "code",
   "execution_count": 87,
   "metadata": {},
   "outputs": [
    {
     "name": "stdout",
     "output_type": "stream",
     "text": [
      "Train_acc: 0.9998, train_f-measure: 0.9998\n"
     ]
    }
   ],
   "source": [
    "print(\"Train_acc: {:.4f}, train_f-measure: {:.4f}\".format(\n",
    "    accuracy_score(clf.predict(X_train), y_train),\n",
    "    f_scorer(clf, X_train, y_train)\n",
    "))"
   ]
  },
  {
   "cell_type": "code",
   "execution_count": 88,
   "metadata": {},
   "outputs": [
    {
     "name": "stdout",
     "output_type": "stream",
     "text": [
      "Test_acc: 0.7898, test_f-measure: 0.7259\n"
     ]
    }
   ],
   "source": [
    "print(\"Test_acc: {:.4f}, test_f-measure: {:.4f}\".format(\n",
    "    accuracy_score(clf.predict(X_test), y_test),\n",
    "    f_scorer(clf, X_test, y_test)\n",
    "))"
   ]
  },
  {
   "cell_type": "markdown",
   "metadata": {},
   "source": [
    "### Your turn\n",
    "\n",
    "Как видим, наша модель переобучилась. Для получения лучших результатов попробуйте воспользоваться более хитрыми и походящими инструментами.\n",
    "\n",
    "1. Попробуйте поработать с параметрами `CountVectorizer`.\n",
    "2. Попробуйте воспользоваться TF-IDF для кодирования текстовой информации ([ссылка](https://scikit-learn.org/stable/modules/generated/sklearn.feature_extraction.text.TfidfVectorizer.html)).\n",
    "3. Попробуйте воспользоваться другими моделями и средствами снижения размерности.\n",
    "\n",
    "Формальный критерий успешности выполнения данного задания: \n",
    "* Проведен честный эксперимент с апробацией различных методов (>=3)\n",
    "* Полученный алгоритм не выказывает явных следов переобучения (качество на train и test не различаются более, чем на 0.03 условных попугая)\n",
    "* Test accuracy >= 0.835, f1-score >= 0.815\n",
    "\n",
    "**0.5 extra points**\n",
    "\n",
    "При частичном выполнении данного задания можно получить неполный балл. Качественный эксперимент, не побивший пороговые значения оценивается неполным баллом на усмотрение преподавателя. При получении пороговых score'ов случайным образом (без анализа) бонус не засчитывается. "
   ]
  },
  {
   "cell_type": "code",
   "execution_count": null,
   "metadata": {},
   "outputs": [],
   "source": []
  }
 ],
 "metadata": {
  "kernelspec": {
   "display_name": "Python 3",
   "language": "python",
   "name": "python3"
  },
  "language_info": {
   "codemirror_mode": {
    "name": "ipython",
    "version": 3
   },
   "file_extension": ".py",
   "mimetype": "text/x-python",
   "name": "python",
   "nbconvert_exporter": "python",
   "pygments_lexer": "ipython3",
   "version": "3.6.8"
  }
 },
 "nbformat": 4,
 "nbformat_minor": 1
}
